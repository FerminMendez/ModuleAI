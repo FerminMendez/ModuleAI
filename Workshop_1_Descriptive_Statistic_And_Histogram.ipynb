{
  "nbformat": 4,
  "nbformat_minor": 0,
  "metadata": {
    "colab": {
      "provenance": [],
      "authorship_tag": "ABX9TyN5zqeOqx/QlMSltPHcCfaJ",
      "include_colab_link": true
    },
    "kernelspec": {
      "name": "python3",
      "display_name": "Python 3"
    },
    "language_info": {
      "name": "python"
    }
  },
  "cells": [
    {
      "cell_type": "markdown",
      "metadata": {
        "id": "view-in-github",
        "colab_type": "text"
      },
      "source": [
        "<a href=\"https://colab.research.google.com/github/FerminMendez/ModuleAI/blob/main/Workshop_1_Descriptive_Statistic_And_Histogram.ipynb\" target=\"_parent\"><img src=\"https://colab.research.google.com/assets/colab-badge.svg\" alt=\"Open In Colab\"/></a>"
      ]
    },
    {
      "cell_type": "markdown",
      "source": [
        "Workshop 1\n",
        "Fermín Méndez García A01703366"
      ],
      "metadata": {
        "id": "uOb_03P51bOy"
      }
    },
    {
      "cell_type": "markdown",
      "source": [
        "2- Medidas de tendencia central\n"
      ],
      "metadata": {
        "id": "hPz3QATbXC_7"
      }
    },
    {
      "cell_type": "markdown",
      "source": [
        "Cuando obtenemos un data set de datos las medidadas de tendencias central media, moda y mediana nos sirven para obtener una idea de con que datos estamos tratando. Con estas medidas a primera vista podemos responde preguntas como ¿Cuál es la magnitud de los datos que tenemos? ¿Cuál es la distribución de los datos? ¿Qué valores se repiten más?\n",
        "\n",
        "*  Media\n",
        "*  Mediana\n",
        "*  Moda\n",
        "\n"
      ],
      "metadata": {
        "id": "ltr8sfqZQGPH"
      }
    },
    {
      "cell_type": "markdown",
      "source": [
        "Por otra parte las medidas de dispersión nos ayudan a entender cómo se distrubuyen los datos y entender si tenemos valores muy parecidos o existen valores extremos en nuestros datos.\n",
        "\n",
        "*   Varianza\n",
        "*   Desviación estándar\n",
        "*   Percentiles /quartiles\n",
        "\n",
        "IQR Inter Quartiles\n",
        "IQR1= -1.5 Q1+ Q2\n",
        "IQR2= 1.5 Q3 +Q2\n",
        "\n",
        "Para obtener un rango de datos no extremo podemos encontrar un limmite inferior y superior a partir de los quartiles:\n",
        "*   Lim_inf= q2-1.5 q1\n",
        "*   Lim _sup= q2 +1.5 q3\n",
        "Con estos rangos los modelos predictuivos en ML funcionan mejor y es una medida para limpiar los datos.\n",
        "Una técnica es que los valores que superen lo limites toman los valores de los limites para no perder datos.\n",
        "\n"
      ],
      "metadata": {
        "id": "rBDDC1QHQGZX"
      }
    },
    {
      "cell_type": "markdown",
      "source": [],
      "metadata": {
        "id": "etVm79l_VWX5"
      }
    },
    {
      "cell_type": "code",
      "source": [
        "import numpy as np\n",
        "import pandas as pd\n",
        "import yfinance as yf\n",
        "\n",
        "BTC=yf.download(tickers=\"BTC-USD\", start=\"2017-01-01\",interval=\"1d\")\n",
        "BTC"
      ],
      "metadata": {
        "id": "PmA130eN45Vy",
        "outputId": "0fea8c12-3854-445e-aa4c-5d270f285d72",
        "colab": {
          "base_uri": "https://localhost:8080/",
          "height": 472
        }
      },
      "execution_count": 24,
      "outputs": [
        {
          "output_type": "stream",
          "name": "stdout",
          "text": [
            "\r[*********************100%%**********************]  1 of 1 completed\n"
          ]
        },
        {
          "output_type": "execute_result",
          "data": {
            "text/plain": [
              "                    Open          High           Low         Close  \\\n",
              "Date                                                                 \n",
              "2017-01-01    963.658020   1003.080017    958.698975    998.325012   \n",
              "2017-01-02    998.617004   1031.390015    996.702026   1021.750000   \n",
              "2017-01-03   1021.599976   1044.079956   1021.599976   1043.839966   \n",
              "2017-01-04   1044.400024   1159.420044   1044.400024   1154.729980   \n",
              "2017-01-05   1156.729980   1191.099976    910.416992   1013.380005   \n",
              "...                  ...           ...           ...           ...   \n",
              "2023-08-11  29424.902344  29517.773438  29253.517578  29397.714844   \n",
              "2023-08-12  29399.787109  29465.113281  29357.587891  29415.964844   \n",
              "2023-08-13  29416.593750  29441.433594  29265.806641  29282.914062   \n",
              "2023-08-14  29283.263672  29660.253906  29124.105469  29408.443359   \n",
              "2023-08-15  29399.732422  29439.121094  29099.738281  29103.250000   \n",
              "\n",
              "               Adj Close       Volume  \n",
              "Date                                   \n",
              "2017-01-01    998.325012    147775008  \n",
              "2017-01-02   1021.750000    222184992  \n",
              "2017-01-03   1043.839966    185168000  \n",
              "2017-01-04   1154.729980    344945984  \n",
              "2017-01-05   1013.380005    510199008  \n",
              "...                  ...          ...  \n",
              "2023-08-11  29397.714844  10195168197  \n",
              "2023-08-12  29415.964844   6194358008  \n",
              "2023-08-13  29282.914062   7329897180  \n",
              "2023-08-14  29408.443359  14013695304  \n",
              "2023-08-15  29103.250000  11077777408  \n",
              "\n",
              "[2418 rows x 6 columns]"
            ],
            "text/html": [
              "\n",
              "\n",
              "  <div id=\"df-52371806-034c-432f-83fa-887df9376082\">\n",
              "    <div class=\"colab-df-container\">\n",
              "      <div>\n",
              "<style scoped>\n",
              "    .dataframe tbody tr th:only-of-type {\n",
              "        vertical-align: middle;\n",
              "    }\n",
              "\n",
              "    .dataframe tbody tr th {\n",
              "        vertical-align: top;\n",
              "    }\n",
              "\n",
              "    .dataframe thead th {\n",
              "        text-align: right;\n",
              "    }\n",
              "</style>\n",
              "<table border=\"1\" class=\"dataframe\">\n",
              "  <thead>\n",
              "    <tr style=\"text-align: right;\">\n",
              "      <th></th>\n",
              "      <th>Open</th>\n",
              "      <th>High</th>\n",
              "      <th>Low</th>\n",
              "      <th>Close</th>\n",
              "      <th>Adj Close</th>\n",
              "      <th>Volume</th>\n",
              "    </tr>\n",
              "    <tr>\n",
              "      <th>Date</th>\n",
              "      <th></th>\n",
              "      <th></th>\n",
              "      <th></th>\n",
              "      <th></th>\n",
              "      <th></th>\n",
              "      <th></th>\n",
              "    </tr>\n",
              "  </thead>\n",
              "  <tbody>\n",
              "    <tr>\n",
              "      <th>2017-01-01</th>\n",
              "      <td>963.658020</td>\n",
              "      <td>1003.080017</td>\n",
              "      <td>958.698975</td>\n",
              "      <td>998.325012</td>\n",
              "      <td>998.325012</td>\n",
              "      <td>147775008</td>\n",
              "    </tr>\n",
              "    <tr>\n",
              "      <th>2017-01-02</th>\n",
              "      <td>998.617004</td>\n",
              "      <td>1031.390015</td>\n",
              "      <td>996.702026</td>\n",
              "      <td>1021.750000</td>\n",
              "      <td>1021.750000</td>\n",
              "      <td>222184992</td>\n",
              "    </tr>\n",
              "    <tr>\n",
              "      <th>2017-01-03</th>\n",
              "      <td>1021.599976</td>\n",
              "      <td>1044.079956</td>\n",
              "      <td>1021.599976</td>\n",
              "      <td>1043.839966</td>\n",
              "      <td>1043.839966</td>\n",
              "      <td>185168000</td>\n",
              "    </tr>\n",
              "    <tr>\n",
              "      <th>2017-01-04</th>\n",
              "      <td>1044.400024</td>\n",
              "      <td>1159.420044</td>\n",
              "      <td>1044.400024</td>\n",
              "      <td>1154.729980</td>\n",
              "      <td>1154.729980</td>\n",
              "      <td>344945984</td>\n",
              "    </tr>\n",
              "    <tr>\n",
              "      <th>2017-01-05</th>\n",
              "      <td>1156.729980</td>\n",
              "      <td>1191.099976</td>\n",
              "      <td>910.416992</td>\n",
              "      <td>1013.380005</td>\n",
              "      <td>1013.380005</td>\n",
              "      <td>510199008</td>\n",
              "    </tr>\n",
              "    <tr>\n",
              "      <th>...</th>\n",
              "      <td>...</td>\n",
              "      <td>...</td>\n",
              "      <td>...</td>\n",
              "      <td>...</td>\n",
              "      <td>...</td>\n",
              "      <td>...</td>\n",
              "    </tr>\n",
              "    <tr>\n",
              "      <th>2023-08-11</th>\n",
              "      <td>29424.902344</td>\n",
              "      <td>29517.773438</td>\n",
              "      <td>29253.517578</td>\n",
              "      <td>29397.714844</td>\n",
              "      <td>29397.714844</td>\n",
              "      <td>10195168197</td>\n",
              "    </tr>\n",
              "    <tr>\n",
              "      <th>2023-08-12</th>\n",
              "      <td>29399.787109</td>\n",
              "      <td>29465.113281</td>\n",
              "      <td>29357.587891</td>\n",
              "      <td>29415.964844</td>\n",
              "      <td>29415.964844</td>\n",
              "      <td>6194358008</td>\n",
              "    </tr>\n",
              "    <tr>\n",
              "      <th>2023-08-13</th>\n",
              "      <td>29416.593750</td>\n",
              "      <td>29441.433594</td>\n",
              "      <td>29265.806641</td>\n",
              "      <td>29282.914062</td>\n",
              "      <td>29282.914062</td>\n",
              "      <td>7329897180</td>\n",
              "    </tr>\n",
              "    <tr>\n",
              "      <th>2023-08-14</th>\n",
              "      <td>29283.263672</td>\n",
              "      <td>29660.253906</td>\n",
              "      <td>29124.105469</td>\n",
              "      <td>29408.443359</td>\n",
              "      <td>29408.443359</td>\n",
              "      <td>14013695304</td>\n",
              "    </tr>\n",
              "    <tr>\n",
              "      <th>2023-08-15</th>\n",
              "      <td>29399.732422</td>\n",
              "      <td>29439.121094</td>\n",
              "      <td>29099.738281</td>\n",
              "      <td>29103.250000</td>\n",
              "      <td>29103.250000</td>\n",
              "      <td>11077777408</td>\n",
              "    </tr>\n",
              "  </tbody>\n",
              "</table>\n",
              "<p>2418 rows × 6 columns</p>\n",
              "</div>\n",
              "      <button class=\"colab-df-convert\" onclick=\"convertToInteractive('df-52371806-034c-432f-83fa-887df9376082')\"\n",
              "              title=\"Convert this dataframe to an interactive table.\"\n",
              "              style=\"display:none;\">\n",
              "\n",
              "  <svg xmlns=\"http://www.w3.org/2000/svg\" height=\"24px\"viewBox=\"0 0 24 24\"\n",
              "       width=\"24px\">\n",
              "    <path d=\"M0 0h24v24H0V0z\" fill=\"none\"/>\n",
              "    <path d=\"M18.56 5.44l.94 2.06.94-2.06 2.06-.94-2.06-.94-.94-2.06-.94 2.06-2.06.94zm-11 1L8.5 8.5l.94-2.06 2.06-.94-2.06-.94L8.5 2.5l-.94 2.06-2.06.94zm10 10l.94 2.06.94-2.06 2.06-.94-2.06-.94-.94-2.06-.94 2.06-2.06.94z\"/><path d=\"M17.41 7.96l-1.37-1.37c-.4-.4-.92-.59-1.43-.59-.52 0-1.04.2-1.43.59L10.3 9.45l-7.72 7.72c-.78.78-.78 2.05 0 2.83L4 21.41c.39.39.9.59 1.41.59.51 0 1.02-.2 1.41-.59l7.78-7.78 2.81-2.81c.8-.78.8-2.07 0-2.86zM5.41 20L4 18.59l7.72-7.72 1.47 1.35L5.41 20z\"/>\n",
              "  </svg>\n",
              "      </button>\n",
              "\n",
              "\n",
              "\n",
              "    <div id=\"df-30dc2d27-fe36-4253-bff3-31f07026c786\">\n",
              "      <button class=\"colab-df-quickchart\" onclick=\"quickchart('df-30dc2d27-fe36-4253-bff3-31f07026c786')\"\n",
              "              title=\"Suggest charts.\"\n",
              "              style=\"display:none;\">\n",
              "\n",
              "<svg xmlns=\"http://www.w3.org/2000/svg\" height=\"24px\"viewBox=\"0 0 24 24\"\n",
              "     width=\"24px\">\n",
              "    <g>\n",
              "        <path d=\"M19 3H5c-1.1 0-2 .9-2 2v14c0 1.1.9 2 2 2h14c1.1 0 2-.9 2-2V5c0-1.1-.9-2-2-2zM9 17H7v-7h2v7zm4 0h-2V7h2v10zm4 0h-2v-4h2v4z\"/>\n",
              "    </g>\n",
              "</svg>\n",
              "      </button>\n",
              "    </div>\n",
              "\n",
              "<style>\n",
              "  .colab-df-quickchart {\n",
              "    background-color: #E8F0FE;\n",
              "    border: none;\n",
              "    border-radius: 50%;\n",
              "    cursor: pointer;\n",
              "    display: none;\n",
              "    fill: #1967D2;\n",
              "    height: 32px;\n",
              "    padding: 0 0 0 0;\n",
              "    width: 32px;\n",
              "  }\n",
              "\n",
              "  .colab-df-quickchart:hover {\n",
              "    background-color: #E2EBFA;\n",
              "    box-shadow: 0px 1px 2px rgba(60, 64, 67, 0.3), 0px 1px 3px 1px rgba(60, 64, 67, 0.15);\n",
              "    fill: #174EA6;\n",
              "  }\n",
              "\n",
              "  [theme=dark] .colab-df-quickchart {\n",
              "    background-color: #3B4455;\n",
              "    fill: #D2E3FC;\n",
              "  }\n",
              "\n",
              "  [theme=dark] .colab-df-quickchart:hover {\n",
              "    background-color: #434B5C;\n",
              "    box-shadow: 0px 1px 3px 1px rgba(0, 0, 0, 0.15);\n",
              "    filter: drop-shadow(0px 1px 2px rgba(0, 0, 0, 0.3));\n",
              "    fill: #FFFFFF;\n",
              "  }\n",
              "</style>\n",
              "\n",
              "    <script>\n",
              "      async function quickchart(key) {\n",
              "        const containerElement = document.querySelector('#' + key);\n",
              "        const charts = await google.colab.kernel.invokeFunction(\n",
              "            'suggestCharts', [key], {});\n",
              "      }\n",
              "    </script>\n",
              "\n",
              "      <script>\n",
              "\n",
              "function displayQuickchartButton(domScope) {\n",
              "  let quickchartButtonEl =\n",
              "    domScope.querySelector('#df-30dc2d27-fe36-4253-bff3-31f07026c786 button.colab-df-quickchart');\n",
              "  quickchartButtonEl.style.display =\n",
              "    google.colab.kernel.accessAllowed ? 'block' : 'none';\n",
              "}\n",
              "\n",
              "        displayQuickchartButton(document);\n",
              "      </script>\n",
              "      <style>\n",
              "    .colab-df-container {\n",
              "      display:flex;\n",
              "      flex-wrap:wrap;\n",
              "      gap: 12px;\n",
              "    }\n",
              "\n",
              "    .colab-df-convert {\n",
              "      background-color: #E8F0FE;\n",
              "      border: none;\n",
              "      border-radius: 50%;\n",
              "      cursor: pointer;\n",
              "      display: none;\n",
              "      fill: #1967D2;\n",
              "      height: 32px;\n",
              "      padding: 0 0 0 0;\n",
              "      width: 32px;\n",
              "    }\n",
              "\n",
              "    .colab-df-convert:hover {\n",
              "      background-color: #E2EBFA;\n",
              "      box-shadow: 0px 1px 2px rgba(60, 64, 67, 0.3), 0px 1px 3px 1px rgba(60, 64, 67, 0.15);\n",
              "      fill: #174EA6;\n",
              "    }\n",
              "\n",
              "    [theme=dark] .colab-df-convert {\n",
              "      background-color: #3B4455;\n",
              "      fill: #D2E3FC;\n",
              "    }\n",
              "\n",
              "    [theme=dark] .colab-df-convert:hover {\n",
              "      background-color: #434B5C;\n",
              "      box-shadow: 0px 1px 3px 1px rgba(0, 0, 0, 0.15);\n",
              "      filter: drop-shadow(0px 1px 2px rgba(0, 0, 0, 0.3));\n",
              "      fill: #FFFFFF;\n",
              "    }\n",
              "  </style>\n",
              "\n",
              "      <script>\n",
              "        const buttonEl =\n",
              "          document.querySelector('#df-52371806-034c-432f-83fa-887df9376082 button.colab-df-convert');\n",
              "        buttonEl.style.display =\n",
              "          google.colab.kernel.accessAllowed ? 'block' : 'none';\n",
              "\n",
              "        async function convertToInteractive(key) {\n",
              "          const element = document.querySelector('#df-52371806-034c-432f-83fa-887df9376082');\n",
              "          const dataTable =\n",
              "            await google.colab.kernel.invokeFunction('convertToInteractive',\n",
              "                                                     [key], {});\n",
              "          if (!dataTable) return;\n",
              "\n",
              "          const docLinkHtml = 'Like what you see? Visit the ' +\n",
              "            '<a target=\"_blank\" href=https://colab.research.google.com/notebooks/data_table.ipynb>data table notebook</a>'\n",
              "            + ' to learn more about interactive tables.';\n",
              "          element.innerHTML = '';\n",
              "          dataTable['output_type'] = 'display_data';\n",
              "          await google.colab.output.renderOutput(dataTable, element);\n",
              "          const docLink = document.createElement('div');\n",
              "          docLink.innerHTML = docLinkHtml;\n",
              "          element.appendChild(docLink);\n",
              "        }\n",
              "      </script>\n",
              "    </div>\n",
              "  </div>\n"
            ]
          },
          "metadata": {},
          "execution_count": 24
        }
      ]
    },
    {
      "cell_type": "code",
      "source": [
        "import matplotlib\n",
        "from matplotlib.pyplot import*\n",
        "plot(BTC[\"Adj Close\"])\n",
        "show()\n"
      ],
      "metadata": {
        "id": "64UtpjKd4-iT",
        "outputId": "01fadcf0-298d-48b8-cb4b-55b79d026b66",
        "colab": {
          "base_uri": "https://localhost:8080/",
          "height": 431
        }
      },
      "execution_count": 25,
      "outputs": [
        {
          "output_type": "display_data",
          "data": {
            "text/plain": [
              "<Figure size 640x480 with 1 Axes>"
            ],
            "image/png": "[encoded data removed]"
          },
          "metadata": {}
        }
      ]
    },
    {
      "cell_type": "code",
      "source": [
        "BTC.info()\n"
      ],
      "metadata": {
        "id": "RPzyEIp95IoR",
        "outputId": "23ad257e-88f5-4b61-c150-656d0ccbea0e",
        "colab": {
          "base_uri": "https://localhost:8080/"
        }
      },
      "execution_count": 26,
      "outputs": [
        {
          "output_type": "stream",
          "name": "stdout",
          "text": [
            "<class 'pandas.core.frame.DataFrame'>\n",
            "DatetimeIndex: 2418 entries, 2017-01-01 to 2023-08-15\n",
            "Data columns (total 6 columns):\n",
            " #   Column     Non-Null Count  Dtype  \n",
            "---  ------     --------------  -----  \n",
            " 0   Open       2418 non-null   float64\n",
            " 1   High       2418 non-null   float64\n",
            " 2   Low        2418 non-null   float64\n",
            " 3   Close      2418 non-null   float64\n",
            " 4   Adj Close  2418 non-null   float64\n",
            " 5   Volume     2418 non-null   int64  \n",
            "dtypes: float64(5), int64(1)\n",
            "memory usage: 132.2 KB\n"
          ]
        }
      ]
    },
    {
      "cell_type": "markdown",
      "source": [
        "Para calcular el interés obtenido en un periodo de tiempo. Siendo ER la tasa de efectividad en un periodo t tenemos que\n",
        "I2=I1*(1+ER)^t\n",
        "Por otra parte, cuando es interés compuesto y los periodos tienden a infinito tenemos que\n",
        "I2=I1*e^r\n",
        "Donde r es el número de periodos que se repite.\n",
        "\n",
        "se puede sustituir el factor de crecimiento por e^t siempre para tener una aproximación si es compuesto a cada segundo o en muchos periodos.\n",
        "\n"
      ],
      "metadata": {
        "id": "BST9UPdFb1ui"
      }
    },
    {
      "cell_type": "markdown",
      "source": [
        "Es común que manipulemos los datos originales. En este caso calcularemos el logaritmo de de los precios. Un resultado interesante es que\n",
        "Effective_rate=e^t-1\n",
        "Donde t es la cantidad de periodos\n"
      ],
      "metadata": {
        "id": "e4Ri9rQXXThu"
      }
    },
    {
      "cell_type": "markdown",
      "source": [
        "r=log(p1/p0)\n",
        "Se usa para encontrar el retorno continuo compuesto.\n",
        "Por otra parte se utiliza R para hacer referencia al retorno simple.\n"
      ],
      "metadata": {
        "id": "dsyVFRC1h1ug"
      }
    },
    {
      "cell_type": "code",
      "source": [
        "BTC[\"R\"] = (BTC[\"Adj Close\"] / BTC[\"Adj Close\"].shift(1)) - 1\n",
        "print(BTC[\"R\"])\n"
      ],
      "metadata": {
        "id": "-im5dlIghpuv",
        "outputId": "fa339672-183d-4504-d058-ea6b65b8e397",
        "colab": {
          "base_uri": "https://localhost:8080/"
        }
      },
      "execution_count": 27,
      "outputs": [
        {
          "output_type": "stream",
          "name": "stdout",
          "text": [
            "Date\n",
            "2017-01-01         NaN\n",
            "2017-01-02    0.023464\n",
            "2017-01-03    0.021620\n",
            "2017-01-04    0.106233\n",
            "2017-01-05   -0.122410\n",
            "                ...   \n",
            "2023-08-11   -0.001083\n",
            "2023-08-12    0.000621\n",
            "2023-08-13   -0.004523\n",
            "2023-08-14    0.004287\n",
            "2023-08-15   -0.010378\n",
            "Name: R, Length: 2418, dtype: float64\n"
          ]
        }
      ]
    },
    {
      "cell_type": "code",
      "source": [
        "BTC[\"r\"] = np.log(BTC['Adj Close']) - np.log(BTC['Adj Close'].shift(1))\n",
        "BTCR = BTC[['R','r']].copy()"
      ],
      "metadata": {
        "id": "No3dzGBDlFxj"
      },
      "execution_count": 28,
      "outputs": []
    },
    {
      "cell_type": "code",
      "source": [
        "BTCR= BTCR.dropna()"
      ],
      "metadata": {
        "id": "U45nilJnlKHK"
      },
      "execution_count": 29,
      "outputs": []
    },
    {
      "cell_type": "markdown",
      "source": [
        "Estadistica descriptiva de retornos\n",
        "\n"
      ],
      "metadata": {
        "id": "eO-jQ4pelS0o"
      }
    },
    {
      "cell_type": "code",
      "source": [
        "sumret = BTC[\"R\"].describe()\n",
        "sumret"
      ],
      "metadata": {
        "id": "pLcGb2NElL04",
        "outputId": "3cfcf6b8-9e93-4df0-fa29-8a551c415230",
        "colab": {
          "base_uri": "https://localhost:8080/"
        }
      },
      "execution_count": 30,
      "outputs": [
        {
          "output_type": "execute_result",
          "data": {
            "text/plain": [
              "count    2417.000000\n",
              "mean        0.002178\n",
              "std         0.039386\n",
              "min        -0.371695\n",
              "25%        -0.014606\n",
              "50%         0.001470\n",
              "75%         0.018931\n",
              "max         0.252472\n",
              "Name: R, dtype: float64"
            ]
          },
          "metadata": {},
          "execution_count": 30
        }
      ]
    },
    {
      "cell_type": "code",
      "source": [
        "BTCR[BTCR[\"R\"]<-0.15]"
      ],
      "metadata": {
        "id": "ZGHHwaAOmT2C",
        "outputId": "a34d2b4c-a554-402c-cc22-1ba86f3abb70",
        "colab": {
          "base_uri": "https://localhost:8080/",
          "height": 238
        }
      },
      "execution_count": 31,
      "outputs": [
        {
          "output_type": "execute_result",
          "data": {
            "text/plain": [
              "                   R         r\n",
              "Date                          \n",
              "2017-09-14 -0.187411 -0.207530\n",
              "2018-01-16 -0.168548 -0.184582\n",
              "2018-02-05 -0.159688 -0.173982\n",
              "2020-03-12 -0.371695 -0.464730\n",
              "2022-06-13 -0.159747 -0.174053"
            ],
            "text/html": [
              "\n",
              "\n",
              "  <div id=\"df-ca9a3c6b-2230-4715-9c6f-7038eaa7760e\">\n",
              "    <div class=\"colab-df-container\">\n",
              "      <div>\n",
              "<style scoped>\n",
              "    .dataframe tbody tr th:only-of-type {\n",
              "        vertical-align: middle;\n",
              "    }\n",
              "\n",
              "    .dataframe tbody tr th {\n",
              "        vertical-align: top;\n",
              "    }\n",
              "\n",
              "    .dataframe thead th {\n",
              "        text-align: right;\n",
              "    }\n",
              "</style>\n",
              "<table border=\"1\" class=\"dataframe\">\n",
              "  <thead>\n",
              "    <tr style=\"text-align: right;\">\n",
              "      <th></th>\n",
              "      <th>R</th>\n",
              "      <th>r</th>\n",
              "    </tr>\n",
              "    <tr>\n",
              "      <th>Date</th>\n",
              "      <th></th>\n",
              "      <th></th>\n",
              "    </tr>\n",
              "  </thead>\n",
              "  <tbody>\n",
              "    <tr>\n",
              "      <th>2017-09-14</th>\n",
              "      <td>-0.187411</td>\n",
              "      <td>-0.207530</td>\n",
              "    </tr>\n",
              "    <tr>\n",
              "      <th>2018-01-16</th>\n",
              "      <td>-0.168548</td>\n",
              "      <td>-0.184582</td>\n",
              "    </tr>\n",
              "    <tr>\n",
              "      <th>2018-02-05</th>\n",
              "      <td>-0.159688</td>\n",
              "      <td>-0.173982</td>\n",
              "    </tr>\n",
              "    <tr>\n",
              "      <th>2020-03-12</th>\n",
              "      <td>-0.371695</td>\n",
              "      <td>-0.464730</td>\n",
              "    </tr>\n",
              "    <tr>\n",
              "      <th>2022-06-13</th>\n",
              "      <td>-0.159747</td>\n",
              "      <td>-0.174053</td>\n",
              "    </tr>\n",
              "  </tbody>\n",
              "</table>\n",
              "</div>\n",
              "      <button class=\"colab-df-convert\" onclick=\"convertToInteractive('df-ca9a3c6b-2230-4715-9c6f-7038eaa7760e')\"\n",
              "              title=\"Convert this dataframe to an interactive table.\"\n",
              "              style=\"display:none;\">\n",
              "\n",
              "  <svg xmlns=\"http://www.w3.org/2000/svg\" height=\"24px\"viewBox=\"0 0 24 24\"\n",
              "       width=\"24px\">\n",
              "    <path d=\"M0 0h24v24H0V0z\" fill=\"none\"/>\n",
              "    <path d=\"M18.56 5.44l.94 2.06.94-2.06 2.06-.94-2.06-.94-.94-2.06-.94 2.06-2.06.94zm-11 1L8.5 8.5l.94-2.06 2.06-.94-2.06-.94L8.5 2.5l-.94 2.06-2.06.94zm10 10l.94 2.06.94-2.06 2.06-.94-2.06-.94-.94-2.06-.94 2.06-2.06.94z\"/><path d=\"M17.41 7.96l-1.37-1.37c-.4-.4-.92-.59-1.43-.59-.52 0-1.04.2-1.43.59L10.3 9.45l-7.72 7.72c-.78.78-.78 2.05 0 2.83L4 21.41c.39.39.9.59 1.41.59.51 0 1.02-.2 1.41-.59l7.78-7.78 2.81-2.81c.8-.78.8-2.07 0-2.86zM5.41 20L4 18.59l7.72-7.72 1.47 1.35L5.41 20z\"/>\n",
              "  </svg>\n",
              "      </button>\n",
              "\n",
              "\n",
              "\n",
              "    <div id=\"df-d27e8c9d-1bad-4581-9c7a-6b4b6b8034a1\">\n",
              "      <button class=\"colab-df-quickchart\" onclick=\"quickchart('df-d27e8c9d-1bad-4581-9c7a-6b4b6b8034a1')\"\n",
              "              title=\"Suggest charts.\"\n",
              "              style=\"display:none;\">\n",
              "\n",
              "<svg xmlns=\"http://www.w3.org/2000/svg\" height=\"24px\"viewBox=\"0 0 24 24\"\n",
              "     width=\"24px\">\n",
              "    <g>\n",
              "        <path d=\"M19 3H5c-1.1 0-2 .9-2 2v14c0 1.1.9 2 2 2h14c1.1 0 2-.9 2-2V5c0-1.1-.9-2-2-2zM9 17H7v-7h2v7zm4 0h-2V7h2v10zm4 0h-2v-4h2v4z\"/>\n",
              "    </g>\n",
              "</svg>\n",
              "      </button>\n",
              "    </div>\n",
              "\n",
              "<style>\n",
              "  .colab-df-quickchart {\n",
              "    background-color: #E8F0FE;\n",
              "    border: none;\n",
              "    border-radius: 50%;\n",
              "    cursor: pointer;\n",
              "    display: none;\n",
              "    fill: #1967D2;\n",
              "    height: 32px;\n",
              "    padding: 0 0 0 0;\n",
              "    width: 32px;\n",
              "  }\n",
              "\n",
              "  .colab-df-quickchart:hover {\n",
              "    background-color: #E2EBFA;\n",
              "    box-shadow: 0px 1px 2px rgba(60, 64, 67, 0.3), 0px 1px 3px 1px rgba(60, 64, 67, 0.15);\n",
              "    fill: #174EA6;\n",
              "  }\n",
              "\n",
              "  [theme=dark] .colab-df-quickchart {\n",
              "    background-color: #3B4455;\n",
              "    fill: #D2E3FC;\n",
              "  }\n",
              "\n",
              "  [theme=dark] .colab-df-quickchart:hover {\n",
              "    background-color: #434B5C;\n",
              "    box-shadow: 0px 1px 3px 1px rgba(0, 0, 0, 0.15);\n",
              "    filter: drop-shadow(0px 1px 2px rgba(0, 0, 0, 0.3));\n",
              "    fill: #FFFFFF;\n",
              "  }\n",
              "</style>\n",
              "\n",
              "    <script>\n",
              "      async function quickchart(key) {\n",
              "        const containerElement = document.querySelector('#' + key);\n",
              "        const charts = await google.colab.kernel.invokeFunction(\n",
              "            'suggestCharts', [key], {});\n",
              "      }\n",
              "    </script>\n",
              "\n",
              "      <script>\n",
              "\n",
              "function displayQuickchartButton(domScope) {\n",
              "  let quickchartButtonEl =\n",
              "    domScope.querySelector('#df-d27e8c9d-1bad-4581-9c7a-6b4b6b8034a1 button.colab-df-quickchart');\n",
              "  quickchartButtonEl.style.display =\n",
              "    google.colab.kernel.accessAllowed ? 'block' : 'none';\n",
              "}\n",
              "\n",
              "        displayQuickchartButton(document);\n",
              "      </script>\n",
              "      <style>\n",
              "    .colab-df-container {\n",
              "      display:flex;\n",
              "      flex-wrap:wrap;\n",
              "      gap: 12px;\n",
              "    }\n",
              "\n",
              "    .colab-df-convert {\n",
              "      background-color: #E8F0FE;\n",
              "      border: none;\n",
              "      border-radius: 50%;\n",
              "      cursor: pointer;\n",
              "      display: none;\n",
              "      fill: #1967D2;\n",
              "      height: 32px;\n",
              "      padding: 0 0 0 0;\n",
              "      width: 32px;\n",
              "    }\n",
              "\n",
              "    .colab-df-convert:hover {\n",
              "      background-color: #E2EBFA;\n",
              "      box-shadow: 0px 1px 2px rgba(60, 64, 67, 0.3), 0px 1px 3px 1px rgba(60, 64, 67, 0.15);\n",
              "      fill: #174EA6;\n",
              "    }\n",
              "\n",
              "    [theme=dark] .colab-df-convert {\n",
              "      background-color: #3B4455;\n",
              "      fill: #D2E3FC;\n",
              "    }\n",
              "\n",
              "    [theme=dark] .colab-df-convert:hover {\n",
              "      background-color: #434B5C;\n",
              "      box-shadow: 0px 1px 3px 1px rgba(0, 0, 0, 0.15);\n",
              "      filter: drop-shadow(0px 1px 2px rgba(0, 0, 0, 0.3));\n",
              "      fill: #FFFFFF;\n",
              "    }\n",
              "  </style>\n",
              "\n",
              "      <script>\n",
              "        const buttonEl =\n",
              "          document.querySelector('#df-ca9a3c6b-2230-4715-9c6f-7038eaa7760e button.colab-df-convert');\n",
              "        buttonEl.style.display =\n",
              "          google.colab.kernel.accessAllowed ? 'block' : 'none';\n",
              "\n",
              "        async function convertToInteractive(key) {\n",
              "          const element = document.querySelector('#df-ca9a3c6b-2230-4715-9c6f-7038eaa7760e');\n",
              "          const dataTable =\n",
              "            await google.colab.kernel.invokeFunction('convertToInteractive',\n",
              "                                                     [key], {});\n",
              "          if (!dataTable) return;\n",
              "\n",
              "          const docLinkHtml = 'Like what you see? Visit the ' +\n",
              "            '<a target=\"_blank\" href=https://colab.research.google.com/notebooks/data_table.ipynb>data table notebook</a>'\n",
              "            + ' to learn more about interactive tables.';\n",
              "          element.innerHTML = '';\n",
              "          dataTable['output_type'] = 'display_data';\n",
              "          await google.colab.output.renderOutput(dataTable, element);\n",
              "          const docLink = document.createElement('div');\n",
              "          docLink.innerHTML = docLinkHtml;\n",
              "          element.appendChild(docLink);\n",
              "        }\n",
              "      </script>\n",
              "    </div>\n",
              "  </div>\n"
            ]
          },
          "metadata": {},
          "execution_count": 31
        }
      ]
    },
    {
      "cell_type": "code",
      "source": [
        "BTCR[BTCR[\"R\"]>0.15].sort_values(by=['R'], ascending=False)"
      ],
      "metadata": {
        "id": "e_OdckkKmaiF",
        "outputId": "d69e8144-ae2d-4c7a-e015-ba227351bf3b",
        "colab": {
          "base_uri": "https://localhost:8080/",
          "height": 363
        }
      },
      "execution_count": 32,
      "outputs": [
        {
          "output_type": "execute_result",
          "data": {
            "text/plain": [
              "                   R         r\n",
              "Date                          \n",
              "2017-12-07  0.252472  0.225119\n",
              "2017-07-20  0.239361  0.214596\n",
              "2017-12-06  0.199283  0.181724\n",
              "2021-02-08  0.187465  0.171821\n",
              "2020-03-19  0.181878  0.167104\n",
              "2019-04-02  0.173560  0.160042\n",
              "2019-10-25  0.155763  0.144761\n",
              "2017-07-17  0.154724  0.143862\n",
              "2017-09-15  0.152956  0.142330"
            ],
            "text/html": [
              "\n",
              "\n",
              "  <div id=\"df-63084a78-6016-4fa6-8d61-acf02454fc5e\">\n",
              "    <div class=\"colab-df-container\">\n",
              "      <div>\n",
              "<style scoped>\n",
              "    .dataframe tbody tr th:only-of-type {\n",
              "        vertical-align: middle;\n",
              "    }\n",
              "\n",
              "    .dataframe tbody tr th {\n",
              "        vertical-align: top;\n",
              "    }\n",
              "\n",
              "    .dataframe thead th {\n",
              "        text-align: right;\n",
              "    }\n",
              "</style>\n",
              "<table border=\"1\" class=\"dataframe\">\n",
              "  <thead>\n",
              "    <tr style=\"text-align: right;\">\n",
              "      <th></th>\n",
              "      <th>R</th>\n",
              "      <th>r</th>\n",
              "    </tr>\n",
              "    <tr>\n",
              "      <th>Date</th>\n",
              "      <th></th>\n",
              "      <th></th>\n",
              "    </tr>\n",
              "  </thead>\n",
              "  <tbody>\n",
              "    <tr>\n",
              "      <th>2017-12-07</th>\n",
              "      <td>0.252472</td>\n",
              "      <td>0.225119</td>\n",
              "    </tr>\n",
              "    <tr>\n",
              "      <th>2017-07-20</th>\n",
              "      <td>0.239361</td>\n",
              "      <td>0.214596</td>\n",
              "    </tr>\n",
              "    <tr>\n",
              "      <th>2017-12-06</th>\n",
              "      <td>0.199283</td>\n",
              "      <td>0.181724</td>\n",
              "    </tr>\n",
              "    <tr>\n",
              "      <th>2021-02-08</th>\n",
              "      <td>0.187465</td>\n",
              "      <td>0.171821</td>\n",
              "    </tr>\n",
              "    <tr>\n",
              "      <th>2020-03-19</th>\n",
              "      <td>0.181878</td>\n",
              "      <td>0.167104</td>\n",
              "    </tr>\n",
              "    <tr>\n",
              "      <th>2019-04-02</th>\n",
              "      <td>0.173560</td>\n",
              "      <td>0.160042</td>\n",
              "    </tr>\n",
              "    <tr>\n",
              "      <th>2019-10-25</th>\n",
              "      <td>0.155763</td>\n",
              "      <td>0.144761</td>\n",
              "    </tr>\n",
              "    <tr>\n",
              "      <th>2017-07-17</th>\n",
              "      <td>0.154724</td>\n",
              "      <td>0.143862</td>\n",
              "    </tr>\n",
              "    <tr>\n",
              "      <th>2017-09-15</th>\n",
              "      <td>0.152956</td>\n",
              "      <td>0.142330</td>\n",
              "    </tr>\n",
              "  </tbody>\n",
              "</table>\n",
              "</div>\n",
              "      <button class=\"colab-df-convert\" onclick=\"convertToInteractive('df-63084a78-6016-4fa6-8d61-acf02454fc5e')\"\n",
              "              title=\"Convert this dataframe to an interactive table.\"\n",
              "              style=\"display:none;\">\n",
              "\n",
              "  <svg xmlns=\"http://www.w3.org/2000/svg\" height=\"24px\"viewBox=\"0 0 24 24\"\n",
              "       width=\"24px\">\n",
              "    <path d=\"M0 0h24v24H0V0z\" fill=\"none\"/>\n",
              "    <path d=\"M18.56 5.44l.94 2.06.94-2.06 2.06-.94-2.06-.94-.94-2.06-.94 2.06-2.06.94zm-11 1L8.5 8.5l.94-2.06 2.06-.94-2.06-.94L8.5 2.5l-.94 2.06-2.06.94zm10 10l.94 2.06.94-2.06 2.06-.94-2.06-.94-.94-2.06-.94 2.06-2.06.94z\"/><path d=\"M17.41 7.96l-1.37-1.37c-.4-.4-.92-.59-1.43-.59-.52 0-1.04.2-1.43.59L10.3 9.45l-7.72 7.72c-.78.78-.78 2.05 0 2.83L4 21.41c.39.39.9.59 1.41.59.51 0 1.02-.2 1.41-.59l7.78-7.78 2.81-2.81c.8-.78.8-2.07 0-2.86zM5.41 20L4 18.59l7.72-7.72 1.47 1.35L5.41 20z\"/>\n",
              "  </svg>\n",
              "      </button>\n",
              "\n",
              "\n",
              "\n",
              "    <div id=\"df-c629a568-32ff-4579-b18f-8ede3cfaf468\">\n",
              "      <button class=\"colab-df-quickchart\" onclick=\"quickchart('df-c629a568-32ff-4579-b18f-8ede3cfaf468')\"\n",
              "              title=\"Suggest charts.\"\n",
              "              style=\"display:none;\">\n",
              "\n",
              "<svg xmlns=\"http://www.w3.org/2000/svg\" height=\"24px\"viewBox=\"0 0 24 24\"\n",
              "     width=\"24px\">\n",
              "    <g>\n",
              "        <path d=\"M19 3H5c-1.1 0-2 .9-2 2v14c0 1.1.9 2 2 2h14c1.1 0 2-.9 2-2V5c0-1.1-.9-2-2-2zM9 17H7v-7h2v7zm4 0h-2V7h2v10zm4 0h-2v-4h2v4z\"/>\n",
              "    </g>\n",
              "</svg>\n",
              "      </button>\n",
              "    </div>\n",
              "\n",
              "<style>\n",
              "  .colab-df-quickchart {\n",
              "    background-color: #E8F0FE;\n",
              "    border: none;\n",
              "    border-radius: 50%;\n",
              "    cursor: pointer;\n",
              "    display: none;\n",
              "    fill: #1967D2;\n",
              "    height: 32px;\n",
              "    padding: 0 0 0 0;\n",
              "    width: 32px;\n",
              "  }\n",
              "\n",
              "  .colab-df-quickchart:hover {\n",
              "    background-color: #E2EBFA;\n",
              "    box-shadow: 0px 1px 2px rgba(60, 64, 67, 0.3), 0px 1px 3px 1px rgba(60, 64, 67, 0.15);\n",
              "    fill: #174EA6;\n",
              "  }\n",
              "\n",
              "  [theme=dark] .colab-df-quickchart {\n",
              "    background-color: #3B4455;\n",
              "    fill: #D2E3FC;\n",
              "  }\n",
              "\n",
              "  [theme=dark] .colab-df-quickchart:hover {\n",
              "    background-color: #434B5C;\n",
              "    box-shadow: 0px 1px 3px 1px rgba(0, 0, 0, 0.15);\n",
              "    filter: drop-shadow(0px 1px 2px rgba(0, 0, 0, 0.3));\n",
              "    fill: #FFFFFF;\n",
              "  }\n",
              "</style>\n",
              "\n",
              "    <script>\n",
              "      async function quickchart(key) {\n",
              "        const containerElement = document.querySelector('#' + key);\n",
              "        const charts = await google.colab.kernel.invokeFunction(\n",
              "            'suggestCharts', [key], {});\n",
              "      }\n",
              "    </script>\n",
              "\n",
              "      <script>\n",
              "\n",
              "function displayQuickchartButton(domScope) {\n",
              "  let quickchartButtonEl =\n",
              "    domScope.querySelector('#df-c629a568-32ff-4579-b18f-8ede3cfaf468 button.colab-df-quickchart');\n",
              "  quickchartButtonEl.style.display =\n",
              "    google.colab.kernel.accessAllowed ? 'block' : 'none';\n",
              "}\n",
              "\n",
              "        displayQuickchartButton(document);\n",
              "      </script>\n",
              "      <style>\n",
              "    .colab-df-container {\n",
              "      display:flex;\n",
              "      flex-wrap:wrap;\n",
              "      gap: 12px;\n",
              "    }\n",
              "\n",
              "    .colab-df-convert {\n",
              "      background-color: #E8F0FE;\n",
              "      border: none;\n",
              "      border-radius: 50%;\n",
              "      cursor: pointer;\n",
              "      display: none;\n",
              "      fill: #1967D2;\n",
              "      height: 32px;\n",
              "      padding: 0 0 0 0;\n",
              "      width: 32px;\n",
              "    }\n",
              "\n",
              "    .colab-df-convert:hover {\n",
              "      background-color: #E2EBFA;\n",
              "      box-shadow: 0px 1px 2px rgba(60, 64, 67, 0.3), 0px 1px 3px 1px rgba(60, 64, 67, 0.15);\n",
              "      fill: #174EA6;\n",
              "    }\n",
              "\n",
              "    [theme=dark] .colab-df-convert {\n",
              "      background-color: #3B4455;\n",
              "      fill: #D2E3FC;\n",
              "    }\n",
              "\n",
              "    [theme=dark] .colab-df-convert:hover {\n",
              "      background-color: #434B5C;\n",
              "      box-shadow: 0px 1px 3px 1px rgba(0, 0, 0, 0.15);\n",
              "      filter: drop-shadow(0px 1px 2px rgba(0, 0, 0, 0.3));\n",
              "      fill: #FFFFFF;\n",
              "    }\n",
              "  </style>\n",
              "\n",
              "      <script>\n",
              "        const buttonEl =\n",
              "          document.querySelector('#df-63084a78-6016-4fa6-8d61-acf02454fc5e button.colab-df-convert');\n",
              "        buttonEl.style.display =\n",
              "          google.colab.kernel.accessAllowed ? 'block' : 'none';\n",
              "\n",
              "        async function convertToInteractive(key) {\n",
              "          const element = document.querySelector('#df-63084a78-6016-4fa6-8d61-acf02454fc5e');\n",
              "          const dataTable =\n",
              "            await google.colab.kernel.invokeFunction('convertToInteractive',\n",
              "                                                     [key], {});\n",
              "          if (!dataTable) return;\n",
              "\n",
              "          const docLinkHtml = 'Like what you see? Visit the ' +\n",
              "            '<a target=\"_blank\" href=https://colab.research.google.com/notebooks/data_table.ipynb>data table notebook</a>'\n",
              "            + ' to learn more about interactive tables.';\n",
              "          element.innerHTML = '';\n",
              "          dataTable['output_type'] = 'display_data';\n",
              "          await google.colab.output.renderOutput(dataTable, element);\n",
              "          const docLink = document.createElement('div');\n",
              "          docLink.innerHTML = docLinkHtml;\n",
              "          element.appendChild(docLink);\n",
              "        }\n",
              "      </script>\n",
              "    </div>\n",
              "  </div>\n"
            ]
          },
          "metadata": {},
          "execution_count": 32
        }
      ]
    },
    {
      "cell_type": "code",
      "source": [
        "print(\"The daily average return of Bitcoin is \", BTCR[\"r\"].mean())\n",
        "print(\"The daily variance of Bitcoin is \", BTCR[\"r\"].var())\n",
        "print(\"The daily standard deviation (volatility) of Bitcoin return is \", BTCR[\"r\"].std())\n",
        "print(\"The daily median return of Bitcoin is \",BTCR[\"r\"].median())"
      ],
      "metadata": {
        "id": "7kpqctyXmdMo",
        "outputId": "5e3ef4fa-80e3-42f2-d3bb-9dade700b1ef",
        "colab": {
          "base_uri": "https://localhost:8080/"
        }
      },
      "execution_count": 33,
      "outputs": [
        {
          "output_type": "stream",
          "name": "stdout",
          "text": [
            "The daily average return of Bitcoin is  0.0013953356408537441\n",
            "The daily variance of Bitcoin is  0.001573445418760521\n",
            "The daily standard deviation (volatility) of Bitcoin return is  0.039666678947959846\n",
            "The daily median return of Bitcoin is  0.0014686626299020844\n"
          ]
        }
      ]
    },
    {
      "cell_type": "markdown",
      "source": [
        "3- El histograma\n",
        "\n",
        "Ahora tenemos dos elementos fundamentales para la estadística y teoría de probablidada: El histograma y Teorema del límite central:\n",
        "\n",
        "El histograma es un gráfico de frecuencias"
      ],
      "metadata": {
        "id": "oKsEeD82modK"
      }
    },
    {
      "cell_type": "code",
      "source": [],
      "metadata": {
        "id": "HRMw5rvgncBj"
      },
      "execution_count": 33,
      "outputs": []
    },
    {
      "cell_type": "markdown",
      "source": [
        "Histograma del df BTC"
      ],
      "metadata": {
        "id": "V_CsoSqsncPD"
      }
    },
    {
      "cell_type": "code",
      "source": [
        "R_BTC= pd.DataFrame(BTCR[[\"R\"]])\n",
        "hist=R_BTC.plot.hist(bins=12,title=\"Histograma de retorno simple Bitcoin\")\n"
      ],
      "metadata": {
        "id": "IRGe2mVmnwE3",
        "outputId": "533f0d60-b52d-424c-fe0d-4acfabbe8e64",
        "colab": {
          "base_uri": "https://localhost:8080/",
          "height": 452
        }
      },
      "execution_count": 34,
      "outputs": [
        {
          "output_type": "display_data",
          "data": {
            "text/plain": [
              "<Figure size 640x480 with 1 Axes>"
            ],
            "image/png": "[encoded data removed]"
          },
          "metadata": {}
        }
      ]
    },
    {
      "cell_type": "markdown",
      "source": [
        "Una vez hemos calculado el retorno diario, podemos observar que la mayor frecuencua está entre -0.1 y 0.1, es decir que en casi todos los casos se puede perder o ganar 10% cómo máximo en la mayoría de los casos. Por otra parte que tengamos los rangos de -0.4 y 0.2 significa que ha habido casos extraordinarios donde se puede perder hasta el 40% en un solo día o por el contrario ganar el 20% en un solo día."
      ],
      "metadata": {
        "id": "ri6XbLy8whc-"
      }
    },
    {
      "cell_type": "markdown",
      "source": [
        "PDF: Probability distribution function\n",
        "\n",
        "Para un evento aleatorio de n casos con las mismas probabilidades se tiene que la probabilidad de que un evento xi aparezca es 1/n.\n"
      ],
      "metadata": {
        "id": "vUQxT0Aso2v5"
      }
    },
    {
      "cell_type": "markdown",
      "source": [],
      "metadata": {
        "id": "l1LdpdK3wegH"
      }
    },
    {
      "cell_type": "markdown",
      "source": [
        "#____________________________________________"
      ],
      "metadata": {
        "id": "X045Z6enm5KW"
      }
    },
    {
      "cell_type": "markdown",
      "source": [
        "Existen otros conceptos importantes como PDF probability density function.\n",
        "Cumulative Density Function (CDF) que es la suma de todas las posibilidades de un evento y siempre suman 100%\n",
        "\n",
        "Cuando las variables no datos discretos si no continuos ahora el calculo de una variable se traduce a un rango. Dada la función de densidada PDF que describe cómo es que se agrupan los datos, básicamente es una representación del histograma, entonces ahora basta encontrar el área bajo la curva de la función. Es decir, la integral de la PDF en un rango entra a y b define la probabilidad de que una variable continua aparezca.\n"
      ],
      "metadata": {
        "id": "3oNQkW40xzTR"
      }
    },
    {
      "cell_type": "markdown",
      "source": [
        "5- Una PDF importante: La función de distribución normal.\n",
        "Es una formula compleja para escribirla aqui. Pero la notación puede ser\n",
        "X~N(media,var)\n",
        "Donde X es una variable continua. La función es simétrica a partir de la media.\n",
        "Propiedades importantes son:\n",
        "\n",
        "*  La media +- 1 std abarca el 68% de los datos\n",
        "*  La media +- 2 std abarca el 95% de los datos\n",
        "*  La media +- 3 std abarca el 99% de los datos\n",
        "\n",
        "\n"
      ],
      "metadata": {
        "id": "TLdygS0fzDVG"
      }
    },
    {
      "cell_type": "markdown",
      "source": [
        "5.2 Simulating the normal distribution"
      ],
      "metadata": {
        "id": "3TW-yoQfnBF-"
      }
    },
    {
      "cell_type": "code",
      "source": [
        "from matplotlib import pyplot\n",
        "pyplot.clf()\n",
        "rmean = BTCR[\"r\"].mean()\n",
        "rsd = BTCR[\"r\"].std()\n",
        "N = BTCR[\"r\"].count()\n",
        "simr= np.random.normal(loc=rmean,scale=rsd, size=N)\n",
        "realr = BTCR[\"r\"].to_numpy()\n",
        "\n",
        "bins = 12\n",
        "\n",
        "pyplot.hist(simr,bins,alpha=0.5,label='simulated rets')\n",
        "pyplot.hist(realr,bins,alpha=0.5,label='real rets')\n",
        "pyplot.legend(loc='upper left')\n",
        "pyplot.title(label='Histogram of real and simulated cc returns of Bitcoin')\n",
        "\n",
        "pyplot.show()"
      ],
      "metadata": {
        "id": "9mAAXKfPm2tF",
        "outputId": "3491d7f6-3137-40e5-a4e1-531ad3a8f0d9",
        "colab": {
          "base_uri": "https://localhost:8080/",
          "height": 452
        }
      },
      "execution_count": 35,
      "outputs": [
        {
          "output_type": "display_data",
          "data": {
            "text/plain": [
              "<Figure size 640x480 with 1 Axes>"
            ],
            "image/png": "[encoded data removed]"
          },
          "metadata": {}
        }
      ]
    },
    {
      "cell_type": "code",
      "source": [],
      "metadata": {
        "id": "aphbtNKpm27_"
      },
      "execution_count": 35,
      "outputs": []
    },
    {
      "cell_type": "markdown",
      "source": [
        "El rango simulado con la distribución normal no tiene datos tan extremos.\n",
        "Las zonas que sobresalen significan que ha habido momentos donde la ganancia es mayor a la esperada o que la perdida es mayor que la esperada. Dado el rango de gráfica del histograma podemos decir que la inversión en bitcoins es de alto riesgo, pues se puede perder hasta el 40% en un solo día."
      ],
      "metadata": {
        "id": "scqAaJySr_uv"
      }
    },
    {
      "cell_type": "code",
      "source": [],
      "metadata": {
        "id": "uHuO4Ha9m3D9"
      },
      "execution_count": 35,
      "outputs": []
    }
  ]
}
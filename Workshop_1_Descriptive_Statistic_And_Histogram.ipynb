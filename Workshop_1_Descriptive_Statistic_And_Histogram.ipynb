{
  "nbformat": 4,
  "nbformat_minor": 0,
  "metadata": {
    "colab": {
      "provenance": [],
      "authorship_tag": "ABX9TyO69Xcr45IWNQFumSwF4Qfh",
      "include_colab_link": true
    },
    "kernelspec": {
      "name": "python3",
      "display_name": "Python 3"
    },
    "language_info": {
      "name": "python"
    }
  },
  "cells": [
    {
      "cell_type": "markdown",
      "metadata": {
        "id": "view-in-github",
        "colab_type": "text"
      },
      "source": [
        "<a href=\"https://colab.research.google.com/github/FerminMendez/ModuleAI/blob/main/Workshop_1_Descriptive_Statistic_And_Histogram.ipynb\" target=\"_parent\"><img src=\"https://colab.research.google.com/assets/colab-badge.svg\" alt=\"Open In Colab\"/></a>"
      ]
    },
    {
      "cell_type": "markdown",
      "source": [
        "Cuando obtenemos un data set de datos las medidadas de tendencias central media, moda y mediana nos sirven para obtener una idea de con que datos estamos tratando. Con estas medidas a primera vista podemos responde preguntas como ¿Cuál es la magnitud de los datos que tenemos? ¿Cuál es la distribución de los datos? ¿Qué valores se repiten más?\n",
        "\n",
        "*  Media\n",
        "*  Mediana\n",
        "*  Moda\n",
        "\n"
      ],
      "metadata": {
        "id": "ltr8sfqZQGPH"
      }
    },
    {
      "cell_type": "markdown",
      "source": [
        "Por otra parte las medidas de dispersión nos ayudan a entender cómo se distrubuyen los datos y entender si tenemos valores muy parecidos o existen valores extremos en nuestros datos.\n",
        "\n",
        "*   Varianza\n",
        "*   Desviación estándar\n",
        "*   Percentiles /quartiles\n"
      ],
      "metadata": {
        "id": "rBDDC1QHQGZX"
      }
    },
    {
      "cell_type": "markdown",
      "source": [],
      "metadata": {
        "id": "etVm79l_VWX5"
      }
    }
  ]
}
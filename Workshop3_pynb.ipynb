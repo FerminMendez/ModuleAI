{
  "nbformat": 4,
  "nbformat_minor": 0,
  "metadata": {
    "colab": {
      "provenance": [],
      "authorship_tag": "ABX9TyP/hRe5FptyJwqYzHaPz8Da",
      "include_colab_link": true
    },
    "kernelspec": {
      "name": "python3",
      "display_name": "Python 3"
    },
    "language_info": {
      "name": "python"
    }
  },
  "cells": [
    {
      "cell_type": "markdown",
      "metadata": {
        "id": "view-in-github",
        "colab_type": "text"
      },
      "source": [
        "<a href=\"https://colab.research.google.com/github/FerminMendez/ModuleAI/blob/main/Workshop3_pynb.ipynb\" target=\"_parent\"><img src=\"https://colab.research.google.com/assets/colab-badge.svg\" alt=\"Open In Colab\"/></a>"
      ]
    },
    {
      "cell_type": "code",
      "execution_count": 6,
      "metadata": {
        "id": "jBiIf4pnreSZ"
      },
      "outputs": [],
      "source": [
        "def ccr(df):\n",
        "  x = np.log(df) - np.log(df.shift(1))\n",
        "  x = x.dropna()\n",
        "  return x"
      ]
    },
    {
      "cell_type": "markdown",
      "source": [
        "2\n",
        "Hypothesis testing - comparing the mean of 2 groups"
      ],
      "metadata": {
        "id": "NugqtgAIryFP"
      }
    },
    {
      "cell_type": "markdown",
      "source": [
        "En este trabajo tomaremos la diferencia de las medias como variable de estudio.\n",
        "Queremos comprobar que las medias son distintas.\n",
        "Para eso planetamos las hipótesis\n",
        "\n",
        "\n",
        "*   ho-> diff=0\n",
        "\n",
        "*   ha-> diff!=0\n",
        "\n"
      ],
      "metadata": {
        "id": "BOCSB8TeF1CN"
      }
    },
    {
      "cell_type": "code",
      "source": [
        "import yfinance as yf\n",
        "import numpy as np\n",
        "import pandas as pd\n",
        "\n",
        "sprices=yf.download(tickers=[\"INTC\",\"AMD\"], start=\"2019-01-01\",interval=\"1mo\")\n",
        "df_INTC=yf.download(tickers=\"INTC\", start=\"2019-01-01\",interval=\"1mo\")\n",
        "df_AMD=yf.download(tickers=[\"AMD\"], start=\"2019-01-01\",interval=\"1mo\")\n"
      ],
      "metadata": {
        "colab": {
          "base_uri": "https://localhost:8080/"
        },
        "id": "nT8S5SJ3uuQc",
        "outputId": "27c93f06-ea99-4de8-a385-6a9819de1d67"
      },
      "execution_count": 7,
      "outputs": [
        {
          "output_type": "stream",
          "name": "stdout",
          "text": [
            "[*********************100%%**********************]  2 of 2 completed\n",
            "[*********************100%%**********************]  1 of 1 completed\n",
            "[*********************100%%**********************]  1 of 1 completed\n"
          ]
        }
      ]
    },
    {
      "cell_type": "code",
      "source": [
        "ccr_INT=ccr(df_INTC['Adj Close'])\n",
        "ccr_INT.head()\n",
        "ccr_AMD=ccr(df_AMD['Adj Close'])\n",
        "ccr_AMD.head()\n"
      ],
      "metadata": {
        "colab": {
          "base_uri": "https://localhost:8080/"
        },
        "id": "ImabvUypv7tv",
        "outputId": "3d4caf4d-f789-4aa3-a532-dbf710fee688"
      },
      "execution_count": 8,
      "outputs": [
        {
          "output_type": "execute_result",
          "data": {
            "text/plain": [
              "Date\n",
              "2019-02-01   -0.036717\n",
              "2019-03-01    0.081186\n",
              "2019-04-01    0.079440\n",
              "2019-05-01   -0.007994\n",
              "2019-06-01    0.102547\n",
              "Name: Adj Close, dtype: float64"
            ]
          },
          "metadata": {},
          "execution_count": 8
        }
      ]
    },
    {
      "cell_type": "markdown",
      "source": [],
      "metadata": {
        "id": "MT74eS1nxGGU"
      }
    },
    {
      "cell_type": "code",
      "source": [
        "# Stating the hypotheses:\n",
        "# H0: (mean(rAMD) - mean(rINTEL)) = 0\n",
        "# Ha: (mean(rAMD) - mean(rINTEL)) <> 0\n",
        "\n",
        "# Calculating the standard error of the difference of the means:\n",
        "\n",
        "N = ccr_AMD.count()\n",
        "amdvar = ccr_AMD.var()\n",
        "intelvar = ccr_INT.var()\n",
        "sediff = np.sqrt((1/N) * (amdvar + intelvar ) )\n",
        "\n",
        "# Calculating the t-Statistic:\n",
        "t = (ccr_AMD.mean() - ccr_INT.mean()) / sediff\n",
        "t"
      ],
      "metadata": {
        "colab": {
          "base_uri": "https://localhost:8080/"
        },
        "id": "Ap8Jy3WCxHiS",
        "outputId": "91007e74-3c21-4aae-aad1-e63af776af61"
      },
      "execution_count": 10,
      "outputs": [
        {
          "output_type": "execute_result",
          "data": {
            "text/plain": [
              "1.3067064117888045"
            ]
          },
          "metadata": {},
          "execution_count": 10
        }
      ]
    },
    {
      "cell_type": "code",
      "source": [],
      "metadata": {
        "id": "DAbGL5l2HkaC"
      },
      "execution_count": null,
      "outputs": []
    },
    {
      "cell_type": "markdown",
      "source": [
        "Con esto interpretamos que hay solo un poco más del 70% de probabilidad que la la diferencia de los retornos de ambas empresas sean diferentes. En este caso no hay muestra probabilistica significativa que garantice que una es mejor que la otra con diferencia."
      ],
      "metadata": {
        "id": "AOofLAcZHk_w"
      }
    },
    {
      "cell_type": "code",
      "source": [],
      "metadata": {
        "id": "svUAg-8xH8dI"
      },
      "execution_count": null,
      "outputs": []
    }
  ]
}
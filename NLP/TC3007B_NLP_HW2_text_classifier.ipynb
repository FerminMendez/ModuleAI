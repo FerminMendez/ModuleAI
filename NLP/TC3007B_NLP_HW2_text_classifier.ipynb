{
 "cells": [
  {
   "cell_type": "markdown",
   "id": "940c6dbc",
   "metadata": {},
   "source": [
    "## TC3007B\n",
    "### Word Embeddings\n",
    "\n",
    "#### Karen Cebreros López - A01704254\n",
    "#### Fermín Méndez García - A01703366\n",
    "#### Emiliano Vásquez Olea - A01707035\n",
    "#### Diego Emilio Barrera Hdz - A01366802\n",
    "#### José Ángel García López - A01275108\n",
    "\n",
    "\n",
    "<br>\n",
    "\n",
    "#### Activity 2: Text Classification using RNNs and AG_NEWS dataset in PyTorch\n",
    "<br>\n",
    "\n",
    "- Objective:\n",
    "    - Understand the basics of Recurrent Neural Networks (RNNs) and their application in text classification.\n",
    "    - Learn how to handle a real-world text dataset, AG_NEWS, in PyTorch.\n",
    "    - Gain hands-on experience in defining, training, and evaluating a text classification model in PyTorch.\n",
    "    \n",
    "<br>\n",
    "\n",
    "- Instructions:\n",
    "    - Data Preparation: Starter code will be provided that loads the AG_NEWS dataset and prepares it for training. Do not modify this part. However, you should be sure to understand it, and comment it, the use of markdown cells is suggested. \n",
    "\n",
    "    - Model Setup: A skeleton code for the RNN model class will be provided. Complete this class and use it to instantiate your model.\n",
    "\n",
    "    - Implementing Accuracy Function: Write a function that takes model predictions and ground truth labels as input and returns the model's accuracy.\n",
    "\n",
    "    - Training Function: Implement a function that performs training on the given model using the AG_NEWS dataset. Your model should achieve an accuracy of at least 80% to get full marks for this part.\n",
    "\n",
    "    - Text Sampling: Write a function that takes a sample text as input and classifies it using your trained model.\n",
    "\n",
    "    - Confusion Matrix: Implement a function to display the confusion matrix for your model on the test data.\n",
    "\n",
    "    - Submission: Submit your completed Jupyter Notebook. Make sure to include a markdown cell at the beginning of the notebook that lists the names of all team members. Teams should consist of 3 to 4 members.\n",
    "    \n",
    "<br>\n",
    "\n",
    "- Evaluation Criteria:\n",
    "\n",
    "    - Correct setup of all the required libraries and modules (10%)\n",
    "    - Code Quality (30%): Your code should be well-organized, clearly commented, and easy to follow. Use also markdown cells for clarity. Comments should be given for all the provided code, this will help you understand its functionality.\n",
    "    \n",
    "   - Functionality (60%): \n",
    "        - All the functions should execute without errors and provide the expected outputs.\n",
    "        - RNN model class (20%)\n",
    "        - Accuracy fucntion (10%)\n",
    "        - Training function (10%)\n",
    "        - Sampling function (10%)\n",
    "        - Confucion matrix (10%)\n",
    "\n",
    "        - The model should achieve at least an 80% accuracy on the AG_NEWS test set for full marks in this criterion.\n"
   ]
  },
  {
   "cell_type": "markdown",
   "id": "4de318da",
   "metadata": {},
   "source": [
    "Dataset\n",
    "\n",
    "https://pytorch.org/text/stable/datasets.html#text-classification\n",
    "\n",
    "https://paperswithcode.com/dataset/ag-news\n"
   ]
  },
  {
   "cell_type": "markdown",
   "id": "4a9801f9",
   "metadata": {},
   "source": [
    "### Import libraries"
   ]
  },
  {
   "cell_type": "code",
   "execution_count": 1,
   "id": "54394f53",
   "metadata": {},
   "outputs": [],
   "source": [
    "# conda install -c pytorch torchtext\n",
    "# conda install -c pytorch torchdata\n",
    "# conda install pytorch torchvision torchaudio cudatoolkit=10.2 -c pytorch"
   ]
  },
  {
   "cell_type": "code",
   "execution_count": 2,
   "id": "878b524f",
   "metadata": {},
   "outputs": [
    {
     "name": "stderr",
     "output_type": "stream",
     "text": [
      "/Users/karencl/Library/Python/3.9/lib/python/site-packages/urllib3/__init__.py:34: NotOpenSSLWarning: urllib3 v2.0 only supports OpenSSL 1.1.1+, currently the 'ssl' module is compiled with 'LibreSSL 2.8.3'. See: https://github.com/urllib3/urllib3/issues/3020\n",
      "  warnings.warn(\n"
     ]
    }
   ],
   "source": [
    "# The following libraries are required for running the given code\n",
    "# Please feel free to add any libraries you consider adecuate to complete the assingment.\n",
    "import numpy as np\n",
    "#PyTorch libraries\n",
    "import torch\n",
    "from torchtext.datasets import AG_NEWS\n",
    "# Dataloader library\n",
    "from torch.utils.data import DataLoader\n",
    "from torch.utils.data.dataset import random_split\n",
    "# Libraries to prepare the data\n",
    "from torchtext.data.utils import get_tokenizer\n",
    "from torchtext.vocab import build_vocab_from_iterator\n",
    "from torchtext.data.functional import to_map_style_dataset\n",
    "# neural layers\n",
    "from torch import nn\n",
    "from torch.nn import functional as F\n",
    "from tqdm import tqdm\n",
    "\n",
    "# These libraries are suggested to plot confusion matrix\n",
    "import scikitplot as skplt\n",
    "import matplotlib.pyplot as plt\n",
    "import gc"
   ]
  },
  {
   "cell_type": "code",
   "execution_count": 3,
   "id": "3bab55f3",
   "metadata": {},
   "outputs": [
    {
     "name": "stdout",
     "output_type": "stream",
     "text": [
      "cpu\n"
     ]
    }
   ],
   "source": [
    "device = torch.device(\"cuda\" if torch.cuda.is_available() else \"cpu\")\n",
    "print(device)"
   ]
  },
  {
   "cell_type": "markdown",
   "id": "3d38956d",
   "metadata": {},
   "source": [
    "### Get the train and the test datasets and dataloaders"
   ]
  },
  {
   "cell_type": "markdown",
   "id": "e9c6b784",
   "metadata": {},
   "source": [
    "Classes:\n",
    "\n",
    "* 1 - World\n",
    "\n",
    "* 2 - Sports\n",
    "\n",
    "* 3 - Business\n",
    "\n",
    "* 4 - Sci/Tech\n",
    "\n",
    "We will convert them to:\n",
    "\n",
    "* 0 - World\n",
    "\n",
    "* 1 - Sports\n",
    "\n",
    "* 2 - Business\n",
    "\n",
    "* 3 - Sci/Tech"
   ]
  },
  {
   "cell_type": "code",
   "execution_count": 4,
   "id": "49fbed19",
   "metadata": {},
   "outputs": [],
   "source": [
    "# Obtenemos los datos\n",
    "train_dataset, test_dataset = AG_NEWS()\n",
    "train_dataset, test_dataset = to_map_style_dataset(train_dataset), to_map_style_dataset(test_dataset)"
   ]
  },
  {
   "cell_type": "code",
   "execution_count": 5,
   "id": "9c372eb9",
   "metadata": {},
   "outputs": [],
   "source": [
    "# Hacemos los tokens\n",
    "tokeniser = get_tokenizer('basic_english')\n",
    "\n",
    "def yield_tokens(data):\n",
    "    for _, text in data:\n",
    "        yield tokeniser(text)"
   ]
  },
  {
   "cell_type": "code",
   "execution_count": 6,
   "id": "794d0375",
   "metadata": {},
   "outputs": [],
   "source": [
    "# Creamos el vocabulario\n",
    "vocab = build_vocab_from_iterator(yield_tokens(train_dataset), specials=[\"<unk>\"])\n",
    "\n",
    "# Ponemos el 'unknown token' en la posición 0\n",
    "vocab.set_default_index(vocab[\"<unk>\"])"
   ]
  },
  {
   "cell_type": "code",
   "execution_count": 7,
   "id": "b48268d4",
   "metadata": {},
   "outputs": [
    {
     "name": "stdout",
     "output_type": "stream",
     "text": [
      "['welcome', 'to', 'tc3007'] [3314, 4, 0]\n"
     ]
    }
   ],
   "source": [
    "# Prueba de los tokens\n",
    "tokens = tokeniser('Welcome to TC3007')\n",
    "print(tokens, vocab(tokens))"
   ]
  },
  {
   "cell_type": "code",
   "execution_count": 8,
   "id": "c8c8f6a6",
   "metadata": {},
   "outputs": [],
   "source": [
    "# Se divide el tamaño de \"train_dataset\" para hacer el split\n",
    "NUM_TRAIN = int(len(train_dataset)*0.9)\n",
    "NUM_VAL = len(train_dataset) - NUM_TRAIN"
   ]
  },
  {
   "cell_type": "code",
   "execution_count": 9,
   "id": "8290895e",
   "metadata": {},
   "outputs": [],
   "source": [
    "# Se hace el \"random_split\" de \"train_dataset\" para obtener el dataset de validación y entrenamiento\n",
    "train_dataset, val_dataset = random_split(train_dataset, [NUM_TRAIN, NUM_VAL])"
   ]
  },
  {
   "cell_type": "code",
   "execution_count": 10,
   "id": "cbc75b54",
   "metadata": {},
   "outputs": [
    {
     "name": "stdout",
     "output_type": "stream",
     "text": [
      "108000 12000 7600\n"
     ]
    }
   ],
   "source": [
    "# Tamaño de cada conjunto\n",
    "print(len(train_dataset), len(val_dataset), len(test_dataset))"
   ]
  },
  {
   "cell_type": "code",
   "execution_count": 11,
   "id": "ffdbf077",
   "metadata": {},
   "outputs": [],
   "source": [
    "def collate_batch(batch):\n",
    "    ''' Función para procesar batches\n",
    "    Args:\n",
    "        batch - batch de datos a procesar\n",
    "    Return:\n",
    "        etiquetas preparadas en un rango de 0-3\n",
    "    '''\n",
    "    # Obtenemos el texto y la etiqueta\n",
    "    y, x = list(zip(*batch))\n",
    "    \n",
    "    # Se crea un arreglo de los índices de tokeniser\n",
    "    x = [vocab(tokeniser(text)) for text in x]\n",
    "    x = [t + ([0]*(max_tokens - len(t))) if len(t) < max_tokens else t[:max_tokens] for t in x]\n",
    "\n",
    "    # Se preparan las etiquetas\n",
    "    return torch.tensor(x, dtype=torch.int32), torch.tensor(y, dtype=torch.int32) - 1"
   ]
  },
  {
   "cell_type": "code",
   "execution_count": 12,
   "id": "5eb459c7",
   "metadata": {},
   "outputs": [],
   "source": [
    "labels =  [\"World\", \"Sports\", \"Business\", \"Sci/Tech\"] # Etiquetas\n",
    "max_tokens = 50 # Num máximo de tokens\n",
    "BATCH_SIZE = 256 # Tamaño de batch"
   ]
  },
  {
   "cell_type": "code",
   "execution_count": 13,
   "id": "0a55e6ee",
   "metadata": {},
   "outputs": [],
   "source": [
    "# Hacemos los DataLoaders\n",
    "train_loader = DataLoader(train_dataset, batch_size=BATCH_SIZE, collate_fn=collate_batch, shuffle = True)\n",
    "val_loader = DataLoader(val_dataset, batch_size=BATCH_SIZE, collate_fn=collate_batch, shuffle = True)\n",
    "test_loader = DataLoader(test_dataset, batch_size=BATCH_SIZE, collate_fn=collate_batch, shuffle = True)"
   ]
  },
  {
   "cell_type": "markdown",
   "id": "47b98898",
   "metadata": {},
   "source": [
    "### Let us build our RNN model"
   ]
  },
  {
   "cell_type": "code",
   "execution_count": 14,
   "id": "50f20793",
   "metadata": {},
   "outputs": [],
   "source": [
    "EMBEDDING_SIZE = 300 # Tamaño del los embeddings\n",
    "NEURONS = 256 # Número de neuronas\n",
    "LAYERS = 2 # Cantidad de capas\n",
    "NUM_CLASSES = 4 # Cantidad de clases (etiquetas)"
   ]
  },
  {
   "cell_type": "code",
   "execution_count": 20,
   "id": "0f7f5621",
   "metadata": {},
   "outputs": [],
   "source": [
    "class RNN_Model_1(nn.Module):\n",
    "    def __init__(self, embed_size, hidden_size, num_layers, num_classes, vocab_size):\n",
    "        super(RNN_Model_1, self).__init__()\n",
    "        self.embedding_layer = nn.Embedding(num_embeddings=vocab_size, embedding_dim=embed_size)\n",
    "        \n",
    "        # LSTM \n",
    "        self.rnn = nn.LSTM(input_size=embed_size, hidden_size=hidden_size, num_layers=num_layers, batch_first=True)\n",
    "        \n",
    "        # Capa lineal (fully connected)\n",
    "        self.fc = nn.Linear(hidden_size, num_classes)\n",
    "    \n",
    "        \n",
    "    def forward(self, x):\n",
    "        # Se sacan los embeddings\n",
    "        embedds = self.embedding_layer(x)\n",
    "        # Se pasa el input a la capa rnn\n",
    "        output, _ = self.rnn(embedds)\n",
    "        # Se toma solamente el output del último time_step\n",
    "        output = output[:, -1, :]\n",
    "        # Y al final se pasa ese output a la capa lineal \"fully connected\"\n",
    "        decoded = self.fc(output)\n",
    "        return decoded"
   ]
  },
  {
   "cell_type": "code",
   "execution_count": 16,
   "id": "2a42613f",
   "metadata": {
    "code_folding": []
   },
   "outputs": [],
   "source": [
    "def accuracy(model, loader):\n",
    "    ''' Función para obtener la precisión\n",
    "    Args:\n",
    "        model - modelo creado\n",
    "        loader - DataLoader que se pasa para obtener su precisión con el modelo\n",
    "    '''  \n",
    "    num_correct = 0\n",
    "    num_total = 0\n",
    "    model.eval()\n",
    "    model = model.to(device=device)\n",
    "            \n",
    "    # Se deshabilita el cálculo del gradiente\n",
    "    with torch.no_grad():\n",
    "        # Se itera sobre los batches del loader\n",
    "        for x, y in loader:\n",
    "            x = x.to(device=device, dtype=torch.long)\n",
    "            y = y.to(device=device, dtype=torch.long)\n",
    "\n",
    "            # Se generan los scores\n",
    "            scores = model(x)\n",
    "            # Y a través de ello las prediciones\n",
    "            _, preds = scores.max(dim = 1)\n",
    "\n",
    "            # Se obtiene el total de predicciones correctas y la cantidad total de predicciones\n",
    "            num_correct += (preds == y).sum()\n",
    "            num_total += preds.size(0)\n",
    "        \n",
    "        # Se obtiene la precisión y se regresa\n",
    "        acc = float(num_correct) / num_total\n",
    "        return acc"
   ]
  },
  {
   "cell_type": "code",
   "execution_count": 17,
   "id": "5e843e1f",
   "metadata": {
    "code_folding": []
   },
   "outputs": [],
   "source": [
    "def train(model, optimiser, epochs=100):\n",
    "    ''' Función para el entrenamiento del modelo\n",
    "    Args:\n",
    "        model - modelo creado\n",
    "        optimiser - optimiser\n",
    "        epochs - número de épocas (en caso de que no se especifique, habrán 100 épocas)\n",
    "    '''         \n",
    "    model = model.to(device=device)\n",
    "    \n",
    "    # Se itera sobre el número de épocas\n",
    "    for epoch in range(epochs):\n",
    "        # Se itera sobre los batches del train_loader\n",
    "        for i, (x, y) in enumerate(tqdm(train_loader)):\n",
    "            model.train()\n",
    "            x = x.to(device=device, dtype=torch.long)\n",
    "            y = y.to(device=device, dtype=torch.long)\n",
    "\n",
    "            # Se generan los scores\n",
    "            scrores = model(x)          \n",
    "            # Se calcula el costo\n",
    "            cost = F.cross_entropy(input=scrores, target=y)\n",
    "            \n",
    "            # Reset the gradient\n",
    "            optimiser.zero_grad()\n",
    "            # Compute the gradients\n",
    "            cost.backward()\n",
    "            # Update parameters\n",
    "            optimiser.step()\n",
    "        \n",
    "        # Se obtiene la precisión con el val_loader\n",
    "        acc = accuracy(model, val_loader)\n",
    "        # Imprimimos la información útil y necesaria del entrenamiento del modelo\n",
    "        print(f'Epoch: {epoch}, Cost: {cost.item():.4f}, Acc: {acc:.4f}')"
   ]
  },
  {
   "cell_type": "code",
   "execution_count": 23,
   "id": "87775b29",
   "metadata": {},
   "outputs": [],
   "source": [
    "epochs = 5 # Número de épocas\n",
    "lr = 0.0005 # Learning rate\n",
    "\n",
    "# Se instancia el modelo\n",
    "rnn_model = RNN_Model_1(EMBEDDING_SIZE, NEURONS, LAYERS, NUM_CLASSES, len(vocab))\n",
    "\n",
    "optimiser = torch.optim.Adam(rnn_model.parameters(), lr=lr) # Optimiser\n"
   ]
  },
  {
   "cell_type": "code",
   "execution_count": 24,
   "id": "aec12a1b",
   "metadata": {
    "scrolled": true
   },
   "outputs": [
    {
     "name": "stderr",
     "output_type": "stream",
     "text": [
      "100%|██████████| 422/422 [01:56<00:00,  3.62it/s]\n"
     ]
    },
    {
     "name": "stdout",
     "output_type": "stream",
     "text": [
      "Epoch: 0, Cost: 0.5301, Acc: 0.8680\n"
     ]
    },
    {
     "name": "stderr",
     "output_type": "stream",
     "text": [
      "100%|██████████| 422/422 [01:58<00:00,  3.57it/s]\n"
     ]
    },
    {
     "name": "stdout",
     "output_type": "stream",
     "text": [
      "Epoch: 1, Cost: 0.2166, Acc: 0.8940\n"
     ]
    },
    {
     "name": "stderr",
     "output_type": "stream",
     "text": [
      "100%|██████████| 422/422 [02:00<00:00,  3.51it/s]\n"
     ]
    },
    {
     "name": "stdout",
     "output_type": "stream",
     "text": [
      "Epoch: 2, Cost: 0.2077, Acc: 0.9058\n"
     ]
    },
    {
     "name": "stderr",
     "output_type": "stream",
     "text": [
      "100%|██████████| 422/422 [01:59<00:00,  3.52it/s]\n"
     ]
    },
    {
     "name": "stdout",
     "output_type": "stream",
     "text": [
      "Epoch: 3, Cost: 0.1968, Acc: 0.9124\n"
     ]
    },
    {
     "name": "stderr",
     "output_type": "stream",
     "text": [
      "100%|██████████| 422/422 [01:58<00:00,  3.56it/s]\n"
     ]
    },
    {
     "name": "stdout",
     "output_type": "stream",
     "text": [
      "Epoch: 4, Cost: 0.1321, Acc: 0.9124\n"
     ]
    }
   ],
   "source": [
    "# Se manda a llamar la función \"train\" para entrenar el modelo\n",
    "train(rnn_model, optimiser=optimiser,  epochs=epochs)"
   ]
  },
  {
   "cell_type": "code",
   "execution_count": 25,
   "id": "7a3ef175",
   "metadata": {},
   "outputs": [
    {
     "name": "stdout",
     "output_type": "stream",
     "text": [
      "0.9067\n"
     ]
    }
   ],
   "source": [
    "# Precisión del test_loader\n",
    "print(f'{accuracy(rnn_model, test_loader):.4f}')"
   ]
  },
  {
   "cell_type": "code",
   "execution_count": 27,
   "id": "ed30693d",
   "metadata": {},
   "outputs": [],
   "source": [
    "def sample_text(model, loader):\n",
    "    '''  Función que toma un texto como entrada y lo clasifica usando el modelo ya entrenado\n",
    "    Args:\n",
    "        model - nuestro modelo ya entrenado\n",
    "        loader - texto ya preprocesado\n",
    "    Returns:\n",
    "        predictions - predicciones de la clasificación del texto\n",
    "        labels - las etiquetas reales del texto\n",
    "    '''\n",
    "    model.eval() \n",
    "    predictions = []\n",
    "    labels = []\n",
    "\n",
    "    # Se deshabilita el cálculo del gradiente\n",
    "    with torch.no_grad():\n",
    "         # Se itera sobre los batches de loader\n",
    "         for x, y in loader:\n",
    "            x = x.to(device=device, dtype=torch.long)\n",
    "            y = y.to(device=device, dtype=torch.long)\n",
    "\n",
    "            # Se generan los scores\n",
    "            scores = model(x)\n",
    "\n",
    "            # Convierte los scores en probabilidades (usando softmax)\n",
    "            probabilities = torch.softmax(scores, dim=1)\n",
    "            # Luego se elige la clase más probable a partir de lo anterior\n",
    "            preds = torch.argmax(probabilities, dim=1)\n",
    "\n",
    "            # Se juntan las predicciones (preds) y aparte las etiquetas (y) para devolverlas\n",
    "            predictions.extend(preds.cpu().numpy())\n",
    "            labels.extend(y.cpu().numpy())\n",
    "\n",
    "    return predictions, labels"
   ]
  },
  {
   "cell_type": "code",
   "execution_count": 28,
   "id": "534f0220",
   "metadata": {},
   "outputs": [],
   "source": [
    "# Se manda a llamar \"sample_text\" con test loader y nuestro modelo\n",
    "predictions, labels = sample_text(rnn_model, test_loader)"
   ]
  },
  {
   "cell_type": "code",
   "execution_count": 29,
   "id": "bb38e093",
   "metadata": {},
   "outputs": [],
   "source": [
    "def confusion_matrix(predictions, labels):\n",
    "    ''' Función que crea una matriz de confusión\n",
    "    Args:\n",
    "        predictions - predicciones de la clasificación del texto\n",
    "        labels - las etiquetas reales del texto\n",
    "    '''\n",
    "    plt.figure(figsize=(10, 10))\n",
    "    # Se calcula la matriz de confusión\n",
    "    skplt.metrics.plot_confusion_matrix(labels, predictions)\n",
    "\n",
    "    # Se muestra la matriz de confusión\n",
    "    plt.show()"
   ]
  },
  {
   "cell_type": "code",
   "execution_count": 30,
   "metadata": {},
   "outputs": [
    {
     "data": {
      "text/plain": [
       "<Figure size 1000x1000 with 0 Axes>"
      ]
     },
     "metadata": {},
     "output_type": "display_data"
    },
    {
     "data": {
      "image/png": "[encoded data removed]",
      "text/plain": [
       "<Figure size 640x480 with 2 Axes>"
      ]
     },
     "metadata": {},
     "output_type": "display_data"
    }
   ],
   "source": [
    "# Se manda a llamar \"confusion_matrix\" para obtener y graficar la matriz de confusión\n",
    "confusion_matrix(predictions, labels)"
   ]
  }
 ],
 "metadata": {
  "kernelspec": {
   "display_name": "Python 3 (ipykernel)",
   "language": "python",
   "name": "python3"
  },
  "language_info": {
   "codemirror_mode": {
    "name": "ipython",
    "version": 3
   },
   "file_extension": ".py",
   "mimetype": "text/x-python",
   "name": "python",
   "nbconvert_exporter": "python",
   "pygments_lexer": "ipython3",
   "version": "3.9.6"
  },
  "varInspector": {
   "cols": {
    "lenName": 16,
    "lenType": 16,
    "lenVar": 40
   },
   "kernels_config": {
    "python": {
     "delete_cmd_postfix": "",
     "delete_cmd_prefix": "del ",
     "library": "var_list.py",
     "varRefreshCmd": "print(var_dic_list())"
    },
    "r": {
     "delete_cmd_postfix": ") ",
     "delete_cmd_prefix": "rm(",
     "library": "var_list.r",
     "varRefreshCmd": "cat(var_dic_list()) "
    }
   },
   "types_to_exclude": [
    "module",
    "function",
    "builtin_function_or_method",
    "instance",
    "_Feature"
   ],
   "window_display": false
  }
 },
 "nbformat": 4,
 "nbformat_minor": 5
}

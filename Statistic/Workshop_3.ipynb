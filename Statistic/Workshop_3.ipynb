{
  "nbformat": 4,
  "nbformat_minor": 0,
  "metadata": {
    "colab": {
      "provenance": [],
      "authorship_tag": "ABX9TyP3NXaM+ZimiHk5kzaoUYRD",
      "include_colab_link": true
    },
    "kernelspec": {
      "name": "python3",
      "display_name": "Python 3"
    },
    "language_info": {
      "name": "python"
    }
  },
  "cells": [
    {
      "cell_type": "markdown",
      "metadata": {
        "id": "view-in-github",
        "colab_type": "text"
      },
      "source": [
        "<a href=\"https://colab.research.google.com/github/FerminMendez/ModuleAI/blob/main/Statistic/Workshop3_pynb.ipynb\" target=\"_parent\"><img src=\"https://colab.research.google.com/assets/colab-badge.svg\" alt=\"Open In Colab\"/></a>"
      ]
    },
    {
      "cell_type": "markdown",
      "source": [
        "Workshop 3. Fermín Méndez García A01703366"
      ],
      "metadata": {
        "id": "Bdug9lEJU5ao"
      }
    },
    {
      "cell_type": "markdown",
      "source": [],
      "metadata": {
        "id": "CgDaPSb5V4E1"
      }
    },
    {
      "cell_type": "code",
      "execution_count": 11,
      "metadata": {
        "id": "jBiIf4pnreSZ"
      },
      "outputs": [],
      "source": [
        "def ccr(df):\n",
        "  x = np.log(df) - np.log(df.shift(1))\n",
        "  x = x.dropna()\n",
        "  return x"
      ]
    },
    {
      "cell_type": "markdown",
      "source": [
        "2\n",
        "Hypothesis testing - comparing the mean of 2 groups"
      ],
      "metadata": {
        "id": "NugqtgAIryFP"
      }
    },
    {
      "cell_type": "markdown",
      "source": [
        "En este trabajo tomaremos la diferencia de las medias como variable de estudio.\n",
        "Queremos comprobar que las medias son distintas.\n",
        "Para eso planetamos las hipótesis\n",
        "\n",
        "\n",
        "*   ho-> diff=0\n",
        "\n",
        "*   ha-> diff!=0\n",
        "\n"
      ],
      "metadata": {
        "id": "BOCSB8TeF1CN"
      }
    },
    {
      "cell_type": "code",
      "source": [
        "import yfinance as yf\n",
        "import numpy as np\n",
        "import pandas as pd\n",
        "\n",
        "sprices=yf.download(tickers=[\"INTC\",\"AMD\"], start=\"2019-01-01\",interval=\"1mo\")\n",
        "df_INTC=yf.download(tickers=\"INTC\", start=\"2019-01-01\",interval=\"1mo\")\n",
        "df_AMD=yf.download(tickers=[\"AMD\"], start=\"2019-01-01\",interval=\"1mo\")\n"
      ],
      "metadata": {
        "colab": {
          "base_uri": "https://localhost:8080/"
        },
        "id": "nT8S5SJ3uuQc",
        "outputId": "856f8f7d-4571-4d4c-9503-d36bd039b538"
      },
      "execution_count": 12,
      "outputs": [
        {
          "output_type": "stream",
          "name": "stdout",
          "text": [
            "[*********************100%%**********************]  2 of 2 completed\n",
            "[*********************100%%**********************]  1 of 1 completed\n",
            "[*********************100%%**********************]  1 of 1 completed\n"
          ]
        }
      ]
    },
    {
      "cell_type": "code",
      "source": [
        "ccr_INT=ccr(df_INTC['Adj Close'])\n",
        "ccr_INT.head()\n",
        "ccr_AMD=ccr(df_AMD['Adj Close'])\n",
        "ccr_AMD.head()\n"
      ],
      "metadata": {
        "colab": {
          "base_uri": "https://localhost:8080/"
        },
        "id": "ImabvUypv7tv",
        "outputId": "9d8a577c-81e9-4f17-a1c3-190a73faca33"
      },
      "execution_count": 13,
      "outputs": [
        {
          "output_type": "execute_result",
          "data": {
            "text/plain": [
              "Date\n",
              "2019-02-01   -0.036717\n",
              "2019-03-01    0.081186\n",
              "2019-04-01    0.079440\n",
              "2019-05-01   -0.007994\n",
              "2019-06-01    0.102547\n",
              "Name: Adj Close, dtype: float64"
            ]
          },
          "metadata": {},
          "execution_count": 13
        }
      ]
    },
    {
      "cell_type": "markdown",
      "source": [],
      "metadata": {
        "id": "MT74eS1nxGGU"
      }
    },
    {
      "cell_type": "code",
      "source": [
        "# Stating the hypotheses:\n",
        "# H0: (mean(rAMD) - mean(rINTEL)) = 0\n",
        "# Ha: (mean(rAMD) - mean(rINTEL)) <> 0\n",
        "\n",
        "# Calculating the standard error of the difference of the means:\n",
        "\n",
        "N = ccr_AMD.count()\n",
        "amdvar = ccr_AMD.var()\n",
        "intelvar = ccr_INT.var()\n",
        "sediff = np.sqrt((1/N) * (amdvar + intelvar ) )\n",
        "\n",
        "# Calculating the t-Statistic:\n",
        "t = (ccr_AMD.mean() - ccr_INT.mean()) / sediff\n",
        "t"
      ],
      "metadata": {
        "colab": {
          "base_uri": "https://localhost:8080/"
        },
        "id": "Ap8Jy3WCxHiS",
        "outputId": "0e96f55e-0db7-42a3-8b42-fd54c3935686"
      },
      "execution_count": 14,
      "outputs": [
        {
          "output_type": "execute_result",
          "data": {
            "text/plain": [
              "1.3243930232109231"
            ]
          },
          "metadata": {},
          "execution_count": 14
        }
      ]
    },
    {
      "cell_type": "code",
      "source": [],
      "metadata": {
        "id": "DAbGL5l2HkaC"
      },
      "execution_count": 14,
      "outputs": []
    },
    {
      "cell_type": "markdown",
      "source": [
        "Con esto interpretamos que hay solo un poco más del 70% de probabilidad que la la diferencia de los retornos de ambas empresas sean diferentes. En este caso no hay muestra probabilistica significativa que garantice que una es mejor que la otra con diferencia."
      ],
      "metadata": {
        "id": "AOofLAcZHk_w"
      }
    },
    {
      "cell_type": "code",
      "source": [
        "# Calculating the pvalue from the t-Statistic:\n",
        "from scipy import stats as st\n",
        "# The st.t.sf function calculates the 1-tailed pvalue, so we multiply it by 2 to get the 2-tailed pvalue\n",
        "# the degrees of freedom for 2-independent-means t-test is calculated with the following formula:\n",
        "df = ( ((N-1) / N**2) * (amdvar + intelvar)**2  / ( (amdvar/N)**2 + (intelvar/N)**2  ) )\n",
        "# Now we calculate the pvalue with the t and df:\n",
        "pvalue = 2 * st.t.sf(np.abs(t), df)\n",
        "pvalue"
      ],
      "metadata": {
        "colab": {
          "base_uri": "https://localhost:8080/"
        },
        "id": "fDQVNuyxN0GU",
        "outputId": "febbc2f2-0189-4503-9ed3-92bdbd8cd728"
      },
      "execution_count": 15,
      "outputs": [
        {
          "output_type": "execute_result",
          "data": {
            "text/plain": [
              "0.1885972373123008"
            ]
          },
          "metadata": {},
          "execution_count": 15
        }
      ]
    },
    {
      "cell_type": "code",
      "source": [
        "st.ttest_ind(ccr_AMD,ccr_INT,equal_var=False)\n"
      ],
      "metadata": {
        "colab": {
          "base_uri": "https://localhost:8080/"
        },
        "id": "svUAg-8xH8dI",
        "outputId": "f024c817-606e-4d69-8894-9235ada85b40"
      },
      "execution_count": 16,
      "outputs": [
        {
          "output_type": "execute_result",
          "data": {
            "text/plain": [
              "Ttest_indResult(statistic=1.324393023210923, pvalue=0.1885972373123009)"
            ]
          },
          "metadata": {},
          "execution_count": 16
        }
      ]
    },
    {
      "cell_type": "markdown",
      "source": [
        "Hemos comprobado que los calculos son correctos"
      ],
      "metadata": {
        "id": "zslhiT_MOSVq"
      }
    },
    {
      "cell_type": "markdown",
      "source": [
        "3- Niveles de confianza:\n",
        "Como regla general se aceptan la hipótesis con una confianza de 95% o más. Pero ese 5% restante sigue siendo una pribailidad que falle.\n",
        "A ese valor restante se le llama PValue. Y si una prueba falla debido a ese porcentaje es conocido como error de tipo I\n"
      ],
      "metadata": {
        "id": "x127Iy7rKi6q"
      }
    },
    {
      "cell_type": "code",
      "source": [
        "import researchpy as rp\n",
        "# Using the ttest function from researchpy:\n",
        "rp.ttest(ccr_AMD,ccr_INT,equal_variances=False)\n",
        "# We got the same result as above!\n",
        "# With this function we avoid calculating all steps of the hypothesis test!"
      ],
      "metadata": {
        "colab": {
          "base_uri": "https://localhost:8080/"
        },
        "id": "TTHcLYBPORHY",
        "outputId": "96d9d88e-08ca-4677-89c8-2c6d3188ec88"
      },
      "execution_count": 17,
      "outputs": [
        {
          "output_type": "stream",
          "name": "stderr",
          "text": [
            "/usr/local/lib/python3.10/dist-packages/researchpy/ttest.py:38: FutureWarning: The series.append method is deprecated and will be removed from pandas in a future version. Use pandas.concat instead.\n",
            "  groups = group1.append(group2, ignore_index= True)\n"
          ]
        },
        {
          "output_type": "execute_result",
          "data": {
            "text/plain": [
              "(    Variable      N      Mean        SD        SE  95% Conf.  Interval\n",
              " 0  Adj Close   55.0  0.026997  0.145610  0.019634  -0.012367  0.066361\n",
              " 1  Adj Close   55.0 -0.004170  0.096212  0.012973  -0.030180  0.021839\n",
              " 2   combined  110.0  0.011413  0.123834  0.011807  -0.011988  0.034815,\n",
              "                     Satterthwaite t-test  results\n",
              " 0  Difference (Adj Close - Adj Close) =    0.0312\n",
              " 1                  Degrees of freedom =   93.6031\n",
              " 2                                   t =    1.3244\n",
              " 3               Two side test p value =    0.1886\n",
              " 4              Difference < 0 p value =    0.9057\n",
              " 5              Difference > 0 p value =    0.0943\n",
              " 6                           Cohen's d =    0.2526\n",
              " 7                           Hedge's g =    0.2508\n",
              " 8                      Glass's delta1 =    0.2140\n",
              " 9                    Point-Biserial r =    0.1356)"
            ]
          },
          "metadata": {},
          "execution_count": 17
        }
      ]
    },
    {
      "cell_type": "markdown",
      "source": [
        "En este caso el adj close que aparece primero es AMD e INTEL es el segundo."
      ],
      "metadata": {
        "id": "cr06Kc_kSYzI"
      }
    },
    {
      "cell_type": "markdown",
      "source": [
        "4- Medidas de relación\n",
        "TEniendo más de una variable es posible que se relacionen entre sí por pares. Por ejemplo si tenemos una variable de velocidad, otra de distancia y una de tiempo. Donde la distancia es t*v entonces la distancia es directamente proporcional al tiempo y a la velocidad.\n"
      ],
      "metadata": {
        "id": "f9tu2QkzSqLh"
      }
    },
    {
      "cell_type": "markdown",
      "source": [
        "A continuación veremos un ejemplo con Microsoft y s&500"
      ],
      "metadata": {
        "id": "ZRMIypRVUSHX"
      }
    },
    {
      "cell_type": "code",
      "source": [
        "import numpy as np\n",
        "import pandas as pd\n",
        "import pandas_datareader as pdr\n",
        "import yfinance as yf\n",
        "import matplotlib\n",
        "import matplotlib.pyplot as plt\n",
        "\n",
        "# We download price data for Microsoft and the S&P500 index:\n",
        "prices=yf.download(tickers=\"MSFT ^GSPC\", start=\"2019-01-01\",interval=\"1mo\")\n",
        "# We select Adjusted closing prices and drop any row with NA values:\n",
        "adjprices = prices['Adj Close'].dropna()"
      ],
      "metadata": {
        "colab": {
          "base_uri": "https://localhost:8080/"
        },
        "id": "4I3RcmLWUaxt",
        "outputId": "09d694e9-c49b-4d21-f5e4-07cf239c7215"
      },
      "execution_count": 18,
      "outputs": [
        {
          "output_type": "stream",
          "name": "stdout",
          "text": [
            "[*********************100%%**********************]  2 of 2 completed\n"
          ]
        }
      ]
    },
    {
      "cell_type": "code",
      "source": [
        "plt.clf()\n",
        "adjprices.plot(y=['MSFT','^GSPC'])\n",
        "plt.show()"
      ],
      "metadata": {
        "colab": {
          "base_uri": "https://localhost:8080/",
          "height": 466
        },
        "id": "owMHnj4bUgkD",
        "outputId": "3d3a9d54-3074-4d58-f621-ebb22f10f294"
      },
      "execution_count": 19,
      "outputs": [
        {
          "output_type": "display_data",
          "data": {
            "text/plain": [
              "<Figure size 640x480 with 0 Axes>"
            ]
          },
          "metadata": {}
        },
        {
          "output_type": "display_data",
          "data": {
            "text/plain": [
              "<Figure size 640x480 with 1 Axes>"
            ],
            "image/png": "[encoded data removed]"
          },
          "metadata": {}
        }
      ]
    },
    {
      "cell_type": "code",
      "source": [
        "adjprices['iMSFT'] = adjprices['MSFT'] / adjprices['MSFT'][0]\n",
        "adjprices['iGSPC'] = adjprices['^GSPC'] / adjprices['^GSPC'][0]"
      ],
      "metadata": {
        "id": "qvGFIewnUqdl"
      },
      "execution_count": 20,
      "outputs": []
    },
    {
      "cell_type": "code",
      "source": [
        "plt.clf()\n",
        "adjprices.plot(y=['iMSFT','iGSPC'])\n",
        "plt.show()"
      ],
      "metadata": {
        "colab": {
          "base_uri": "https://localhost:8080/",
          "height": 466
        },
        "id": "kglPsKd2UvGQ",
        "outputId": "6e6da77c-7be3-44b4-ceb1-823969b1bbf3"
      },
      "execution_count": 21,
      "outputs": [
        {
          "output_type": "display_data",
          "data": {
            "text/plain": [
              "<Figure size 640x480 with 0 Axes>"
            ]
          },
          "metadata": {}
        },
        {
          "output_type": "display_data",
          "data": {
            "text/plain": [
              "<Figure size 640x480 with 1 Axes>"
            ],
            "image/png": "[encoded data removed]"
          },
          "metadata": {}
        }
      ]
    },
    {
      "cell_type": "code",
      "source": [
        "r = np.log(adjprices) - np.log(adjprices.shift(1))\n",
        "# Dropping rows with NA values (the first month will have NAs)\n",
        "r = r.dropna()\n",
        "# Selecting only 2 columns (out of the 4 columns):\n",
        "r = r[['MSFT','^GSPC']]\n",
        "# Renameing the column names:\n",
        "r.columns = ['MSFT','GSPC']"
      ],
      "metadata": {
        "id": "dT7AIhkwU3C8"
      },
      "execution_count": 22,
      "outputs": []
    },
    {
      "cell_type": "code",
      "source": [
        "r.head()\n"
      ],
      "metadata": {
        "colab": {
          "base_uri": "https://localhost:8080/",
          "height": 238
        },
        "id": "W7sLj4ScVBWB",
        "outputId": "09d0e208-1741-467e-be9e-70c0d018a8ba"
      },
      "execution_count": 23,
      "outputs": [
        {
          "output_type": "execute_result",
          "data": {
            "text/plain": [
              "                MSFT      GSPC\n",
              "Date                          \n",
              "2019-02-01  0.070250  0.029296\n",
              "2019-03-01  0.055671  0.017766\n",
              "2019-04-01  0.101963  0.038560\n",
              "2019-05-01 -0.054442 -0.068041\n",
              "2019-06-01  0.083538  0.066658"
            ],
            "text/html": [
              "\n",
              "  <div id=\"df-c411bb7c-7d5e-496c-bcd4-0bc8bfc4bd7b\" class=\"colab-df-container\">\n",
              "    <div>\n",
              "<style scoped>\n",
              "    .dataframe tbody tr th:only-of-type {\n",
              "        vertical-align: middle;\n",
              "    }\n",
              "\n",
              "    .dataframe tbody tr th {\n",
              "        vertical-align: top;\n",
              "    }\n",
              "\n",
              "    .dataframe thead th {\n",
              "        text-align: right;\n",
              "    }\n",
              "</style>\n",
              "<table border=\"1\" class=\"dataframe\">\n",
              "  <thead>\n",
              "    <tr style=\"text-align: right;\">\n",
              "      <th></th>\n",
              "      <th>MSFT</th>\n",
              "      <th>GSPC</th>\n",
              "    </tr>\n",
              "    <tr>\n",
              "      <th>Date</th>\n",
              "      <th></th>\n",
              "      <th></th>\n",
              "    </tr>\n",
              "  </thead>\n",
              "  <tbody>\n",
              "    <tr>\n",
              "      <th>2019-02-01</th>\n",
              "      <td>0.070250</td>\n",
              "      <td>0.029296</td>\n",
              "    </tr>\n",
              "    <tr>\n",
              "      <th>2019-03-01</th>\n",
              "      <td>0.055671</td>\n",
              "      <td>0.017766</td>\n",
              "    </tr>\n",
              "    <tr>\n",
              "      <th>2019-04-01</th>\n",
              "      <td>0.101963</td>\n",
              "      <td>0.038560</td>\n",
              "    </tr>\n",
              "    <tr>\n",
              "      <th>2019-05-01</th>\n",
              "      <td>-0.054442</td>\n",
              "      <td>-0.068041</td>\n",
              "    </tr>\n",
              "    <tr>\n",
              "      <th>2019-06-01</th>\n",
              "      <td>0.083538</td>\n",
              "      <td>0.066658</td>\n",
              "    </tr>\n",
              "  </tbody>\n",
              "</table>\n",
              "</div>\n",
              "    <div class=\"colab-df-buttons\">\n",
              "\n",
              "  <div class=\"colab-df-container\">\n",
              "    <button class=\"colab-df-convert\" onclick=\"convertToInteractive('df-c411bb7c-7d5e-496c-bcd4-0bc8bfc4bd7b')\"\n",
              "            title=\"Convert this dataframe to an interactive table.\"\n",
              "            style=\"display:none;\">\n",
              "\n",
              "  <svg xmlns=\"http://www.w3.org/2000/svg\" height=\"24px\" viewBox=\"0 -960 960 960\">\n",
              "    <path d=\"M120-120v-720h720v720H120Zm60-500h600v-160H180v160Zm220 220h160v-160H400v160Zm0 220h160v-160H400v160ZM180-400h160v-160H180v160Zm440 0h160v-160H620v160ZM180-180h160v-160H180v160Zm440 0h160v-160H620v160Z\"/>\n",
              "  </svg>\n",
              "    </button>\n",
              "\n",
              "  <style>\n",
              "    .colab-df-container {\n",
              "      display:flex;\n",
              "      gap: 12px;\n",
              "    }\n",
              "\n",
              "    .colab-df-convert {\n",
              "      background-color: #E8F0FE;\n",
              "      border: none;\n",
              "      border-radius: 50%;\n",
              "      cursor: pointer;\n",
              "      display: none;\n",
              "      fill: #1967D2;\n",
              "      height: 32px;\n",
              "      padding: 0 0 0 0;\n",
              "      width: 32px;\n",
              "    }\n",
              "\n",
              "    .colab-df-convert:hover {\n",
              "      background-color: #E2EBFA;\n",
              "      box-shadow: 0px 1px 2px rgba(60, 64, 67, 0.3), 0px 1px 3px 1px rgba(60, 64, 67, 0.15);\n",
              "      fill: #174EA6;\n",
              "    }\n",
              "\n",
              "    .colab-df-buttons div {\n",
              "      margin-bottom: 4px;\n",
              "    }\n",
              "\n",
              "    [theme=dark] .colab-df-convert {\n",
              "      background-color: #3B4455;\n",
              "      fill: #D2E3FC;\n",
              "    }\n",
              "\n",
              "    [theme=dark] .colab-df-convert:hover {\n",
              "      background-color: #434B5C;\n",
              "      box-shadow: 0px 1px 3px 1px rgba(0, 0, 0, 0.15);\n",
              "      filter: drop-shadow(0px 1px 2px rgba(0, 0, 0, 0.3));\n",
              "      fill: #FFFFFF;\n",
              "    }\n",
              "  </style>\n",
              "\n",
              "    <script>\n",
              "      const buttonEl =\n",
              "        document.querySelector('#df-c411bb7c-7d5e-496c-bcd4-0bc8bfc4bd7b button.colab-df-convert');\n",
              "      buttonEl.style.display =\n",
              "        google.colab.kernel.accessAllowed ? 'block' : 'none';\n",
              "\n",
              "      async function convertToInteractive(key) {\n",
              "        const element = document.querySelector('#df-c411bb7c-7d5e-496c-bcd4-0bc8bfc4bd7b');\n",
              "        const dataTable =\n",
              "          await google.colab.kernel.invokeFunction('convertToInteractive',\n",
              "                                                    [key], {});\n",
              "        if (!dataTable) return;\n",
              "\n",
              "        const docLinkHtml = 'Like what you see? Visit the ' +\n",
              "          '<a target=\"_blank\" href=https://colab.research.google.com/notebooks/data_table.ipynb>data table notebook</a>'\n",
              "          + ' to learn more about interactive tables.';\n",
              "        element.innerHTML = '';\n",
              "        dataTable['output_type'] = 'display_data';\n",
              "        await google.colab.output.renderOutput(dataTable, element);\n",
              "        const docLink = document.createElement('div');\n",
              "        docLink.innerHTML = docLinkHtml;\n",
              "        element.appendChild(docLink);\n",
              "      }\n",
              "    </script>\n",
              "  </div>\n",
              "\n",
              "\n",
              "<div id=\"df-4edd1bec-d499-40bc-8575-9195ad0f193e\">\n",
              "  <button class=\"colab-df-quickchart\" onclick=\"quickchart('df-4edd1bec-d499-40bc-8575-9195ad0f193e')\"\n",
              "            title=\"Suggest charts.\"\n",
              "            style=\"display:none;\">\n",
              "\n",
              "<svg xmlns=\"http://www.w3.org/2000/svg\" height=\"24px\"viewBox=\"0 0 24 24\"\n",
              "     width=\"24px\">\n",
              "    <g>\n",
              "        <path d=\"M19 3H5c-1.1 0-2 .9-2 2v14c0 1.1.9 2 2 2h14c1.1 0 2-.9 2-2V5c0-1.1-.9-2-2-2zM9 17H7v-7h2v7zm4 0h-2V7h2v10zm4 0h-2v-4h2v4z\"/>\n",
              "    </g>\n",
              "</svg>\n",
              "  </button>\n",
              "\n",
              "<style>\n",
              "  .colab-df-quickchart {\n",
              "    background-color: #E8F0FE;\n",
              "    border: none;\n",
              "    border-radius: 50%;\n",
              "    cursor: pointer;\n",
              "    display: none;\n",
              "    fill: #1967D2;\n",
              "    height: 32px;\n",
              "    padding: 0 0 0 0;\n",
              "    width: 32px;\n",
              "  }\n",
              "\n",
              "  .colab-df-quickchart:hover {\n",
              "    background-color: #E2EBFA;\n",
              "    box-shadow: 0px 1px 2px rgba(60, 64, 67, 0.3), 0px 1px 3px 1px rgba(60, 64, 67, 0.15);\n",
              "    fill: #174EA6;\n",
              "  }\n",
              "\n",
              "  [theme=dark] .colab-df-quickchart {\n",
              "    background-color: #3B4455;\n",
              "    fill: #D2E3FC;\n",
              "  }\n",
              "\n",
              "  [theme=dark] .colab-df-quickchart:hover {\n",
              "    background-color: #434B5C;\n",
              "    box-shadow: 0px 1px 3px 1px rgba(0, 0, 0, 0.15);\n",
              "    filter: drop-shadow(0px 1px 2px rgba(0, 0, 0, 0.3));\n",
              "    fill: #FFFFFF;\n",
              "  }\n",
              "</style>\n",
              "\n",
              "  <script>\n",
              "    async function quickchart(key) {\n",
              "      const charts = await google.colab.kernel.invokeFunction(\n",
              "          'suggestCharts', [key], {});\n",
              "    }\n",
              "    (() => {\n",
              "      let quickchartButtonEl =\n",
              "        document.querySelector('#df-4edd1bec-d499-40bc-8575-9195ad0f193e button');\n",
              "      quickchartButtonEl.style.display =\n",
              "        google.colab.kernel.accessAllowed ? 'block' : 'none';\n",
              "    })();\n",
              "  </script>\n",
              "</div>\n",
              "    </div>\n",
              "  </div>\n"
            ]
          },
          "metadata": {},
          "execution_count": 23
        }
      ]
    },
    {
      "cell_type": "code",
      "source": [
        "plt.clf()\n",
        "r.plot.scatter(x='GSPC', y='MSFT',c='DarkBlue')\n",
        "plt.show()"
      ],
      "metadata": {
        "colab": {
          "base_uri": "https://localhost:8080/",
          "height": 466
        },
        "id": "-Nk6qj5YVEJ3",
        "outputId": "aa982d37-bf2a-4ebd-98d0-f6532eb0a14b"
      },
      "execution_count": 24,
      "outputs": [
        {
          "output_type": "display_data",
          "data": {
            "text/plain": [
              "<Figure size 640x480 with 0 Axes>"
            ]
          },
          "metadata": {}
        },
        {
          "output_type": "display_data",
          "data": {
            "text/plain": [
              "<Figure size 640x480 with 1 Axes>"
            ],
            "image/png": "[encoded data removed]"
          },
          "metadata": {}
        }
      ]
    },
    {
      "cell_type": "code",
      "source": [
        "plt.clf()\n",
        "adjprices.plot.scatter(x='^GSPC', y='MSFT',c='DarkBlue')\n",
        "plt.show()"
      ],
      "metadata": {
        "colab": {
          "base_uri": "https://localhost:8080/",
          "height": 469
        },
        "id": "PjVUrhRMVRBB",
        "outputId": "76a30f76-7aaa-4999-91ec-c3d3e07fde86"
      },
      "execution_count": 25,
      "outputs": [
        {
          "output_type": "display_data",
          "data": {
            "text/plain": [
              "<Figure size 640x480 with 0 Axes>"
            ]
          },
          "metadata": {}
        },
        {
          "output_type": "display_data",
          "data": {
            "text/plain": [
              "<Figure size 640x480 with 1 Axes>"
            ],
            "image/png": "[encoded data removed]"
          },
          "metadata": {}
        }
      ]
    },
    {
      "cell_type": "code",
      "source": [
        "plt.clf()\n",
        "r.plot(y=['MSFT','GSPC'])\n",
        "plt.show()"
      ],
      "metadata": {
        "id": "axb916M9VUZO",
        "outputId": "54d237d8-fe09-4198-a0f2-b7a1d24cb1b0",
        "colab": {
          "base_uri": "https://localhost:8080/",
          "height": 466
        }
      },
      "execution_count": 26,
      "outputs": [
        {
          "output_type": "display_data",
          "data": {
            "text/plain": [
              "<Figure size 640x480 with 0 Axes>"
            ]
          },
          "metadata": {}
        },
        {
          "output_type": "display_data",
          "data": {
            "text/plain": [
              "<Figure size 640x480 with 1 Axes>"
            ],
            "image/png": "[encoded data removed]"
          },
          "metadata": {}
        }
      ]
    },
    {
      "cell_type": "markdown",
      "source": [
        "4-Medidas de relaciones lineales:\n",
        "Covarianza y correlación"
      ],
      "metadata": {
        "id": "zB5c7MnxV5IH"
      }
    },
    {
      "cell_type": "markdown",
      "source": [
        "Son datos que nos ayudan a determinar la dependencia entre dos variables.\n"
      ],
      "metadata": {
        "id": "Difnr3itWAiz"
      }
    },
    {
      "cell_type": "markdown",
      "source": [
        "Una variable estacionaria es aquella que mantiene una media y desviación estándar a lo largo del tiempo.\n",
        "Hay que identificar si nuestras variables son estacionarias o no estacionarias. Es común que en las no estacionarias encontremos una falsa correlación lineal. Es mejora analizarlas con series de tiempo."
      ],
      "metadata": {
        "id": "YehWOuY5XAys"
      }
    },
    {
      "cell_type": "markdown",
      "source": [
        "La covarancia se define como la desviación de los valores respecto a sus medias. En esta caso COV(X,Y) es el producti de todas las diferencias (X-xi) y (Y-yi) entre n\n"
      ],
      "metadata": {
        "id": "hMghlB7lX3ta"
      }
    },
    {
      "cell_type": "code",
      "source": [],
      "metadata": {
        "id": "MF96IRPCYksI"
      },
      "execution_count": 26,
      "outputs": []
    },
    {
      "cell_type": "markdown",
      "source": [
        "¿Por qué se usa N-1 y no N para la covarianza de muestras?"
      ],
      "metadata": {
        "id": "ldFK-AMkYlJ8"
      }
    },
    {
      "cell_type": "markdown",
      "source": [
        "Una covarianza negativa indica una realación lineal negativa y aplica lo mismo para la positiva. La varianza tiene valores que van a lo largo de todos los números reales y es dificil de interpretar. Por otra parte el indicie de correlación es un valor acotado entre -1 y 1 que representa de mejora manera si dos variables son lienealmente dependientes."
      ],
      "metadata": {
        "id": "SFuRo7VMZlub"
      }
    },
    {
      "cell_type": "markdown",
      "source": [
        "La desviación estándar la correlación. Es SD(corr)=(1-r^2/(n-2))^(1/2))"
      ],
      "metadata": {
        "id": "VxCEzx0LaYYE"
      }
    },
    {
      "cell_type": "markdown",
      "source": [
        "Y la t-statistic va a ser corr/SD(corr)"
      ],
      "metadata": {
        "id": "EaT0wSbXa05A"
      }
    },
    {
      "cell_type": "markdown",
      "source": [
        "4.3 Calculando la varianza  y la correlación"
      ],
      "metadata": {
        "id": "QnEX-o1nbvkU"
      }
    },
    {
      "cell_type": "code",
      "source": [
        "msft_mean = r['MSFT'].mean()\n",
        "gspc_mean = r['GSPC'].mean()\n",
        "N = r['GSPC'].count()\n",
        "sum_of_prod = ((r['MSFT'] - msft_mean) * (r['GSPC'] - gspc_mean) ).sum()\n",
        "cov = sum_of_prod / (N-1)\n",
        "cov"
      ],
      "metadata": {
        "id": "AXHlB-abbDrq",
        "outputId": "a1315fa1-1638-4b3b-992f-e492ad9f38fb",
        "colab": {
          "base_uri": "https://localhost:8080/"
        }
      },
      "execution_count": 27,
      "outputs": [
        {
          "output_type": "execute_result",
          "data": {
            "text/plain": [
              "0.0025821906211170825"
            ]
          },
          "metadata": {},
          "execution_count": 27
        }
      ]
    },
    {
      "cell_type": "code",
      "source": [
        "covm = np.cov(r['MSFT'],r['GSPC'])\n",
        "covm"
      ],
      "metadata": {
        "id": "SNT92g5wbe46",
        "outputId": "10851740-82d5-42b2-af1e-0e1eea021068",
        "colab": {
          "base_uri": "https://localhost:8080/"
        }
      },
      "execution_count": 28,
      "outputs": [
        {
          "output_type": "execute_result",
          "data": {
            "text/plain": [
              "array([[0.00395674, 0.00258219],\n",
              "       [0.00258219, 0.00287317]])"
            ]
          },
          "metadata": {},
          "execution_count": 28
        }
      ]
    },
    {
      "cell_type": "code",
      "source": [
        "cov = covm[0,1]\n",
        "cov\n"
      ],
      "metadata": {
        "id": "ynPe5urgbjE4",
        "outputId": "1c5ac4fa-3e97-416c-8223-e881f43de5a2",
        "colab": {
          "base_uri": "https://localhost:8080/"
        }
      },
      "execution_count": 29,
      "outputs": [
        {
          "output_type": "execute_result",
          "data": {
            "text/plain": [
              "0.002582190621117082"
            ]
          },
          "metadata": {},
          "execution_count": 29
        }
      ]
    },
    {
      "cell_type": "code",
      "source": [
        "corr = np.corrcoef(r['MSFT'],r['GSPC'])\n",
        "corr"
      ],
      "metadata": {
        "id": "co2IL3O9bm1b",
        "outputId": "152c6bf2-ddff-477a-898e-f0e8b3bbea33",
        "colab": {
          "base_uri": "https://localhost:8080/"
        }
      },
      "execution_count": 30,
      "outputs": [
        {
          "output_type": "execute_result",
          "data": {
            "text/plain": [
              "array([[1.        , 0.76584037],\n",
              "       [0.76584037, 1.        ]])"
            ]
          },
          "metadata": {},
          "execution_count": 30
        }
      ]
    },
    {
      "cell_type": "code",
      "source": [
        "corr2 = cov / (r['MSFT'].std() * r['GSPC'].std())\n",
        "corr2"
      ],
      "metadata": {
        "id": "DScY6sNebp1T",
        "outputId": "2da532bc-f2da-44ef-9193-8e278c443f67",
        "colab": {
          "base_uri": "https://localhost:8080/"
        }
      },
      "execution_count": 31,
      "outputs": [
        {
          "output_type": "execute_result",
          "data": {
            "text/plain": [
              "0.7658403742833287"
            ]
          },
          "metadata": {},
          "execution_count": 31
        }
      ]
    },
    {
      "cell_type": "code",
      "source": [
        "from scipy.stats import pearsonr\n",
        "corr2 = pearsonr(r['MSFT'],r['GSPC'])\n",
        "corr2\n"
      ],
      "metadata": {
        "id": "kFYfH9jQbsf2",
        "outputId": "56c8f5f0-55de-4e62-a266-befc481de965",
        "colab": {
          "base_uri": "https://localhost:8080/"
        }
      },
      "execution_count": 32,
      "outputs": [
        {
          "output_type": "execute_result",
          "data": {
            "text/plain": [
              "PearsonRResult(statistic=0.7658403742833285, pvalue=9.649211978362864e-12)"
            ]
          },
          "metadata": {},
          "execution_count": 32
        }
      ]
    }
  ]
}

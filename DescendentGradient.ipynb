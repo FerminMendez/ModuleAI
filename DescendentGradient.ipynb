{
  "nbformat": 4,
  "nbformat_minor": 0,
  "metadata": {
    "colab": {
      "provenance": [],
      "authorship_tag": "ABX9TyMeOdJN5fIc5P5WOLeHCYbh",
      "include_colab_link": true
    },
    "kernelspec": {
      "name": "python3",
      "display_name": "Python 3"
    },
    "language_info": {
      "name": "python"
    }
  },
  "cells": [
    {
      "cell_type": "markdown",
      "metadata": {
        "id": "view-in-github",
        "colab_type": "text"
      },
      "source": [
        "<a href=\"https://colab.research.google.com/github/FerminMendez/ModuleAI/blob/main/DescendentGradient.ipynb\" target=\"_parent\"><img src=\"https://colab.research.google.com/assets/colab-badge.svg\" alt=\"Open In Colab\"/></a>"
      ]
    },
    {
      "cell_type": "markdown",
      "source": [
        "Fermín Méndez García\n",
        "A01703366\n",
        "\n",
        "Implementación de gradiente descendiente"
      ],
      "metadata": {
        "id": "9EwVzSnB7NRt"
      }
    },
    {
      "cell_type": "markdown",
      "source": [
        "La idea del gradiente descendiente es que a partir de una regresión lineal y= b+ k0*x0 + k1*x1 + ... +kn*xn encontremos los valores de los coeficientes k tal que la ecuación haga una buena aproximación de los datos.\n"
      ],
      "metadata": {
        "id": "nH1InuenC7mr"
      }
    },
    {
      "cell_type": "markdown",
      "source": [
        "Para este primer ejemplo queremos encontrar los coeficientes x1=1, x2=1. Es decir una suma simple tal que y= x1+x2. Los datos dados serán\n",
        "train_x=[[1,1],[2,2],[3,3],[4,4],[5,5]]\n",
        "y=[2,4,6,8,10]"
      ],
      "metadata": {
        "id": "6D-jgC73wjZA"
      }
    },
    {
      "cell_type": "markdown",
      "source": [
        "Haremos la implementación del gradiente descendiente.Con pandas"
      ],
      "metadata": {
        "id": "rHkK4PKixOuu"
      }
    },
    {
      "cell_type": "code",
      "source": [
        "import pandas as pd\n",
        "import numpy as np\n"
      ],
      "metadata": {
        "id": "dEypx2BRxYJd"
      },
      "execution_count": 199,
      "outputs": []
    },
    {
      "cell_type": "markdown",
      "source": [
        "1- Importar el data frame y cambiar los tipos de datos para asegurarnos que podemos manipularnos como queremos"
      ],
      "metadata": {
        "id": "E4qVeJVz0nMd"
      }
    },
    {
      "cell_type": "code",
      "source": [
        "def getDefaultDataSet(n,m):\n",
        "  num_rows=n\n",
        "  num_col=m\n",
        "  default=np.array(range(n)).astype('float16')\n",
        "  df_x=pd.DataFrame()\n",
        "  default=np.array(range(n)).astype('float16')\n",
        "  for i in range(num_col):\n",
        "    name=\"x\"+str(i)\n",
        "    df_x[name]=default\n",
        "  df_x.insert(loc = 0,column=\"ones\",value = np.ones(num_rows).astype('float16'))\n",
        "  df_y=pd.DataFrame([default*m]).T\n",
        "  return [df_x,df_y]"
      ],
      "metadata": {
        "id": "FONAlHpE7FE4"
      },
      "execution_count": 200,
      "outputs": []
    },
    {
      "cell_type": "code",
      "source": [
        "def MSE(estimatedValues,realValues):\n",
        "  mse = (np.square(realValues - estimatedValues)).mean()\n",
        "  return mse"
      ],
      "metadata": {
        "id": "zhUj42Q81zGW"
      },
      "execution_count": 201,
      "outputs": []
    },
    {
      "cell_type": "code",
      "source": [
        "def updateParamsDesendentGradient(currentParams,df_x,df_y,alfa,periods,num_rows,num_col):\n",
        "  delta=0.001\n",
        "  const_alfa_m=alfa/num_rows\n",
        "  errors=list()\n",
        "  for p in range(periods):\n",
        "    temp=currentParams\n",
        "    M = df_x.dot(currentParams)\n",
        "    diff=M-df_y[0]\n",
        "    for i in range (num_col):\n",
        "      x=diff.dot(df_x.iloc[:,i])\n",
        "      temp[i]=currentParams[i]-const_alfa_m*x\n",
        "    currentParamas=temp\n",
        "    curr_error=(diff**2).mean()\n",
        "    errors.append(curr_error)\n",
        "    if(curr_error)<delta:\n",
        "      print(\"Repeated %i times to get %f error\"%(p,delta))\n",
        "      break\n",
        "  return [currentParams,errors]\n",
        "\n",
        ""
      ],
      "metadata": {
        "id": "dSMQm17Z3T1g"
      },
      "execution_count": 202,
      "outputs": []
    },
    {
      "cell_type": "code",
      "source": [
        "[df_x,df_y]=getDefaultDataSet(5,5)\n",
        "print(type(df_x))\n",
        "print(df_x)\n",
        "print(type(df_y))\n",
        "print(df_y)\n",
        "\n",
        "\n"
      ],
      "metadata": {
        "colab": {
          "base_uri": "https://localhost:8080/"
        },
        "id": "Lok6xScP3Rql",
        "outputId": "f91030b1-8be3-4dd9-e7e5-0f629a535c01"
      },
      "execution_count": 203,
      "outputs": [
        {
          "output_type": "stream",
          "name": "stdout",
          "text": [
            "<class 'pandas.core.frame.DataFrame'>\n",
            "   ones   x0   x1   x2   x3   x4\n",
            "0   1.0  0.0  0.0  0.0  0.0  0.0\n",
            "1   1.0  1.0  1.0  1.0  1.0  1.0\n",
            "2   1.0  2.0  2.0  2.0  2.0  2.0\n",
            "3   1.0  3.0  3.0  3.0  3.0  3.0\n",
            "4   1.0  4.0  4.0  4.0  4.0  4.0\n",
            "<class 'pandas.core.frame.DataFrame'>\n",
            "      0\n",
            "0   0.0\n",
            "1   5.0\n",
            "2  10.0\n",
            "3  15.0\n",
            "4  20.0\n"
          ]
        }
      ]
    },
    {
      "cell_type": "code",
      "source": [
        "#MAIN PROGRAM\n",
        "\n",
        "#Obatain the dataset\n",
        "num_instances=10\n",
        "num_params=3\n",
        "[df_x,df_y]=getDefaultDataSet(num_instances,num_params)\n",
        "currentParams=np.random.rand(num_params+1)\n",
        "print(currentParams)\n",
        "#currentParams=np.array([0.5,0.5, 0])\n",
        "#print(type(df_x))\n",
        "#print(df_x.shape)\n",
        "#print(type(currentParams))\n",
        "\n",
        "alfa = 0.003 #Learning rate\n",
        "periods = 5000\n",
        "num_rows = num_instances\n",
        "num_col = num_params+1\n",
        "[currentParams,errors] = updateParamsDesendentGradient(currentParams,df_x,df_y,alfa,periods,num_rows,num_col)\n",
        "print(currentParams)\n",
        "print(errors[-1])\n"
      ],
      "metadata": {
        "colab": {
          "base_uri": "https://localhost:8080/"
        },
        "id": "pyaW0TlJc1yC",
        "outputId": "7c317706-90e4-40fe-b074-8b121b1b2d6e"
      },
      "execution_count": 204,
      "outputs": [
        {
          "output_type": "stream",
          "name": "stdout",
          "text": [
            "[0.03996053 0.72554556 0.54417963 0.30260022]\n",
            "Repeated 773 times to get 0.001000 error\n",
            "[0.05872063 1.19833612 1.01697019 0.77539078]\n",
            "0.0009998871871833694\n"
          ]
        }
      ]
    },
    {
      "cell_type": "code",
      "source": [
        "#print(errors)"
      ],
      "metadata": {
        "id": "g5b7jCZvm4TC"
      },
      "execution_count": 205,
      "outputs": []
    },
    {
      "cell_type": "code",
      "source": [
        "import matplotlib\n",
        "from matplotlib.pyplot import*\n",
        "plot(errors)\n",
        "show()\n"
      ],
      "metadata": {
        "colab": {
          "base_uri": "https://localhost:8080/",
          "height": 433
        },
        "id": "1vMtJUUB7MZl",
        "outputId": "7e491e3b-2fdb-4a6b-e2ad-e2ce4a5943d2"
      },
      "execution_count": 206,
      "outputs": [
        {
          "output_type": "display_data",
          "data": {
            "text/plain": [
              "<Figure size 640x480 with 1 Axes>"
            ],
            "image/png": "[encoded data removed]"
          },
          "metadata": {}
        }
      ]
    },
    {
      "cell_type": "code",
      "source": [
        "plot(df_y)\n",
        "plot(df_x.dot(currentParams))\n",
        "show()"
      ],
      "metadata": {
        "colab": {
          "base_uri": "https://localhost:8080/",
          "height": 430
        },
        "id": "xaJmZO6q7pFL",
        "outputId": "5cfc9506-62f8-4f5f-c5dc-b9e9c17f2315"
      },
      "execution_count": 207,
      "outputs": [
        {
          "output_type": "display_data",
          "data": {
            "text/plain": [
              "<Figure size 640x480 with 1 Axes>"
            ],
            "image/png": "[encoded data removed]"
          },
          "metadata": {}
        }
      ]
    }
  ]
}
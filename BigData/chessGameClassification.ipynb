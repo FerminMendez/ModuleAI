{
  "nbformat": 4,
  "nbformat_minor": 0,
  "metadata": {
    "colab": {
      "provenance": [],
      "toc_visible": true,
      "authorship_tag": "ABX9TyMe9J9aWJzVrhejStsGsEjx",
      "include_colab_link": true
    },
    "kernelspec": {
      "name": "python3",
      "display_name": "Python 3"
    },
    "language_info": {
      "name": "python"
    }
  },
  "cells": [
    {
      "cell_type": "markdown",
      "metadata": {
        "id": "view-in-github",
        "colab_type": "text"
      },
      "source": [
        "<a href=\"https://colab.research.google.com/github/FerminMendez/ModuleAI/blob/main/BigData/chessGameClassification.ipynb\" target=\"_parent\"><img src=\"https://colab.research.google.com/assets/colab-badge.svg\" alt=\"Open In Colab\"/></a>"
      ]
    },
    {
      "cell_type": "markdown",
      "source": [
        "# Sobre este proyecto"
      ],
      "metadata": {
        "id": "UL6UhF2rZp5v"
      }
    },
    {
      "cell_type": "markdown",
      "source": [
        "En este proyecto vamos a resolver un problema de clasificación binaria. Dado un conjunto de datos de partidas de ajedrez determinaremos quien fue el jugador que ganó. El dataset está disponible en la plataforma Kaggle. El Dataset contiene más de 6 millones de registros y tiene peso de 4.38 GB.\n"
      ],
      "metadata": {
        "id": "BtrQtxhBZuXc"
      }
    },
    {
      "cell_type": "markdown",
      "source": [
        "Fuentes útiles:\n",
        "Hay algunas libretas que hacen un análisis exploratorio de los datos. A continuación dos de ellas.\n",
        "https://www.kaggle.com/code/justinwitter/data-preparation\n",
        "\n",
        "https://www.kaggle.com/code/sumeetpachauri/dm-chess-data\n"
      ],
      "metadata": {
        "id": "9nm8eHdWcZA_"
      }
    },
    {
      "cell_type": "markdown",
      "source": [
        "# Importando los datos"
      ],
      "metadata": {
        "id": "X534ZBqsv7mz"
      }
    },
    {
      "cell_type": "markdown",
      "source": [
        "Recuperado de https://www.kaggle.com/datasets/arevel/chess-games"
      ],
      "metadata": {
        "id": "2URRJeHjHqi8"
      }
    },
    {
      "cell_type": "markdown",
      "source": [
        "¿Cómo importar los datos? Para importar el dataset directo de Kaggle puedes seguir las siguiente guia https://medium.com/analytics-vidhya/how-to-fetch-kaggle-datasets-into-google-colab-ea682569851a\n"
      ],
      "metadata": {
        "id": "xP51nEEXZR_e"
      }
    },
    {
      "cell_type": "markdown",
      "source": [
        "##Configura tus variables de Kaggle"
      ],
      "metadata": {
        "id": "Bp-y1lczZkP4"
      }
    },
    {
      "cell_type": "code",
      "source": [
        "import os\n",
        "os.environ['KAGGLE_USERNAME']='fermnmndezgarca'\n",
        "os.environ['KAGGLE_KEY']='ae0fc5b14620389a0ef6ff5c6de89752'\n",
        "!kaggle datasets download -d arevel/chess-games"
      ],
      "metadata": {
        "colab": {
          "base_uri": "https://localhost:8080/"
        },
        "id": "D5ZAg3gXHqoN",
        "outputId": "df73fa21-b7e2-42d9-d0c7-3d24f6936cf5"
      },
      "execution_count": null,
      "outputs": [
        {
          "output_type": "stream",
          "name": "stdout",
          "text": [
            "Downloading chess-games.zip to /content\n",
            "100% 1.45G/1.45G [01:06<00:00, 26.3MB/s]\n",
            "100% 1.45G/1.45G [01:06<00:00, 23.5MB/s]\n"
          ]
        }
      ]
    },
    {
      "cell_type": "code",
      "source": [
        "!pip install pyspark"
      ],
      "metadata": {
        "colab": {
          "base_uri": "https://localhost:8080/"
        },
        "id": "esSTh6hKHqrR",
        "outputId": "fb9083d7-8ea0-49b0-f61d-ae8468323a6d"
      },
      "execution_count": null,
      "outputs": [
        {
          "output_type": "stream",
          "name": "stdout",
          "text": [
            "Requirement already satisfied: pyspark in /usr/local/lib/python3.10/dist-packages (3.5.0)\n",
            "Requirement already satisfied: py4j==0.10.9.7 in /usr/local/lib/python3.10/dist-packages (from pyspark) (0.10.9.7)\n"
          ]
        }
      ]
    },
    {
      "cell_type": "code",
      "source": [
        "from pyspark.sql import SparkSession\n",
        "spark = SparkSession.builder.appName('used-cars-bigdata').getOrCreate()"
      ],
      "metadata": {
        "id": "cI_rrkqVHqt6"
      },
      "execution_count": null,
      "outputs": []
    },
    {
      "cell_type": "markdown",
      "source": [
        "Una vez importados los datos vamos a descomprimir el zip para tener disponible el archivo chess_games.csv que a continuación convertiremos a un dataframe de pyspark."
      ],
      "metadata": {
        "id": "l9RoC_05ak0t"
      }
    },
    {
      "cell_type": "code",
      "source": [
        "!ls\n",
        "!unzip \\*.zip  && rm *.zip"
      ],
      "metadata": {
        "colab": {
          "base_uri": "https://localhost:8080/"
        },
        "id": "Du37whRXgTgS",
        "outputId": "03adff34-446d-4543-e488-f419ba704a1f"
      },
      "execution_count": null,
      "outputs": [
        {
          "output_type": "stream",
          "name": "stdout",
          "text": [
            "chess-games.zip  sample_data\n",
            "Archive:  chess-games.zip\n",
            "  inflating: chess_games.csv         \n"
          ]
        }
      ]
    },
    {
      "cell_type": "code",
      "source": [
        "data = spark.read.csv('chess_games.csv', header=True)\n"
      ],
      "metadata": {
        "id": "woqBlDC9jh9c"
      },
      "execution_count": null,
      "outputs": []
    },
    {
      "cell_type": "code",
      "source": [
        "import pandas as pd\n",
        "dataToPlot=pd.read_csv('chess_games.csv')\n",
        "print(dataToPlot.head())"
      ],
      "metadata": {
        "colab": {
          "base_uri": "https://localhost:8080/"
        },
        "id": "FIp82OU9j6Mx",
        "outputId": "99196a43-3481-4149-d5f7-b7495f9a7524"
      },
      "execution_count": null,
      "outputs": [
        {
          "output_type": "stream",
          "name": "stdout",
          "text": [
            "                Event            White       Black Result     UTCDate  \\\n",
            "0          Classical           eisaaaa    HAMID449    1-0  2016.06.30   \n",
            "1              Blitz            go4jas  Sergei1973    0-1  2016.06.30   \n",
            "2   Blitz tournament   Evangelistaizac      kafune    1-0  2016.06.30   \n",
            "3     Correspondence            Jvayne    Wsjvayne    1-0  2016.06.30   \n",
            "4   Blitz tournament            kyoday   BrettDale    0-1  2016.06.30   \n",
            "\n",
            "    UTCTime  WhiteElo  BlackElo  WhiteRatingDiff  BlackRatingDiff  ECO  \\\n",
            "0  22:00:01      1901      1896             11.0            -11.0  D10   \n",
            "1  22:00:01      1641      1627            -11.0             12.0  C20   \n",
            "2  22:00:02      1647      1688             13.0            -13.0  B01   \n",
            "3  22:00:02      1706      1317             27.0            -25.0  A00   \n",
            "4  22:00:02      1945      1900            -14.0             13.0  B90   \n",
            "\n",
            "                                         Opening TimeControl   Termination  \\\n",
            "0                                   Slav Defense       300+5  Time forfeit   \n",
            "1                      King's Pawn Opening: 2.b3       300+0        Normal   \n",
            "2  Scandinavian Defense: Mieses-Kotroc Variation       180+0  Time forfeit   \n",
            "3                           Van't Kruijs Opening           -        Normal   \n",
            "4    Sicilian Defense: Najdorf, Lipnitsky Attack       180+0  Time forfeit   \n",
            "\n",
            "                                                  AN  \n",
            "0  1. d4 d5 2. c4 c6 3. e3 a6 4. Nf3 e5 5. cxd5 e...  \n",
            "1  1. e4 e5 2. b3 Nf6 3. Bb2 Nc6 4. Nf3 d6 5. d3 ...  \n",
            "2  1. e4 d5 2. exd5 Qxd5 3. Nf3 Bg4 4. Be2 Nf6 5....  \n",
            "3  1. e3 Nf6 2. Bc4 d6 3. e4 e6 4. Nf3 Nxe4 5. Nd...  \n",
            "4  1. e4 c5 2. Nf3 d6 3. d4 cxd4 4. Nxd4 Nf6 5. N...  \n"
          ]
        }
      ]
    },
    {
      "cell_type": "code",
      "source": [
        "import os\n",
        "from google.colab import drive\n",
        "drive.mount(\"/content/gdrive\")\n",
        "!pwd\n",
        "%cd \"/content/gdrive/MyDrive/DataSetIA/Cantoral\"\n",
        "!ls\n",
        "base_directory=\"/content/gdrive/MyDrive/DataSetIA/Cantoral\"\n",
        "data_to_csv.to_csv(os.path.join(base_directory,'summary.csv'))\n"
      ],
      "metadata": {
        "colab": {
          "base_uri": "https://localhost:8080/"
        },
        "id": "e7nTBiTb5OaM",
        "outputId": "f8eeb307-75bd-465c-88af-28357bf83a4a"
      },
      "execution_count": null,
      "outputs": [
        {
          "output_type": "stream",
          "name": "stdout",
          "text": [
            "Drive already mounted at /content/gdrive; to attempt to forcibly remount, call drive.mount(\"/content/gdrive\", force_remount=True).\n",
            "/content/gdrive/My Drive/DataSetIA/Cantoral\n",
            "/content/gdrive/MyDrive/DataSetIA/Cantoral\n",
            "embeddings_dict_50D.pkl  glove.6B.50d.txt\n"
          ]
        }
      ]
    },
    {
      "cell_type": "code",
      "source": [],
      "metadata": {
        "id": "vNsqa9s6zIlz"
      },
      "execution_count": null,
      "outputs": []
    },
    {
      "cell_type": "code",
      "source": [
        "dataToPlot.columns"
      ],
      "metadata": {
        "colab": {
          "base_uri": "https://localhost:8080/"
        },
        "id": "VNZLCIq3y-qq",
        "outputId": "7bd56682-2334-4d68-ebd8-20fbe3af0723"
      },
      "execution_count": null,
      "outputs": [
        {
          "output_type": "execute_result",
          "data": {
            "text/plain": [
              "Index(['Event', 'White', 'Black', 'Result', 'UTCDate', 'UTCTime', 'WhiteElo',\n",
              "       'BlackElo', 'WhiteRatingDiff', 'BlackRatingDiff', 'ECO', 'Opening',\n",
              "       'TimeControl', 'Termination', 'AN'],\n",
              "      dtype='object')"
            ]
          },
          "metadata": {},
          "execution_count": 40
        }
      ]
    },
    {
      "cell_type": "code",
      "source": [
        "data_to_csv=dataToPlot[[\"Event\",\"WhiteElo\",\"BlackElo\",\"Opening\"]]\n",
        "data_to_csv.to_csv(\"summary.csv\")\n"
      ],
      "metadata": {
        "id": "tR8enFbBwJqj"
      },
      "execution_count": null,
      "outputs": []
    },
    {
      "cell_type": "code",
      "source": [
        "data_to_csv.describe()\n"
      ],
      "metadata": {
        "colab": {
          "base_uri": "https://localhost:8080/",
          "height": 181
        },
        "id": "h_fO2pUzwpBc",
        "outputId": "62a14426-18b1-40eb-aefa-1ed6981de8d8"
      },
      "execution_count": null,
      "outputs": [
        {
          "output_type": "error",
          "ename": "NameError",
          "evalue": "ignored",
          "traceback": [
            "\u001b[0;31m---------------------------------------------------------------------------\u001b[0m",
            "\u001b[0;31mNameError\u001b[0m                                 Traceback (most recent call last)",
            "\u001b[0;32m<ipython-input-31-91bee5f0caab>\u001b[0m in \u001b[0;36m<cell line: 1>\u001b[0;34m()\u001b[0m\n\u001b[0;32m----> 1\u001b[0;31m \u001b[0mdata_to_csv\u001b[0m\u001b[0;34m.\u001b[0m\u001b[0mdescribe\u001b[0m\u001b[0;34m(\u001b[0m\u001b[0;34m)\u001b[0m\u001b[0;34m\u001b[0m\u001b[0;34m\u001b[0m\u001b[0m\n\u001b[0m",
            "\u001b[0;31mNameError\u001b[0m: name 'data_to_csv' is not defined"
          ]
        }
      ]
    },
    {
      "cell_type": "code",
      "source": [
        "data.show()"
      ],
      "metadata": {
        "colab": {
          "base_uri": "https://localhost:8080/"
        },
        "id": "QBpjIlstkCKH",
        "outputId": "4e359182-0326-40c1-8545-b3a0b1bb9daf"
      },
      "execution_count": null,
      "outputs": [
        {
          "output_type": "stream",
          "name": "stdout",
          "text": [
            "+------------------+---------------+---------------+------+----------+--------+--------+--------+---------------+---------------+---+--------------------+-----------+------------+--------------------+\n",
            "|             Event|          White|          Black|Result|   UTCDate| UTCTime|WhiteElo|BlackElo|WhiteRatingDiff|BlackRatingDiff|ECO|             Opening|TimeControl| Termination|                  AN|\n",
            "+------------------+---------------+---------------+------+----------+--------+--------+--------+---------------+---------------+---+--------------------+-----------+------------+--------------------+\n",
            "|        Classical |        eisaaaa|       HAMID449|   1-0|2016.06.30|22:00:01|    1901|    1896|           11.0|          -11.0|D10|        Slav Defense|      300+5|Time forfeit|1. d4 d5 2. c4 c6...|\n",
            "|            Blitz |         go4jas|     Sergei1973|   0-1|2016.06.30|22:00:01|    1641|    1627|          -11.0|           12.0|C20|King's Pawn Openi...|      300+0|      Normal|1. e4 e5 2. b3 Nf...|\n",
            "| Blitz tournament |Evangelistaizac|         kafune|   1-0|2016.06.30|22:00:02|    1647|    1688|           13.0|          -13.0|B01|Scandinavian Defe...|      180+0|Time forfeit|1. e4 d5 2. exd5 ...|\n",
            "|   Correspondence |         Jvayne|       Wsjvayne|   1-0|2016.06.30|22:00:02|    1706|    1317|           27.0|          -25.0|A00|Van't Kruijs Opening|          -|      Normal|1. e3 Nf6 2. Bc4 ...|\n",
            "| Blitz tournament |         kyoday|      BrettDale|   0-1|2016.06.30|22:00:02|    1945|    1900|          -14.0|           13.0|B90|Sicilian Defense:...|      180+0|Time forfeit|1. e4 c5 2. Nf3 d...|\n",
            "| Blitz tournament | lucaseixasouza|         diguim|   0-1|2016.06.30|22:00:02|    1773|    1809|          -10.0|           10.0|C27|         Vienna Game|      180+0|      Normal|1. e4 e5 2. Nc3 d...|\n",
            "| Blitz tournament |       RENZZO77|HeadlessChicken|   0-1|2016.06.30|22:00:02|    1895|    1886|          -12.0|           12.0|B10|Caro-Kann Defense...|      180+0|Time forfeit|1. e4 c6 2. Nf3 d...|\n",
            "| Blitz tournament |          ipero|      Bayern123|   1-0|2016.06.30|22:00:02|    2155|    2356|           20.0|          -20.0|D02|Queen's Pawn Game...|      180+0|      Normal|1. d4 d5 2. Nf3 N...|\n",
            "| Blitz tournament |Loginov19510410|        Kereshu|   0-1|2016.06.30|22:00:02|    2010|    2111|           -9.0|            9.0|A45|         Indian Game|      300+0|      Normal|1. d4 Nf6 2. Bf4 ...|\n",
            "| Blitz tournament |     Shambobala|     cernunnoss|   1-0|2016.06.30|22:00:02|    1764|    1773|           12.0|          -12.0|B01|Scandinavian Defe...|      180+0|Time forfeit|1. e4 d5 2. exd5 ...|\n",
            "|        Classical |        DARDELU|   chess4life54|   0-1|2016.06.30|22:00:01|    1649|    1638|          -13.0|           11.0|C57|Italian Game: Two...|      900+3|      Normal|1. e4 e5 2. Nf3 N...|\n",
            "|        Classical |        fabikim|         sereno|   1-0|2016.06.30|22:00:02|    1630|    1500|            7.0|           -7.0|C41| Philidor Defense #3|      420+5|      Normal|1. e4 e5 2. Nf3 d...|\n",
            "| Blitz tournament |      IZDenisZI|         BoBo93|   1-0|2016.06.30|22:00:02|    1833|    1837|           11.0|          -12.0|C36|King's Gambit Acc...|      300+0|      Normal|1. e4 e5 2. f4 ex...|\n",
            "| Blitz tournament |     lasha-fero| ildivinojohnny|   1-0|2016.06.30|22:00:02|    2020|    1979|           10.0|          -11.0|A00|      Polish Opening|      180+0|Time forfeit|1. b4 e6 2. Bb2 d...|\n",
            "| Blitz tournament |       arkadyNa|     sofianet06|   0-1|2016.06.30|22:00:02|    1581|    1616|          -12.0|           11.0|B01|Scandinavian Defe...|      180+0|Time forfeit|1. e4 d5 2. exd5 ...|\n",
            "| Blitz tournament |    mayconchess|        trend19|   0-1|2016.06.30|22:00:02|    1879|    1868|          -13.0|           12.0|B01|Scandinavian Defe...|      180+0|      Normal|1. e4 d5 2. exd5 ...|\n",
            "| Blitz tournament |         lj1983|        plmnnnn|   1-0|2016.06.30|22:00:02|    1963|    1979|           12.0|          -13.0|B10|Caro-Kann Defense...|      180+0|      Normal|1. e4 c6 2. Nf3 d...|\n",
            "| Blitz tournament |         Inorem|       leymoral|   1-0|2016.06.30|22:00:02|    1751|    1712|           10.0|          -10.0|C62|Ruy Lopez: Steini...|      180+0|      Normal|1. e4 e5 2. Nf3 N...|\n",
            "| Blitz tournament |     Torres2300| Trabelsi-Wajdi|   0-1|2016.06.30|22:00:02|    1795|    1800|          -14.0|           11.0|B32|Sicilian Defense:...|      300+0|      Normal|1. e4 c5 2. Nf3 e...|\n",
            "| Blitz tournament |         Igor76|          dancg|   1-0|2016.06.30|22:00:02|    1913|    1925|           11.0|          -13.0|B12|Caro-Kann Defense...|      300+0|      Normal|1. e4 c6 2. d4 d5...|\n",
            "+------------------+---------------+---------------+------+----------+--------+--------+--------+---------------+---------------+---+--------------------+-----------+------------+--------------------+\n",
            "only showing top 20 rows\n",
            "\n"
          ]
        }
      ]
    },
    {
      "cell_type": "markdown",
      "source": [
        "## Sobre el dataset\n",
        "\n",
        "\n",
        "\n"
      ],
      "metadata": {
        "id": "Cu8oYQ3NwCFB"
      }
    },
    {
      "cell_type": "markdown",
      "source": [
        "Número de registros. 6.25 millones.\n",
        "Peso: 4.38 GB\n",
        "Columnas:\n",
        "- Event: Game type.\n",
        "- White: White's ID.\n",
        "- Black: Black's ID.\n",
        "- Result: Game Result (1-0 White wins) (0-1 Black wins)\n",
        "- UTCDate: UTC Date.\n",
        "- UTCTime: UTC Time.\n",
        "- WhiteElo: White's ELO.\n",
        "- BlackElo: Black's ELO.\n",
        "- WhiteRatingDiff: White's rating points difference after the game.\n",
        "- BlackRatingDiff: Blacks's rating points difference after the game.\n",
        "- ECO: Opening in ECO encoding.\n",
        "- Opening: Opening name.\n",
        "- TimeControl: Time of the game for each player in seconds. The number after the increment is the number of seconds before the player's clock starts ticking in each turn.\n",
        "- Termination: Reason of the game's end.\n",
        "- AN: Movements in Movetext format."
      ],
      "metadata": {
        "id": "IvMn5_U6drBK"
      }
    },
    {
      "cell_type": "code",
      "source": [
        "data.count()"
      ],
      "metadata": {
        "colab": {
          "base_uri": "https://localhost:8080/"
        },
        "id": "yeSxULUMkK9U",
        "outputId": "3bf0371c-d160-4d2a-d3a1-995510240daa"
      },
      "execution_count": null,
      "outputs": [
        {
          "output_type": "execute_result",
          "data": {
            "text/plain": [
              "6256184"
            ]
          },
          "metadata": {},
          "execution_count": 18
        }
      ]
    },
    {
      "cell_type": "markdown",
      "source": [
        "El dataset no tiene valores faltantes."
      ],
      "metadata": {
        "id": "vDF1ludihIgf"
      }
    },
    {
      "cell_type": "markdown",
      "source": [
        "## Enfoque para el tratamiento de los datos.\n"
      ],
      "metadata": {
        "id": "TDyAX5EeBbnb"
      }
    },
    {
      "cell_type": "markdown",
      "source": [
        "Estamos trabajando con 4 GB, lo ideal sería hacer un análisis rápido y eficaz, por lo que el enfoque de big data es apropiado. Este trabajo tiene fines académicos y no es crítico si no se entrega en una fecha fija, no obstante el mismo procesado de los datos se vuelve lento con una computadora que no tenga el hardware apropiado. Con el fin de hacer escalable la solución y tener buenas prácticas vamos a resolver este problema utilizando la herramienta de pyspark, misma que nos va a permitir escalar esta arquitectura en la nube con facilidad y distribuir el computo en caso de que el lector quiera hacer un análisis más rápido y tenga lo recursos para hacerlo.\n"
      ],
      "metadata": {
        "id": "pz4IPdk9BiIA"
      }
    },
    {
      "cell_type": "markdown",
      "source": [
        "# Sobre los datos"
      ],
      "metadata": {
        "id": "8IPdoQwlWjpt"
      }
    },
    {
      "cell_type": "markdown",
      "source": [
        "Filtrando las variables que utilizaremos para el análisis:\n",
        "Eliminamos los nombres de los jugadores por identificadores únicos.\n",
        "\n",
        "Variables independientes:\n",
        "*   Event as GameType: Variable categorica del tipo de partido que se juega. (Bullet,tournament, blitz, etc)\n",
        "*   WhiteElo: Entero del Elo del jugador con blancas\n",
        "*   BlackElo: Entero del Elo del jugador con negras\n",
        "*   Opening\n",
        "\n",
        "Variable dependiente:\n",
        "*   Result\n",
        "\n",
        "Variables para agregar en siguientes versiones\n",
        "*   TimeControl\n",
        "*   Termination\n",
        "\n"
      ],
      "metadata": {
        "id": "A7riDB7DxeRN"
      }
    },
    {
      "cell_type": "markdown",
      "source": [
        "### Selección de variables que vamos a utilizar"
      ],
      "metadata": {
        "id": "Jrzbw4-zVcc3"
      }
    },
    {
      "cell_type": "code",
      "source": [
        "df = data.select(\"event\", \"WhiteElo\",\"BlackElo\",\"Opening\",\"TimeControl\",\"Termination\",\"Result\")\n",
        "df=df.withColumnRenamed(\"event\", \"GameType\")\n",
        "df.show()"
      ],
      "metadata": {
        "id": "2arC9x3LkaJZ",
        "colab": {
          "base_uri": "https://localhost:8080/"
        },
        "outputId": "8ac03a36-f67f-4c7f-fab0-24a829fd1e5f"
      },
      "execution_count": null,
      "outputs": [
        {
          "output_type": "stream",
          "name": "stdout",
          "text": [
            "+------------------+--------+--------+--------------------+-----------+------------+------+\n",
            "|          GameType|WhiteElo|BlackElo|             Opening|TimeControl| Termination|Result|\n",
            "+------------------+--------+--------+--------------------+-----------+------------+------+\n",
            "|        Classical |    1901|    1896|        Slav Defense|      300+5|Time forfeit|   1-0|\n",
            "|            Blitz |    1641|    1627|King's Pawn Openi...|      300+0|      Normal|   0-1|\n",
            "| Blitz tournament |    1647|    1688|Scandinavian Defe...|      180+0|Time forfeit|   1-0|\n",
            "|   Correspondence |    1706|    1317|Van't Kruijs Opening|          -|      Normal|   1-0|\n",
            "| Blitz tournament |    1945|    1900|Sicilian Defense:...|      180+0|Time forfeit|   0-1|\n",
            "| Blitz tournament |    1773|    1809|         Vienna Game|      180+0|      Normal|   0-1|\n",
            "| Blitz tournament |    1895|    1886|Caro-Kann Defense...|      180+0|Time forfeit|   0-1|\n",
            "| Blitz tournament |    2155|    2356|Queen's Pawn Game...|      180+0|      Normal|   1-0|\n",
            "| Blitz tournament |    2010|    2111|         Indian Game|      300+0|      Normal|   0-1|\n",
            "| Blitz tournament |    1764|    1773|Scandinavian Defe...|      180+0|Time forfeit|   1-0|\n",
            "|        Classical |    1649|    1638|Italian Game: Two...|      900+3|      Normal|   0-1|\n",
            "|        Classical |    1630|    1500| Philidor Defense #3|      420+5|      Normal|   1-0|\n",
            "| Blitz tournament |    1833|    1837|King's Gambit Acc...|      300+0|      Normal|   1-0|\n",
            "| Blitz tournament |    2020|    1979|      Polish Opening|      180+0|Time forfeit|   1-0|\n",
            "| Blitz tournament |    1581|    1616|Scandinavian Defe...|      180+0|Time forfeit|   0-1|\n",
            "| Blitz tournament |    1879|    1868|Scandinavian Defe...|      180+0|      Normal|   0-1|\n",
            "| Blitz tournament |    1963|    1979|Caro-Kann Defense...|      180+0|      Normal|   1-0|\n",
            "| Blitz tournament |    1751|    1712|Ruy Lopez: Steini...|      180+0|      Normal|   1-0|\n",
            "| Blitz tournament |    1795|    1800|Sicilian Defense:...|      300+0|      Normal|   0-1|\n",
            "| Blitz tournament |    1913|    1925|Caro-Kann Defense...|      300+0|      Normal|   1-0|\n",
            "+------------------+--------+--------+--------------------+-----------+------------+------+\n",
            "only showing top 20 rows\n",
            "\n"
          ]
        }
      ]
    },
    {
      "cell_type": "markdown",
      "source": [
        "## Data preparation"
      ],
      "metadata": {
        "id": "wIgaPSvgVhh-"
      }
    },
    {
      "cell_type": "markdown",
      "source": [
        "Cambiamos Result por valores binarios donde 0 es \"Gana negras\" y 1 \"Ganan blancas\""
      ],
      "metadata": {
        "id": "3qSIynIqVl8N"
      }
    },
    {
      "cell_type": "code",
      "source": [
        "result_mapping = {\n",
        "    \"1-0\": \"1\",\n",
        "    \"0-1\": \"0\",\n",
        "}\n",
        "df = df.replace(to_replace=result_mapping, subset=['Result'])\n",
        "df = df.filter((df[\"Result\"] == 0) | (df[\"Result\"] == 1))\n",
        "df.show()"
      ],
      "metadata": {
        "colab": {
          "base_uri": "https://localhost:8080/"
        },
        "id": "J68r-MUc6-O0",
        "outputId": "6ce732d2-41c2-4fbd-8f80-61a9226286d3"
      },
      "execution_count": null,
      "outputs": [
        {
          "output_type": "stream",
          "name": "stdout",
          "text": [
            "+------------------+--------+--------+--------------------+-----------+------------+------+\n",
            "|          GameType|WhiteElo|BlackElo|             Opening|TimeControl| Termination|Result|\n",
            "+------------------+--------+--------+--------------------+-----------+------------+------+\n",
            "|        Classical |    1901|    1896|        Slav Defense|      300+5|Time forfeit|     1|\n",
            "|            Blitz |    1641|    1627|King's Pawn Openi...|      300+0|      Normal|     0|\n",
            "| Blitz tournament |    1647|    1688|Scandinavian Defe...|      180+0|Time forfeit|     1|\n",
            "|   Correspondence |    1706|    1317|Van't Kruijs Opening|          -|      Normal|     1|\n",
            "| Blitz tournament |    1945|    1900|Sicilian Defense:...|      180+0|Time forfeit|     0|\n",
            "| Blitz tournament |    1773|    1809|         Vienna Game|      180+0|      Normal|     0|\n",
            "| Blitz tournament |    1895|    1886|Caro-Kann Defense...|      180+0|Time forfeit|     0|\n",
            "| Blitz tournament |    2155|    2356|Queen's Pawn Game...|      180+0|      Normal|     1|\n",
            "| Blitz tournament |    2010|    2111|         Indian Game|      300+0|      Normal|     0|\n",
            "| Blitz tournament |    1764|    1773|Scandinavian Defe...|      180+0|Time forfeit|     1|\n",
            "|        Classical |    1649|    1638|Italian Game: Two...|      900+3|      Normal|     0|\n",
            "|        Classical |    1630|    1500| Philidor Defense #3|      420+5|      Normal|     1|\n",
            "| Blitz tournament |    1833|    1837|King's Gambit Acc...|      300+0|      Normal|     1|\n",
            "| Blitz tournament |    2020|    1979|      Polish Opening|      180+0|Time forfeit|     1|\n",
            "| Blitz tournament |    1581|    1616|Scandinavian Defe...|      180+0|Time forfeit|     0|\n",
            "| Blitz tournament |    1879|    1868|Scandinavian Defe...|      180+0|      Normal|     0|\n",
            "| Blitz tournament |    1963|    1979|Caro-Kann Defense...|      180+0|      Normal|     1|\n",
            "| Blitz tournament |    1751|    1712|Ruy Lopez: Steini...|      180+0|      Normal|     1|\n",
            "| Blitz tournament |    1795|    1800|Sicilian Defense:...|      300+0|      Normal|     0|\n",
            "| Blitz tournament |    1913|    1925|Caro-Kann Defense...|      300+0|      Normal|     1|\n",
            "+------------------+--------+--------+--------------------+-----------+------------+------+\n",
            "only showing top 20 rows\n",
            "\n"
          ]
        }
      ]
    },
    {
      "cell_type": "markdown",
      "source": [
        "Convertimos las variables categóricas con One-hot encoding"
      ],
      "metadata": {
        "id": "bKbIhu3yVxeQ"
      }
    },
    {
      "cell_type": "code",
      "source": [
        "from pyspark.sql import SparkSession\n",
        "from pyspark.ml.feature import StringIndexer, OneHotEncoder\n",
        "from pyspark.ml import Pipeline\n",
        "\n",
        "indexer = StringIndexer(inputCol=\"GameType\", outputCol=\"GameTypeIndex\")\n",
        "df = indexer.fit(df).transform(df)\n",
        "indexer = StringIndexer(inputCol=\"Opening\", outputCol=\"OpeningIndex\")\n",
        "df = indexer.fit(df).transform(df)\n",
        "# Step 2: Perform one-hot encoding\n",
        "encoder = OneHotEncoder(inputCol=\"GameTypeIndex\", outputCol=\"GameTypeOneHot\")\n",
        "df = encoder.fit(df).transform(df)\n",
        "encoder = OneHotEncoder(inputCol=\"OpeningIndex\", outputCol=\"OpeningOneHot\")\n",
        "df = encoder.fit(df).transform(df)\n",
        "df.show()"
      ],
      "metadata": {
        "colab": {
          "base_uri": "https://localhost:8080/"
        },
        "id": "R23VuvYR1OiQ",
        "outputId": "f706b38e-9aad-4b65-fd4a-68ac6f4d5590"
      },
      "execution_count": null,
      "outputs": [
        {
          "output_type": "stream",
          "name": "stdout",
          "text": [
            "+------------------+--------+--------+--------------------+-----------+------------+------+-------------+------------+--------------+------------------+\n",
            "|          GameType|WhiteElo|BlackElo|             Opening|TimeControl| Termination|Result|GameTypeIndex|OpeningIndex|GameTypeOneHot|     OpeningOneHot|\n",
            "+------------------+--------+--------+--------------------+-----------+------------+------+-------------+------------+--------------+------------------+\n",
            "|        Classical |    1901|    1896|        Slav Defense|      300+5|Time forfeit|     1|          1.0|       131.0|(12,[1],[1.0])|(2938,[131],[1.0])|\n",
            "|            Blitz |    1641|    1627|King's Pawn Openi...|      300+0|      Normal|     0|          0.0|       313.0|(12,[0],[1.0])|(2938,[313],[1.0])|\n",
            "| Blitz tournament |    1647|    1688|Scandinavian Defe...|      180+0|Time forfeit|     1|          4.0|         1.0|(12,[4],[1.0])|  (2938,[1],[1.0])|\n",
            "|   Correspondence |    1706|    1317|Van't Kruijs Opening|          -|      Normal|     1|          6.0|         0.0|(12,[6],[1.0])|  (2938,[0],[1.0])|\n",
            "| Blitz tournament |    1945|    1900|Sicilian Defense:...|      180+0|Time forfeit|     0|          4.0|       338.0|(12,[4],[1.0])|(2938,[338],[1.0])|\n",
            "| Blitz tournament |    1773|    1809|         Vienna Game|      180+0|      Normal|     0|          4.0|        91.0|(12,[4],[1.0])| (2938,[91],[1.0])|\n",
            "| Blitz tournament |    1895|    1886|Caro-Kann Defense...|      180+0|Time forfeit|     0|          4.0|       207.0|(12,[4],[1.0])|(2938,[207],[1.0])|\n",
            "| Blitz tournament |    2155|    2356|Queen's Pawn Game...|      180+0|      Normal|     1|          4.0|        95.0|(12,[4],[1.0])| (2938,[95],[1.0])|\n",
            "| Blitz tournament |    2010|    2111|         Indian Game|      300+0|      Normal|     0|          4.0|        15.0|(12,[4],[1.0])| (2938,[15],[1.0])|\n",
            "| Blitz tournament |    1764|    1773|Scandinavian Defe...|      180+0|Time forfeit|     1|          4.0|         1.0|(12,[4],[1.0])|  (2938,[1],[1.0])|\n",
            "|        Classical |    1649|    1638|Italian Game: Two...|      900+3|      Normal|     0|          1.0|       514.0|(12,[1],[1.0])|(2938,[514],[1.0])|\n",
            "|        Classical |    1630|    1500| Philidor Defense #3|      420+5|      Normal|     1|          1.0|        10.0|(12,[1],[1.0])| (2938,[10],[1.0])|\n",
            "| Blitz tournament |    1833|    1837|King's Gambit Acc...|      300+0|      Normal|     1|          4.0|       489.0|(12,[4],[1.0])|(2938,[489],[1.0])|\n",
            "| Blitz tournament |    2020|    1979|      Polish Opening|      180+0|Time forfeit|     1|          4.0|        49.0|(12,[4],[1.0])| (2938,[49],[1.0])|\n",
            "| Blitz tournament |    1581|    1616|Scandinavian Defe...|      180+0|Time forfeit|     0|          4.0|         1.0|(12,[4],[1.0])|  (2938,[1],[1.0])|\n",
            "| Blitz tournament |    1879|    1868|Scandinavian Defe...|      180+0|      Normal|     0|          4.0|        39.0|(12,[4],[1.0])| (2938,[39],[1.0])|\n",
            "| Blitz tournament |    1963|    1979|Caro-Kann Defense...|      180+0|      Normal|     1|          4.0|       207.0|(12,[4],[1.0])|(2938,[207],[1.0])|\n",
            "| Blitz tournament |    1751|    1712|Ruy Lopez: Steini...|      180+0|      Normal|     1|          4.0|        38.0|(12,[4],[1.0])| (2938,[38],[1.0])|\n",
            "| Blitz tournament |    1795|    1800|Sicilian Defense:...|      300+0|      Normal|     0|          4.0|       299.0|(12,[4],[1.0])|(2938,[299],[1.0])|\n",
            "| Blitz tournament |    1913|    1925|Caro-Kann Defense...|      300+0|      Normal|     1|          4.0|       543.0|(12,[4],[1.0])|(2938,[543],[1.0])|\n",
            "+------------------+--------+--------+--------------------+-----------+------------+------+-------------+------------+--------------+------------------+\n",
            "only showing top 20 rows\n",
            "\n"
          ]
        }
      ]
    },
    {
      "cell_type": "markdown",
      "source": [
        "Nos aseguramos que las variables numéricas se trate como enteros"
      ],
      "metadata": {
        "id": "-paPVXsDWIOt"
      }
    },
    {
      "cell_type": "code",
      "source": [
        "from pyspark.sql.functions import col, when\n",
        "df=df.withColumn(\"WhiteElo\", col(\"WhiteElo\").cast(\"int\"))\n",
        "df=df.withColumn(\"BlackELo\", col(\"BlackELo\").cast(\"int\"))\n",
        "df=df.withColumn(\"Result\", col(\"Result\").cast(\"int\"))"
      ],
      "metadata": {
        "id": "3ux2QEZzDAE6"
      },
      "execution_count": null,
      "outputs": []
    },
    {
      "cell_type": "markdown",
      "source": [
        "Filtramos solo los datos que vamos a utilizar para entrenar el modelo"
      ],
      "metadata": {
        "id": "jd657IwJ830O"
      }
    },
    {
      "cell_type": "code",
      "source": [
        "df_model=df.select( \"WhiteElo\",\"BlackElo\",\"OpeningOneHot\",\"GameTypeOneHot\",\"Result\")"
      ],
      "metadata": {
        "id": "PAy0cjRK83_4"
      },
      "execution_count": null,
      "outputs": []
    },
    {
      "cell_type": "code",
      "source": [
        "from pyspark.ml.feature import VectorAssembler\n",
        "\n",
        "featassembler = VectorAssembler(inputCols=['WhiteElo',\n",
        " 'BlackElo',\n",
        " 'OpeningOneHot',\n",
        " 'GameTypeOneHot',], outputCol = \"Independent Features\" )\n",
        "featassembler"
      ],
      "metadata": {
        "colab": {
          "base_uri": "https://localhost:8080/"
        },
        "id": "A3_qgdk--djE",
        "outputId": "4d4d1945-8936-47dd-9761-f96aa0e9edcf"
      },
      "execution_count": null,
      "outputs": [
        {
          "output_type": "execute_result",
          "data": {
            "text/plain": [
              "VectorAssembler_8e91fdf3a699"
            ]
          },
          "metadata": {},
          "execution_count": 24
        }
      ]
    },
    {
      "cell_type": "code",
      "source": [
        "df_model = featassembler.transform(df_model)\n",
        "df_model.show()"
      ],
      "metadata": {
        "colab": {
          "base_uri": "https://localhost:8080/"
        },
        "id": "sD461-ipAYbq",
        "outputId": "039c40ac-1a7e-47b7-8962-a08c950604f7"
      },
      "execution_count": null,
      "outputs": [
        {
          "output_type": "stream",
          "name": "stdout",
          "text": [
            "+--------+--------+------------------+--------------+------+--------------------+\n",
            "|WhiteElo|BlackElo|     OpeningOneHot|GameTypeOneHot|Result|Independent Features|\n",
            "+--------+--------+------------------+--------------+------+--------------------+\n",
            "|    1901|    1896|(2938,[131],[1.0])|(12,[1],[1.0])|     1|(2952,[0,1,133,29...|\n",
            "|    1641|    1627|(2938,[313],[1.0])|(12,[0],[1.0])|     0|(2952,[0,1,315,29...|\n",
            "|    1647|    1688|  (2938,[1],[1.0])|(12,[4],[1.0])|     1|(2952,[0,1,3,2944...|\n",
            "|    1706|    1317|  (2938,[0],[1.0])|(12,[6],[1.0])|     1|(2952,[0,1,2,2946...|\n",
            "|    1945|    1900|(2938,[338],[1.0])|(12,[4],[1.0])|     0|(2952,[0,1,340,29...|\n",
            "|    1773|    1809| (2938,[91],[1.0])|(12,[4],[1.0])|     0|(2952,[0,1,93,294...|\n",
            "|    1895|    1886|(2938,[207],[1.0])|(12,[4],[1.0])|     0|(2952,[0,1,209,29...|\n",
            "|    2155|    2356| (2938,[95],[1.0])|(12,[4],[1.0])|     1|(2952,[0,1,97,294...|\n",
            "|    2010|    2111| (2938,[15],[1.0])|(12,[4],[1.0])|     0|(2952,[0,1,17,294...|\n",
            "|    1764|    1773|  (2938,[1],[1.0])|(12,[4],[1.0])|     1|(2952,[0,1,3,2944...|\n",
            "|    1649|    1638|(2938,[514],[1.0])|(12,[1],[1.0])|     0|(2952,[0,1,516,29...|\n",
            "|    1630|    1500| (2938,[10],[1.0])|(12,[1],[1.0])|     1|(2952,[0,1,12,294...|\n",
            "|    1833|    1837|(2938,[489],[1.0])|(12,[4],[1.0])|     1|(2952,[0,1,491,29...|\n",
            "|    2020|    1979| (2938,[49],[1.0])|(12,[4],[1.0])|     1|(2952,[0,1,51,294...|\n",
            "|    1581|    1616|  (2938,[1],[1.0])|(12,[4],[1.0])|     0|(2952,[0,1,3,2944...|\n",
            "|    1879|    1868| (2938,[39],[1.0])|(12,[4],[1.0])|     0|(2952,[0,1,41,294...|\n",
            "|    1963|    1979|(2938,[207],[1.0])|(12,[4],[1.0])|     1|(2952,[0,1,209,29...|\n",
            "|    1751|    1712| (2938,[38],[1.0])|(12,[4],[1.0])|     1|(2952,[0,1,40,294...|\n",
            "|    1795|    1800|(2938,[299],[1.0])|(12,[4],[1.0])|     0|(2952,[0,1,301,29...|\n",
            "|    1913|    1925|(2938,[543],[1.0])|(12,[4],[1.0])|     1|(2952,[0,1,545,29...|\n",
            "+--------+--------+------------------+--------------+------+--------------------+\n",
            "only showing top 20 rows\n",
            "\n"
          ]
        }
      ]
    },
    {
      "cell_type": "markdown",
      "source": [
        "### Dividimos el dataset en train y test"
      ],
      "metadata": {
        "id": "Zym610JbWX4K"
      }
    },
    {
      "cell_type": "code",
      "source": [
        "train_data, test_data = df_model.randomSplit([0.8, 0.2])"
      ],
      "metadata": {
        "id": "L3TdMKnp_6Cb"
      },
      "execution_count": null,
      "outputs": []
    },
    {
      "cell_type": "markdown",
      "source": [
        "## Modelo\n"
      ],
      "metadata": {
        "id": "UcUT1UYaYeuU"
      }
    },
    {
      "cell_type": "markdown",
      "source": [
        "En este caso vamos a preparar un modelo de regressión logistica para resolver el problema de clasificación binaria."
      ],
      "metadata": {
        "id": "Ew2v4rE5ZHKf"
      }
    },
    {
      "cell_type": "markdown",
      "source": [
        "### Logistic regression model"
      ],
      "metadata": {
        "id": "g1TlV05fLKLf"
      }
    },
    {
      "cell_type": "code",
      "source": [
        "from pyspark.ml.classification import LogisticRegression\n",
        "lr = LogisticRegression(featuresCol = 'Independent Features', labelCol = 'Result')\n",
        "lrModel = lr.fit(train_data)"
      ],
      "metadata": {
        "id": "7wAOJyt3K_NR"
      },
      "execution_count": null,
      "outputs": []
    },
    {
      "cell_type": "code",
      "source": [
        "results = lrModel.transform(test_data)\n",
        "# Showing the results\n",
        "results.show()"
      ],
      "metadata": {
        "colab": {
          "base_uri": "https://localhost:8080/"
        },
        "id": "fTweDrFYLJE4",
        "outputId": "6bb7d08d-8887-4c83-f9d4-9486882665fc"
      },
      "execution_count": null,
      "outputs": [
        {
          "output_type": "stream",
          "name": "stdout",
          "text": [
            "+--------+--------+-------------------+--------------+------+--------------------+--------------------+--------------------+----------+\n",
            "|WhiteElo|BlackElo|      OpeningOneHot|GameTypeOneHot|Result|Independent Features|       rawPrediction|         probability|prediction|\n",
            "+--------+--------+-------------------+--------------+------+--------------------+--------------------+--------------------+----------+\n",
            "|     866|    1282|  (2938,[16],[1.0])|(12,[0],[1.0])|     0|(2952,[0,1,18,294...|[1.88561320317455...|[0.86825454117591...|       0.0|\n",
            "|     878|    1216|   (2938,[1],[1.0])|(12,[2],[1.0])|     1|(2952,[0,1,3,2942...|[1.45787402347803...|[0.81120729684165...|       0.0|\n",
            "|     878|    1277|   (2938,[0],[1.0])|(12,[2],[1.0])|     1|(2952,[0,1,2,2942...|[1.94027472980459...|[0.87438232232688...|       0.0|\n",
            "|     878|    1496|  (2938,[13],[1.0])|(12,[1],[1.0])|     0|(2952,[0,1,15,294...|[2.86202466220427...|[0.94593693478439...|       0.0|\n",
            "|     881|    1669| (2938,[459],[1.0])|(12,[2],[1.0])|     0|(2952,[0,1,461,29...|[3.83648809876214...|[0.97888619088923...|       0.0|\n",
            "|     884|    1408|  (2938,[70],[1.0])|(12,[2],[1.0])|     0|(2952,[0,1,72,294...|[2.32713753633446...|[0.91109975847817...|       0.0|\n",
            "|     887|    1077|  (2938,[75],[1.0])|(12,[0],[1.0])|     1|(2952,[0,1,77,294...|[0.84828808631679...|[0.70020790625339...|       0.0|\n",
            "|     887|    1250|  (2938,[42],[1.0])|(12,[0],[1.0])|     1|(2952,[0,1,44,294...|[1.50440803873004...|[0.81823099941364...|       0.0|\n",
            "|     889|    1243|  (2938,[12],[1.0])|(12,[0],[1.0])|     0|(2952,[0,1,14,294...|[1.57873585626358...|[0.82902540988387...|       0.0|\n",
            "|     907|    1256|  (2938,[84],[1.0])|(12,[2],[1.0])|     1|(2952,[0,1,86,294...|[1.64748280500392...|[0.83855055404843...|       0.0|\n",
            "|     909|    1125|  (2938,[42],[1.0])|(12,[0],[1.0])|     1|(2952,[0,1,44,294...|[0.80866664524580...|[0.69182530172957...|       0.0|\n",
            "|     910|    1773|  (2938,[78],[1.0])|(12,[0],[1.0])|     0|(2952,[0,1,80,294...|[4.08532562304627...|[0.98346049362538...|       0.0|\n",
            "|     911|    1695|  (2938,[93],[1.0])|(12,[0],[1.0])|     0|(2952,[0,1,95,294...|[3.74441118747927...|[0.97689682948844...|       0.0|\n",
            "|     911|    1772| (2938,[201],[1.0])|(12,[0],[1.0])|     0|(2952,[0,1,203,29...|[3.98810744409018...|[0.98180252676620...|       0.0|\n",
            "|     917|     999|  (2938,[31],[1.0])|(12,[0],[1.0])|     0|(2952,[0,1,33,294...|[0.31279412329587...|[0.57756712800680...|       0.0|\n",
            "|     925|    1105|  (2938,[91],[1.0])|(12,[0],[1.0])|     1|(2952,[0,1,93,294...|[0.67479887479814...|[0.66257687332844...|       0.0|\n",
            "|     925|    1333|  (2938,[20],[1.0])|(12,[0],[1.0])|     0|(2952,[0,1,22,294...|[1.88042043646526...|[0.86765941119284...|       0.0|\n",
            "|     925|    1376|   (2938,[2],[1.0])|(12,[0],[1.0])|     0|(2952,[0,1,4,2940...|[2.10786445789840...|[0.89166521585460...|       0.0|\n",
            "|     927|    1242|   (2938,[0],[1.0])|(12,[2],[1.0])|     0|(2952,[0,1,2,2942...|[1.54238338589061...|[0.82381093232077...|       0.0|\n",
            "|     929|    1494|(2938,[2400],[1.0])|(12,[2],[1.0])|     0|(2952,[0,1,2402,2...|[2.99591129545709...|[0.95238907063063...|       0.0|\n",
            "+--------+--------+-------------------+--------------+------+--------------------+--------------------+--------------------+----------+\n",
            "only showing top 20 rows\n",
            "\n"
          ]
        }
      ]
    },
    {
      "cell_type": "markdown",
      "source": [
        "## Resultados\n"
      ],
      "metadata": {
        "id": "direJiVIk4RT"
      }
    },
    {
      "cell_type": "code",
      "source": [
        "from pyspark.ml.evaluation import BinaryClassificationEvaluator\n",
        "\n",
        "# Calling the evaluator\n",
        "res = BinaryClassificationEvaluator(rawPredictionCol='prediction',labelCol='Result')\n",
        "\n",
        "# Evaluating the AUC on results\n",
        "ROC_AUC = res.evaluate(results)"
      ],
      "metadata": {
        "id": "z4cA4m5XMcAK"
      },
      "execution_count": null,
      "outputs": []
    },
    {
      "cell_type": "code",
      "source": [
        "print(\"Accuracy:\", ROC_AUC)"
      ],
      "metadata": {
        "colab": {
          "base_uri": "https://localhost:8080/"
        },
        "id": "cAX9LwfVNRM4",
        "outputId": "5d86ed07-fbda-4271-9a38-f79db8d9af6f"
      },
      "execution_count": null,
      "outputs": [
        {
          "output_type": "stream",
          "name": "stdout",
          "text": [
            "Accuracy: 0.6559429390277607\n"
          ]
        }
      ]
    },
    {
      "cell_type": "markdown",
      "source": [
        "Nos encontramos con un accuarcy de 0.65 lo que es un gran resultado."
      ],
      "metadata": {
        "id": "e2vn-lvRniaV"
      }
    }
  ]
}
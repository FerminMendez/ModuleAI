{
  "nbformat": 4,
  "nbformat_minor": 0,
  "metadata": {
    "colab": {
      "provenance": [],
      "collapsed_sections": [
        "xtF46rpwK7iI"
      ],
      "toc_visible": true,
      "authorship_tag": "ABX9TyPrnnSCsLNnfMQTw/9qyC+d",
      "include_colab_link": true
    },
    "kernelspec": {
      "name": "python3",
      "display_name": "Python 3"
    },
    "language_info": {
      "name": "python"
    }
  },
  "cells": [
    {
      "cell_type": "markdown",
      "metadata": {
        "id": "view-in-github",
        "colab_type": "text"
      },
      "source": [
        "<a href=\"https://colab.research.google.com/github/FerminMendez/ModuleAI/blob/main/BigData/ChessGameClassificationModel.ipynb\" target=\"_parent\"><img src=\"https://colab.research.google.com/assets/colab-badge.svg\" alt=\"Open In Colab\"/></a>"
      ]
    },
    {
      "cell_type": "markdown",
      "source": [
        "# Importando los datos"
      ],
      "metadata": {
        "id": "X534ZBqsv7mz"
      }
    },
    {
      "cell_type": "markdown",
      "source": [
        "Recuperado de https://www.kaggle.com/datasets/arevel/chess-games"
      ],
      "metadata": {
        "id": "2URRJeHjHqi8"
      }
    },
    {
      "cell_type": "code",
      "source": [
        "import os\n",
        "os.environ['KAGGLE_USERNAME']=''\n",
        "os.environ['KAGGLE_KEY']=''\n",
        "!kaggle datasets download -d arevel/chess-games"
      ],
      "metadata": {
        "colab": {
          "base_uri": "https://localhost:8080/"
        },
        "id": "D5ZAg3gXHqoN",
        "outputId": "275fe74d-28d6-432e-df26-377e03930883"
      },
      "execution_count": 1,
      "outputs": [
        {
          "output_type": "stream",
          "name": "stdout",
          "text": [
            "Downloading chess-games.zip to /content\n",
            " 99% 1.44G/1.45G [00:18<00:00, 151MB/s]\n",
            "100% 1.45G/1.45G [00:18<00:00, 83.1MB/s]\n"
          ]
        }
      ]
    },
    {
      "cell_type": "code",
      "source": [
        "!pip install pyspark"
      ],
      "metadata": {
        "colab": {
          "base_uri": "https://localhost:8080/"
        },
        "id": "esSTh6hKHqrR",
        "outputId": "ff574d77-7725-484c-97ce-dd5c8f370e0c"
      },
      "execution_count": 2,
      "outputs": [
        {
          "output_type": "stream",
          "name": "stdout",
          "text": [
            "Collecting pyspark\n",
            "  Downloading pyspark-3.5.0.tar.gz (316.9 MB)\n",
            "\u001b[2K     \u001b[90m━━━━━━━━━━━━━━━━━━━━━━━━━━━━━━━━━━━━━━━━\u001b[0m \u001b[32m316.9/316.9 MB\u001b[0m \u001b[31m2.9 MB/s\u001b[0m eta \u001b[36m0:00:00\u001b[0m\n",
            "\u001b[?25h  Preparing metadata (setup.py) ... \u001b[?25l\u001b[?25hdone\n",
            "Requirement already satisfied: py4j==0.10.9.7 in /usr/local/lib/python3.10/dist-packages (from pyspark) (0.10.9.7)\n",
            "Building wheels for collected packages: pyspark\n",
            "  Building wheel for pyspark (setup.py) ... \u001b[?25l\u001b[?25hdone\n",
            "  Created wheel for pyspark: filename=pyspark-3.5.0-py2.py3-none-any.whl size=317425344 sha256=3b26389507c7e5ad9bcadc6d66ce7c344c7fa29af526d04e61bb6fea180b99b8\n",
            "  Stored in directory: /root/.cache/pip/wheels/41/4e/10/c2cf2467f71c678cfc8a6b9ac9241e5e44a01940da8fbb17fc\n",
            "Successfully built pyspark\n",
            "Installing collected packages: pyspark\n",
            "Successfully installed pyspark-3.5.0\n"
          ]
        }
      ]
    },
    {
      "cell_type": "code",
      "source": [
        "from pyspark.sql import SparkSession\n",
        "spark = SparkSession.builder.appName('used-cars-bigdata').getOrCreate()"
      ],
      "metadata": {
        "id": "cI_rrkqVHqt6"
      },
      "execution_count": 3,
      "outputs": []
    },
    {
      "cell_type": "code",
      "source": [
        "!ls\n",
        "!unzip \\*.zip  && rm *.zip"
      ],
      "metadata": {
        "colab": {
          "base_uri": "https://localhost:8080/"
        },
        "id": "Du37whRXgTgS",
        "outputId": "c8d0b163-85c1-4a4c-d8c2-56c5365c3fa2"
      },
      "execution_count": 4,
      "outputs": [
        {
          "output_type": "stream",
          "name": "stdout",
          "text": [
            "chess-games.zip  sample_data\n",
            "Archive:  chess-games.zip\n",
            "  inflating: chess_games.csv         \n"
          ]
        }
      ]
    },
    {
      "cell_type": "code",
      "source": [
        "data = spark.read.csv('chess_games.csv', header=True)"
      ],
      "metadata": {
        "id": "woqBlDC9jh9c"
      },
      "execution_count": 25,
      "outputs": []
    },
    {
      "cell_type": "code",
      "source": [
        "data.show()"
      ],
      "metadata": {
        "colab": {
          "base_uri": "https://localhost:8080/"
        },
        "id": "QBpjIlstkCKH",
        "outputId": "3e090186-ac91-46f4-c305-7e1cebf8dd5c"
      },
      "execution_count": 26,
      "outputs": [
        {
          "output_type": "stream",
          "name": "stdout",
          "text": [
            "+------------------+---------------+---------------+------+----------+--------+--------+--------+---------------+---------------+---+--------------------+-----------+------------+--------------------+\n",
            "|             Event|          White|          Black|Result|   UTCDate| UTCTime|WhiteElo|BlackElo|WhiteRatingDiff|BlackRatingDiff|ECO|             Opening|TimeControl| Termination|                  AN|\n",
            "+------------------+---------------+---------------+------+----------+--------+--------+--------+---------------+---------------+---+--------------------+-----------+------------+--------------------+\n",
            "|        Classical |        eisaaaa|       HAMID449|   1-0|2016.06.30|22:00:01|    1901|    1896|           11.0|          -11.0|D10|        Slav Defense|      300+5|Time forfeit|1. d4 d5 2. c4 c6...|\n",
            "|            Blitz |         go4jas|     Sergei1973|   0-1|2016.06.30|22:00:01|    1641|    1627|          -11.0|           12.0|C20|King's Pawn Openi...|      300+0|      Normal|1. e4 e5 2. b3 Nf...|\n",
            "| Blitz tournament |Evangelistaizac|         kafune|   1-0|2016.06.30|22:00:02|    1647|    1688|           13.0|          -13.0|B01|Scandinavian Defe...|      180+0|Time forfeit|1. e4 d5 2. exd5 ...|\n",
            "|   Correspondence |         Jvayne|       Wsjvayne|   1-0|2016.06.30|22:00:02|    1706|    1317|           27.0|          -25.0|A00|Van't Kruijs Opening|          -|      Normal|1. e3 Nf6 2. Bc4 ...|\n",
            "| Blitz tournament |         kyoday|      BrettDale|   0-1|2016.06.30|22:00:02|    1945|    1900|          -14.0|           13.0|B90|Sicilian Defense:...|      180+0|Time forfeit|1. e4 c5 2. Nf3 d...|\n",
            "| Blitz tournament | lucaseixasouza|         diguim|   0-1|2016.06.30|22:00:02|    1773|    1809|          -10.0|           10.0|C27|         Vienna Game|      180+0|      Normal|1. e4 e5 2. Nc3 d...|\n",
            "| Blitz tournament |       RENZZO77|HeadlessChicken|   0-1|2016.06.30|22:00:02|    1895|    1886|          -12.0|           12.0|B10|Caro-Kann Defense...|      180+0|Time forfeit|1. e4 c6 2. Nf3 d...|\n",
            "| Blitz tournament |          ipero|      Bayern123|   1-0|2016.06.30|22:00:02|    2155|    2356|           20.0|          -20.0|D02|Queen's Pawn Game...|      180+0|      Normal|1. d4 d5 2. Nf3 N...|\n",
            "| Blitz tournament |Loginov19510410|        Kereshu|   0-1|2016.06.30|22:00:02|    2010|    2111|           -9.0|            9.0|A45|         Indian Game|      300+0|      Normal|1. d4 Nf6 2. Bf4 ...|\n",
            "| Blitz tournament |     Shambobala|     cernunnoss|   1-0|2016.06.30|22:00:02|    1764|    1773|           12.0|          -12.0|B01|Scandinavian Defe...|      180+0|Time forfeit|1. e4 d5 2. exd5 ...|\n",
            "|        Classical |        DARDELU|   chess4life54|   0-1|2016.06.30|22:00:01|    1649|    1638|          -13.0|           11.0|C57|Italian Game: Two...|      900+3|      Normal|1. e4 e5 2. Nf3 N...|\n",
            "|        Classical |        fabikim|         sereno|   1-0|2016.06.30|22:00:02|    1630|    1500|            7.0|           -7.0|C41| Philidor Defense #3|      420+5|      Normal|1. e4 e5 2. Nf3 d...|\n",
            "| Blitz tournament |      IZDenisZI|         BoBo93|   1-0|2016.06.30|22:00:02|    1833|    1837|           11.0|          -12.0|C36|King's Gambit Acc...|      300+0|      Normal|1. e4 e5 2. f4 ex...|\n",
            "| Blitz tournament |     lasha-fero| ildivinojohnny|   1-0|2016.06.30|22:00:02|    2020|    1979|           10.0|          -11.0|A00|      Polish Opening|      180+0|Time forfeit|1. b4 e6 2. Bb2 d...|\n",
            "| Blitz tournament |       arkadyNa|     sofianet06|   0-1|2016.06.30|22:00:02|    1581|    1616|          -12.0|           11.0|B01|Scandinavian Defe...|      180+0|Time forfeit|1. e4 d5 2. exd5 ...|\n",
            "| Blitz tournament |    mayconchess|        trend19|   0-1|2016.06.30|22:00:02|    1879|    1868|          -13.0|           12.0|B01|Scandinavian Defe...|      180+0|      Normal|1. e4 d5 2. exd5 ...|\n",
            "| Blitz tournament |         lj1983|        plmnnnn|   1-0|2016.06.30|22:00:02|    1963|    1979|           12.0|          -13.0|B10|Caro-Kann Defense...|      180+0|      Normal|1. e4 c6 2. Nf3 d...|\n",
            "| Blitz tournament |         Inorem|       leymoral|   1-0|2016.06.30|22:00:02|    1751|    1712|           10.0|          -10.0|C62|Ruy Lopez: Steini...|      180+0|      Normal|1. e4 e5 2. Nf3 N...|\n",
            "| Blitz tournament |     Torres2300| Trabelsi-Wajdi|   0-1|2016.06.30|22:00:02|    1795|    1800|          -14.0|           11.0|B32|Sicilian Defense:...|      300+0|      Normal|1. e4 c5 2. Nf3 e...|\n",
            "| Blitz tournament |         Igor76|          dancg|   1-0|2016.06.30|22:00:02|    1913|    1925|           11.0|          -13.0|B12|Caro-Kann Defense...|      300+0|      Normal|1. e4 c6 2. d4 d5...|\n",
            "+------------------+---------------+---------------+------+----------+--------+--------+--------+---------------+---------------+---+--------------------+-----------+------------+--------------------+\n",
            "only showing top 20 rows\n",
            "\n"
          ]
        }
      ]
    },
    {
      "cell_type": "markdown",
      "source": [
        "## Sobre el dataset\n",
        "Tenemos registros de más de 6 millones de partidas de ajedrez. En este vamos a tratar de predecir quien gana si blancas o negras."
      ],
      "metadata": {
        "id": "Cu8oYQ3NwCFB"
      }
    },
    {
      "cell_type": "code",
      "source": [
        "data.count()"
      ],
      "metadata": {
        "colab": {
          "base_uri": "https://localhost:8080/"
        },
        "id": "yeSxULUMkK9U",
        "outputId": "56cdbba7-8e98-484c-cebb-d569a1819521"
      },
      "execution_count": 27,
      "outputs": [
        {
          "output_type": "execute_result",
          "data": {
            "text/plain": [
              "6256184"
            ]
          },
          "metadata": {},
          "execution_count": 27
        }
      ]
    },
    {
      "cell_type": "markdown",
      "source": [
        "# Sobre los datos"
      ],
      "metadata": {
        "id": "8IPdoQwlWjpt"
      }
    },
    {
      "cell_type": "markdown",
      "source": [
        "Filtrando las variables que utilizaremos para el análisis:\n",
        "Eliminamos los nombres de los jugadores por identificadores únicos.\n",
        "\n",
        "Variables independientes:\n",
        "*   Event as GameType: Variable categorica del tipo de partido que se juega. (Bullet,tournament, blitz, etc)\n",
        "*   WhiteElo: Entero del Elo del jugador con blancas\n",
        "*   BlackElo: Entero del Elo del jugador con negras\n",
        "*   Opening\n",
        "\n",
        "Variable dependiente:\n",
        "*   Result\n",
        "\n",
        "Variables para agregar en siguientes versiones\n",
        "*   TimeControl\n",
        "*   Termination\n",
        "\n"
      ],
      "metadata": {
        "id": "A7riDB7DxeRN"
      }
    },
    {
      "cell_type": "markdown",
      "source": [
        "### Filtramos solo las variabes que vamos a utilizar"
      ],
      "metadata": {
        "id": "Jrzbw4-zVcc3"
      }
    },
    {
      "cell_type": "code",
      "source": [
        "df = data.select(\"event\", \"WhiteElo\",\"BlackElo\",\"Opening\",\"TimeControl\",\"Termination\",\"Result\")\n",
        "df=df.withColumnRenamed(\"event\", \"GameType\")\n",
        "df.show()"
      ],
      "metadata": {
        "id": "2arC9x3LkaJZ",
        "colab": {
          "base_uri": "https://localhost:8080/"
        },
        "outputId": "72ebad78-1225-41c5-8ef9-10754135ee35"
      },
      "execution_count": 34,
      "outputs": [
        {
          "output_type": "stream",
          "name": "stdout",
          "text": [
            "+------------------+--------+--------+--------------------+-----------+------------+------+\n",
            "|          GameType|WhiteElo|BlackElo|             Opening|TimeControl| Termination|Result|\n",
            "+------------------+--------+--------+--------------------+-----------+------------+------+\n",
            "|        Classical |    1901|    1896|        Slav Defense|      300+5|Time forfeit|   1-0|\n",
            "|            Blitz |    1641|    1627|King's Pawn Openi...|      300+0|      Normal|   0-1|\n",
            "| Blitz tournament |    1647|    1688|Scandinavian Defe...|      180+0|Time forfeit|   1-0|\n",
            "|   Correspondence |    1706|    1317|Van't Kruijs Opening|          -|      Normal|   1-0|\n",
            "| Blitz tournament |    1945|    1900|Sicilian Defense:...|      180+0|Time forfeit|   0-1|\n",
            "| Blitz tournament |    1773|    1809|         Vienna Game|      180+0|      Normal|   0-1|\n",
            "| Blitz tournament |    1895|    1886|Caro-Kann Defense...|      180+0|Time forfeit|   0-1|\n",
            "| Blitz tournament |    2155|    2356|Queen's Pawn Game...|      180+0|      Normal|   1-0|\n",
            "| Blitz tournament |    2010|    2111|         Indian Game|      300+0|      Normal|   0-1|\n",
            "| Blitz tournament |    1764|    1773|Scandinavian Defe...|      180+0|Time forfeit|   1-0|\n",
            "|        Classical |    1649|    1638|Italian Game: Two...|      900+3|      Normal|   0-1|\n",
            "|        Classical |    1630|    1500| Philidor Defense #3|      420+5|      Normal|   1-0|\n",
            "| Blitz tournament |    1833|    1837|King's Gambit Acc...|      300+0|      Normal|   1-0|\n",
            "| Blitz tournament |    2020|    1979|      Polish Opening|      180+0|Time forfeit|   1-0|\n",
            "| Blitz tournament |    1581|    1616|Scandinavian Defe...|      180+0|Time forfeit|   0-1|\n",
            "| Blitz tournament |    1879|    1868|Scandinavian Defe...|      180+0|      Normal|   0-1|\n",
            "| Blitz tournament |    1963|    1979|Caro-Kann Defense...|      180+0|      Normal|   1-0|\n",
            "| Blitz tournament |    1751|    1712|Ruy Lopez: Steini...|      180+0|      Normal|   1-0|\n",
            "| Blitz tournament |    1795|    1800|Sicilian Defense:...|      300+0|      Normal|   0-1|\n",
            "| Blitz tournament |    1913|    1925|Caro-Kann Defense...|      300+0|      Normal|   1-0|\n",
            "+------------------+--------+--------+--------------------+-----------+------------+------+\n",
            "only showing top 20 rows\n",
            "\n"
          ]
        }
      ]
    },
    {
      "cell_type": "markdown",
      "source": [
        "## Data preparation"
      ],
      "metadata": {
        "id": "wIgaPSvgVhh-"
      }
    },
    {
      "cell_type": "markdown",
      "source": [
        "Cambiamos Result por valores binarios donde 0 es \"Gana negras\" y 1 \"Ganan blancas\""
      ],
      "metadata": {
        "id": "3qSIynIqVl8N"
      }
    },
    {
      "cell_type": "code",
      "source": [
        "result_mapping = {\n",
        "    \"1-0\": \"1\",\n",
        "    \"0-1\": \"0\",\n",
        "}\n",
        "df = df.replace(to_replace=result_mapping, subset=['Result'])\n",
        "df = df.filter((df[\"Result\"] == 0) | (df[\"Result\"] == 1))\n",
        "df.show()"
      ],
      "metadata": {
        "colab": {
          "base_uri": "https://localhost:8080/"
        },
        "id": "J68r-MUc6-O0",
        "outputId": "ba7d47a7-6fd0-4a50-f375-5e3c813db1b1"
      },
      "execution_count": 35,
      "outputs": [
        {
          "output_type": "stream",
          "name": "stdout",
          "text": [
            "+------------------+--------+--------+--------------------+-----------+------------+------+\n",
            "|          GameType|WhiteElo|BlackElo|             Opening|TimeControl| Termination|Result|\n",
            "+------------------+--------+--------+--------------------+-----------+------------+------+\n",
            "|        Classical |    1901|    1896|        Slav Defense|      300+5|Time forfeit|     1|\n",
            "|            Blitz |    1641|    1627|King's Pawn Openi...|      300+0|      Normal|     0|\n",
            "| Blitz tournament |    1647|    1688|Scandinavian Defe...|      180+0|Time forfeit|     1|\n",
            "|   Correspondence |    1706|    1317|Van't Kruijs Opening|          -|      Normal|     1|\n",
            "| Blitz tournament |    1945|    1900|Sicilian Defense:...|      180+0|Time forfeit|     0|\n",
            "| Blitz tournament |    1773|    1809|         Vienna Game|      180+0|      Normal|     0|\n",
            "| Blitz tournament |    1895|    1886|Caro-Kann Defense...|      180+0|Time forfeit|     0|\n",
            "| Blitz tournament |    2155|    2356|Queen's Pawn Game...|      180+0|      Normal|     1|\n",
            "| Blitz tournament |    2010|    2111|         Indian Game|      300+0|      Normal|     0|\n",
            "| Blitz tournament |    1764|    1773|Scandinavian Defe...|      180+0|Time forfeit|     1|\n",
            "|        Classical |    1649|    1638|Italian Game: Two...|      900+3|      Normal|     0|\n",
            "|        Classical |    1630|    1500| Philidor Defense #3|      420+5|      Normal|     1|\n",
            "| Blitz tournament |    1833|    1837|King's Gambit Acc...|      300+0|      Normal|     1|\n",
            "| Blitz tournament |    2020|    1979|      Polish Opening|      180+0|Time forfeit|     1|\n",
            "| Blitz tournament |    1581|    1616|Scandinavian Defe...|      180+0|Time forfeit|     0|\n",
            "| Blitz tournament |    1879|    1868|Scandinavian Defe...|      180+0|      Normal|     0|\n",
            "| Blitz tournament |    1963|    1979|Caro-Kann Defense...|      180+0|      Normal|     1|\n",
            "| Blitz tournament |    1751|    1712|Ruy Lopez: Steini...|      180+0|      Normal|     1|\n",
            "| Blitz tournament |    1795|    1800|Sicilian Defense:...|      300+0|      Normal|     0|\n",
            "| Blitz tournament |    1913|    1925|Caro-Kann Defense...|      300+0|      Normal|     1|\n",
            "+------------------+--------+--------+--------------------+-----------+------------+------+\n",
            "only showing top 20 rows\n",
            "\n"
          ]
        }
      ]
    },
    {
      "cell_type": "markdown",
      "source": [
        "Convertimos las variables categóricas con One-hot encoding"
      ],
      "metadata": {
        "id": "bKbIhu3yVxeQ"
      }
    },
    {
      "cell_type": "code",
      "source": [
        "from pyspark.sql import SparkSession\n",
        "from pyspark.ml.feature import StringIndexer, OneHotEncoder\n",
        "from pyspark.ml import Pipeline\n",
        "\n",
        "indexer = StringIndexer(inputCol=\"GameType\", outputCol=\"GameTypeIndex\")\n",
        "df = indexer.fit(df).transform(df)\n",
        "indexer = StringIndexer(inputCol=\"Opening\", outputCol=\"OpeningIndex\")\n",
        "df = indexer.fit(df).transform(df)\n",
        "# Step 2: Perform one-hot encoding\n",
        "encoder = OneHotEncoder(inputCol=\"GameTypeIndex\", outputCol=\"GameTypeOneHot\")\n",
        "df = encoder.fit(df).transform(df)\n",
        "encoder = OneHotEncoder(inputCol=\"OpeningIndex\", outputCol=\"OpeningOneHot\")\n",
        "df = encoder.fit(df).transform(df)\n",
        "df.show()"
      ],
      "metadata": {
        "colab": {
          "base_uri": "https://localhost:8080/"
        },
        "id": "R23VuvYR1OiQ",
        "outputId": "1c849b80-e5d3-4ec2-adc1-be3631537e35"
      },
      "execution_count": 36,
      "outputs": [
        {
          "output_type": "stream",
          "name": "stdout",
          "text": [
            "+------------------+--------+--------+--------------------+-----------+------------+------+-------------+------------+--------------+------------------+\n",
            "|          GameType|WhiteElo|BlackElo|             Opening|TimeControl| Termination|Result|GameTypeIndex|OpeningIndex|GameTypeOneHot|     OpeningOneHot|\n",
            "+------------------+--------+--------+--------------------+-----------+------------+------+-------------+------------+--------------+------------------+\n",
            "|        Classical |    1901|    1896|        Slav Defense|      300+5|Time forfeit|     1|          1.0|       131.0|(12,[1],[1.0])|(2938,[131],[1.0])|\n",
            "|            Blitz |    1641|    1627|King's Pawn Openi...|      300+0|      Normal|     0|          0.0|       313.0|(12,[0],[1.0])|(2938,[313],[1.0])|\n",
            "| Blitz tournament |    1647|    1688|Scandinavian Defe...|      180+0|Time forfeit|     1|          4.0|         1.0|(12,[4],[1.0])|  (2938,[1],[1.0])|\n",
            "|   Correspondence |    1706|    1317|Van't Kruijs Opening|          -|      Normal|     1|          6.0|         0.0|(12,[6],[1.0])|  (2938,[0],[1.0])|\n",
            "| Blitz tournament |    1945|    1900|Sicilian Defense:...|      180+0|Time forfeit|     0|          4.0|       338.0|(12,[4],[1.0])|(2938,[338],[1.0])|\n",
            "| Blitz tournament |    1773|    1809|         Vienna Game|      180+0|      Normal|     0|          4.0|        91.0|(12,[4],[1.0])| (2938,[91],[1.0])|\n",
            "| Blitz tournament |    1895|    1886|Caro-Kann Defense...|      180+0|Time forfeit|     0|          4.0|       207.0|(12,[4],[1.0])|(2938,[207],[1.0])|\n",
            "| Blitz tournament |    2155|    2356|Queen's Pawn Game...|      180+0|      Normal|     1|          4.0|        95.0|(12,[4],[1.0])| (2938,[95],[1.0])|\n",
            "| Blitz tournament |    2010|    2111|         Indian Game|      300+0|      Normal|     0|          4.0|        15.0|(12,[4],[1.0])| (2938,[15],[1.0])|\n",
            "| Blitz tournament |    1764|    1773|Scandinavian Defe...|      180+0|Time forfeit|     1|          4.0|         1.0|(12,[4],[1.0])|  (2938,[1],[1.0])|\n",
            "|        Classical |    1649|    1638|Italian Game: Two...|      900+3|      Normal|     0|          1.0|       514.0|(12,[1],[1.0])|(2938,[514],[1.0])|\n",
            "|        Classical |    1630|    1500| Philidor Defense #3|      420+5|      Normal|     1|          1.0|        10.0|(12,[1],[1.0])| (2938,[10],[1.0])|\n",
            "| Blitz tournament |    1833|    1837|King's Gambit Acc...|      300+0|      Normal|     1|          4.0|       489.0|(12,[4],[1.0])|(2938,[489],[1.0])|\n",
            "| Blitz tournament |    2020|    1979|      Polish Opening|      180+0|Time forfeit|     1|          4.0|        49.0|(12,[4],[1.0])| (2938,[49],[1.0])|\n",
            "| Blitz tournament |    1581|    1616|Scandinavian Defe...|      180+0|Time forfeit|     0|          4.0|         1.0|(12,[4],[1.0])|  (2938,[1],[1.0])|\n",
            "| Blitz tournament |    1879|    1868|Scandinavian Defe...|      180+0|      Normal|     0|          4.0|        39.0|(12,[4],[1.0])| (2938,[39],[1.0])|\n",
            "| Blitz tournament |    1963|    1979|Caro-Kann Defense...|      180+0|      Normal|     1|          4.0|       207.0|(12,[4],[1.0])|(2938,[207],[1.0])|\n",
            "| Blitz tournament |    1751|    1712|Ruy Lopez: Steini...|      180+0|      Normal|     1|          4.0|        38.0|(12,[4],[1.0])| (2938,[38],[1.0])|\n",
            "| Blitz tournament |    1795|    1800|Sicilian Defense:...|      300+0|      Normal|     0|          4.0|       299.0|(12,[4],[1.0])|(2938,[299],[1.0])|\n",
            "| Blitz tournament |    1913|    1925|Caro-Kann Defense...|      300+0|      Normal|     1|          4.0|       543.0|(12,[4],[1.0])|(2938,[543],[1.0])|\n",
            "+------------------+--------+--------+--------------------+-----------+------------+------+-------------+------------+--------------+------------------+\n",
            "only showing top 20 rows\n",
            "\n"
          ]
        }
      ]
    },
    {
      "cell_type": "markdown",
      "source": [
        "Nos aseguramos que las variables numéricas se trate como enteros"
      ],
      "metadata": {
        "id": "-paPVXsDWIOt"
      }
    },
    {
      "cell_type": "code",
      "source": [
        "from pyspark.sql.functions import col, when\n",
        "df=df.withColumn(\"WhiteElo\", col(\"WhiteElo\").cast(\"int\"))\n",
        "df=df.withColumn(\"BlackELo\", col(\"BlackELo\").cast(\"int\"))\n",
        "df=df.withColumn(\"Result\", col(\"Result\").cast(\"int\"))"
      ],
      "metadata": {
        "id": "3ux2QEZzDAE6"
      },
      "execution_count": 57,
      "outputs": []
    },
    {
      "cell_type": "markdown",
      "source": [
        "Filtramos solo los datos que vamos a utilizar para entrenar el modelo"
      ],
      "metadata": {
        "id": "jd657IwJ830O"
      }
    },
    {
      "cell_type": "code",
      "source": [
        "df_model=df.select( \"WhiteElo\",\"BlackElo\",\"OpeningOneHot\",\"GameTypeOneHot\",\"Result\")"
      ],
      "metadata": {
        "id": "PAy0cjRK83_4"
      },
      "execution_count": 58,
      "outputs": []
    },
    {
      "cell_type": "code",
      "source": [
        "from pyspark.ml.feature import VectorAssembler\n",
        "\n",
        "featassembler = VectorAssembler(inputCols=['WhiteElo',\n",
        " 'BlackElo',\n",
        " 'OpeningOneHot',\n",
        " 'GameTypeOneHot',], outputCol = \"Independent Features\" )\n",
        "featassembler"
      ],
      "metadata": {
        "colab": {
          "base_uri": "https://localhost:8080/"
        },
        "id": "A3_qgdk--djE",
        "outputId": "ca0cccfd-4655-447e-d127-864b0b3c8470"
      },
      "execution_count": 59,
      "outputs": [
        {
          "output_type": "execute_result",
          "data": {
            "text/plain": [
              "VectorAssembler_3f308d26bef7"
            ]
          },
          "metadata": {},
          "execution_count": 59
        }
      ]
    },
    {
      "cell_type": "code",
      "source": [
        "df_model = featassembler.transform(df_model)\n",
        "df_model.show()"
      ],
      "metadata": {
        "colab": {
          "base_uri": "https://localhost:8080/"
        },
        "id": "sD461-ipAYbq",
        "outputId": "c51452ed-e8f3-414c-d36b-13c1307759e3"
      },
      "execution_count": 60,
      "outputs": [
        {
          "output_type": "stream",
          "name": "stdout",
          "text": [
            "+--------+--------+------------------+--------------+------+--------------------+\n",
            "|WhiteElo|BlackElo|     OpeningOneHot|GameTypeOneHot|Result|Independent Features|\n",
            "+--------+--------+------------------+--------------+------+--------------------+\n",
            "|    1901|    1896|(2938,[131],[1.0])|(12,[1],[1.0])|     1|(2952,[0,1,133,29...|\n",
            "|    1641|    1627|(2938,[313],[1.0])|(12,[0],[1.0])|     0|(2952,[0,1,315,29...|\n",
            "|    1647|    1688|  (2938,[1],[1.0])|(12,[4],[1.0])|     1|(2952,[0,1,3,2944...|\n",
            "|    1706|    1317|  (2938,[0],[1.0])|(12,[6],[1.0])|     1|(2952,[0,1,2,2946...|\n",
            "|    1945|    1900|(2938,[338],[1.0])|(12,[4],[1.0])|     0|(2952,[0,1,340,29...|\n",
            "|    1773|    1809| (2938,[91],[1.0])|(12,[4],[1.0])|     0|(2952,[0,1,93,294...|\n",
            "|    1895|    1886|(2938,[207],[1.0])|(12,[4],[1.0])|     0|(2952,[0,1,209,29...|\n",
            "|    2155|    2356| (2938,[95],[1.0])|(12,[4],[1.0])|     1|(2952,[0,1,97,294...|\n",
            "|    2010|    2111| (2938,[15],[1.0])|(12,[4],[1.0])|     0|(2952,[0,1,17,294...|\n",
            "|    1764|    1773|  (2938,[1],[1.0])|(12,[4],[1.0])|     1|(2952,[0,1,3,2944...|\n",
            "|    1649|    1638|(2938,[514],[1.0])|(12,[1],[1.0])|     0|(2952,[0,1,516,29...|\n",
            "|    1630|    1500| (2938,[10],[1.0])|(12,[1],[1.0])|     1|(2952,[0,1,12,294...|\n",
            "|    1833|    1837|(2938,[489],[1.0])|(12,[4],[1.0])|     1|(2952,[0,1,491,29...|\n",
            "|    2020|    1979| (2938,[49],[1.0])|(12,[4],[1.0])|     1|(2952,[0,1,51,294...|\n",
            "|    1581|    1616|  (2938,[1],[1.0])|(12,[4],[1.0])|     0|(2952,[0,1,3,2944...|\n",
            "|    1879|    1868| (2938,[39],[1.0])|(12,[4],[1.0])|     0|(2952,[0,1,41,294...|\n",
            "|    1963|    1979|(2938,[207],[1.0])|(12,[4],[1.0])|     1|(2952,[0,1,209,29...|\n",
            "|    1751|    1712| (2938,[38],[1.0])|(12,[4],[1.0])|     1|(2952,[0,1,40,294...|\n",
            "|    1795|    1800|(2938,[299],[1.0])|(12,[4],[1.0])|     0|(2952,[0,1,301,29...|\n",
            "|    1913|    1925|(2938,[543],[1.0])|(12,[4],[1.0])|     1|(2952,[0,1,545,29...|\n",
            "+--------+--------+------------------+--------------+------+--------------------+\n",
            "only showing top 20 rows\n",
            "\n"
          ]
        }
      ]
    },
    {
      "cell_type": "markdown",
      "source": [
        "### Dividimos el dataset en train y test"
      ],
      "metadata": {
        "id": "Zym610JbWX4K"
      }
    },
    {
      "cell_type": "code",
      "source": [
        "train_data, test_data = df_model.randomSplit([0.8, 0.2])"
      ],
      "metadata": {
        "id": "L3TdMKnp_6Cb"
      },
      "execution_count": 61,
      "outputs": []
    },
    {
      "cell_type": "markdown",
      "source": [
        "### Random forest classification"
      ],
      "metadata": {
        "id": "xtF46rpwK7iI"
      }
    },
    {
      "cell_type": "code",
      "source": [
        "from pyspark.ml.classification import RandomForestClassifier\n",
        "model = RandomForestClassifier(labelCol=\"Result\", featuresCol=\"Independent Features\")\n",
        "randomForestModel = model.fit(train_data)"
      ],
      "metadata": {
        "id": "TtFa4yT5-9yi"
      },
      "execution_count": 62,
      "outputs": []
    },
    {
      "cell_type": "code",
      "source": [
        "from pyspark.ml.evaluation import MulticlassClassificationEvaluator\n",
        "\n",
        "modelPredict = randomForestModel.transform(test_data)"
      ],
      "metadata": {
        "id": "OnTyezmQEr5v"
      },
      "execution_count": 63,
      "outputs": []
    },
    {
      "cell_type": "code",
      "source": [
        "evaluator = MulticlassClassificationEvaluator(labelCol = \"Result\", predictionCol=\"prediction\")\n",
        "accuracy = evaluator.evaluate(modelPredict)\n",
        "print(\"Accuracy:\", accuracy)"
      ],
      "metadata": {
        "colab": {
          "base_uri": "https://localhost:8080/"
        },
        "id": "kKZek8sVFS-v",
        "outputId": "3a6db423-f05c-4736-a7af-2c79f236f9f1"
      },
      "execution_count": 66,
      "outputs": [
        {
          "output_type": "stream",
          "name": "stdout",
          "text": [
            "Accuracy: 0.46092995836353834\n"
          ]
        }
      ]
    },
    {
      "cell_type": "markdown",
      "source": [
        "### Logistic regression model"
      ],
      "metadata": {
        "id": "g1TlV05fLKLf"
      }
    },
    {
      "cell_type": "code",
      "source": [
        "from pyspark.ml.classification import LogisticRegression\n",
        "lr = LogisticRegression(featuresCol = 'Independent Features', labelCol = 'Result')\n",
        "lrModel = lr.fit(train_data)"
      ],
      "metadata": {
        "id": "7wAOJyt3K_NR"
      },
      "execution_count": 67,
      "outputs": []
    },
    {
      "cell_type": "code",
      "source": [
        "trainingSummary = lrModel.summary\n",
        "\n",
        "# for multiclass, we can inspect metrics on a per-label basis\n",
        "print(\"False positive rate by label:\")\n",
        "for i, rate in enumerate(trainingSummary.falsePositiveRateByLabel):\n",
        "    print(\"label %d: %s\" % (i, rate))\n",
        "\n",
        "print(\"True positive rate by label:\")\n",
        "for i, rate in enumerate(trainingSummary.truePositiveRateByLabel):\n",
        "    print(\"label %d: %s\" % (i, rate))\n",
        "\n",
        "print(\"Precision by label:\")\n",
        "for i, prec in enumerate(trainingSummary.precisionByLabel):\n",
        "    print(\"label %d: %s\" % (i, prec))\n",
        "\n",
        "print(\"Recall by label:\")\n",
        "for i, rec in enumerate(trainingSummary.recallByLabel):\n",
        "    print(\"label %d: %s\" % (i, rec))\n",
        "\n",
        "print(\"F-measure by label:\")\n",
        "for i, f in enumerate(trainingSummary.fMeasureByLabel()):\n",
        "    print(\"label %d: %s\" % (i, f))\n",
        "\n",
        "accuracy = trainingSummary.accuracy\n",
        "falsePositiveRate = trainingSummary.weightedFalsePositiveRate\n",
        "truePositiveRate = trainingSummary.weightedTruePositiveRate\n",
        "fMeasure = trainingSummary.weightedFMeasure()\n",
        "precision = trainingSummary.weightedPrecision\n",
        "recall = trainingSummary.weightedRecall\n",
        "print(\"Accuracy: %s\\nFPR: %s\\nTPR: %s\\nF-measure: %s\\nPrecision: %s\\nRecall: %s\"\n",
        "      % (accuracy, falsePositiveRate, truePositiveRate, fMeasure, precision, recall))"
      ],
      "metadata": {
        "colab": {
          "base_uri": "https://localhost:8080/"
        },
        "id": "hn_7edS7OWUK",
        "outputId": "0eea2eeb-a40b-44e6-9c94-e735440678ff"
      },
      "execution_count": 74,
      "outputs": [
        {
          "output_type": "stream",
          "name": "stdout",
          "text": [
            "False positive rate by label:\n",
            "label 0: 0.30439700115469825\n",
            "label 1: 0.3825185953599698\n",
            "True positive rate by label:\n",
            "label 0: 0.6174814046400302\n",
            "label 1: 0.6956029988453017\n",
            "Precision by label:\n",
            "label 0: 0.6538888784977234\n",
            "label 1: 0.6613106678908223\n",
            "Recall by label:\n",
            "label 0: 0.6174814046400302\n",
            "label 1: 0.6956029988453017\n",
            "F-measure by label:\n",
            "label 0: 0.6351638519924729\n",
            "label 1: 0.678023510308858\n",
            "Accuracy: 0.6579309820462579\n",
            "FPR: 0.34484657856092604\n",
            "TPR: 0.6579309820462579\n",
            "F-measure: 0.6573556042769662\n",
            "Precision: 0.6577317115530761\n",
            "Recall: 0.6579309820462579\n"
          ]
        }
      ]
    },
    {
      "cell_type": "code",
      "source": [
        "results = lrModel.transform(test_data)\n",
        "# Showing the results\n",
        "results.show()"
      ],
      "metadata": {
        "colab": {
          "base_uri": "https://localhost:8080/"
        },
        "id": "fTweDrFYLJE4",
        "outputId": "0352ea85-72a4-4984-cf20-43dafc406f8c"
      },
      "execution_count": 68,
      "outputs": [
        {
          "output_type": "stream",
          "name": "stdout",
          "text": [
            "+--------+--------+------------------+--------------+------+--------------------+--------------------+--------------------+----------+\n",
            "|WhiteElo|BlackElo|     OpeningOneHot|GameTypeOneHot|Result|Independent Features|       rawPrediction|         probability|prediction|\n",
            "+--------+--------+------------------+--------------+------+--------------------+--------------------+--------------------+----------+\n",
            "|     799|    1250| (2938,[50],[1.0])|(12,[0],[1.0])|     1|(2952,[0,1,52,294...|[2.08263238624840...|[0.88920364319083...|       0.0|\n",
            "|     864|    1223|(2938,[279],[1.0])|(12,[0],[1.0])|     0|(2952,[0,1,281,29...|[1.68063617658159...|[0.84298875300409...|       0.0|\n",
            "|     878|    1370| (2938,[41],[1.0])|(12,[1],[1.0])|     0|(2952,[0,1,43,294...|[2.26809744292539...|[0.90620019267324...|       0.0|\n",
            "|     881|    1351| (2938,[10],[1.0])|(12,[2],[1.0])|     0|(2952,[0,1,12,294...|[2.06137915117172...|[0.88709237876844...|       0.0|\n",
            "|     887|    1250| (2938,[42],[1.0])|(12,[0],[1.0])|     1|(2952,[0,1,44,294...|[1.51118430744490...|[0.81923665483114...|       0.0|\n",
            "|     890|    1059|(2938,[218],[1.0])|(12,[1],[1.0])|     1|(2952,[0,1,220,29...|[0.66616178079165...|[0.66064318568193...|       0.0|\n",
            "|     892|    1004|(2938,[116],[1.0])|(12,[0],[1.0])|     0|(2952,[0,1,118,29...|[-2.3052519322790...|[0.09068893128834...|       1.0|\n",
            "|     903|    1116|(2938,[987],[1.0])|(12,[0],[1.0])|     1|(2952,[0,1,989,29...|[1.02699365208499...|[0.73633263759546...|       0.0|\n",
            "|     907|    1256| (2938,[84],[1.0])|(12,[2],[1.0])|     1|(2952,[0,1,86,294...|[1.64817631086151...|[0.83864442127166...|       0.0|\n",
            "|     910|    1773| (2938,[78],[1.0])|(12,[0],[1.0])|     0|(2952,[0,1,80,294...|[4.09548775673881...|[0.98362498085545...|       0.0|\n",
            "|     911|    1074|  (2938,[7],[1.0])|(12,[1],[1.0])|     1|(2952,[0,1,9,2941...|[0.79700744282359...|[0.68933398047747...|       0.0|\n",
            "|     917|     999| (2938,[31],[1.0])|(12,[0],[1.0])|     0|(2952,[0,1,33,294...|[0.32077366327507...|[0.57951278823757...|       0.0|\n",
            "|     925|    1238|(2938,[101],[1.0])|(12,[1],[1.0])|     0|(2952,[0,1,103,29...|[1.05227604350767...|[0.74121172243439...|       0.0|\n",
            "|     927|     786|(2938,[711],[1.0])|(12,[2],[1.0])|     1|(2952,[0,1,713,29...|[-0.3848869320514...|[0.40494877128909...|       1.0|\n",
            "|     938|    1171|(2938,[183],[1.0])|(12,[0],[1.0])|     0|(2952,[0,1,185,29...|[1.05676831956252...|[0.74207248276493...|       0.0|\n",
            "|     942|    1220|(2938,[264],[1.0])|(12,[2],[1.0])|     0|(2952,[0,1,266,29...|[1.07594644880004...|[0.74572612022655...|       0.0|\n",
            "|     953|    1002|  (2938,[0],[1.0])|(12,[0],[1.0])|     1|(2952,[0,1,2,2940...|[0.27379478070273...|[0.56802427984719...|       0.0|\n",
            "|     957|    1106|(2938,[317],[1.0])|(12,[0],[1.0])|     0|(2952,[0,1,319,29...|[0.69725315381803...|[0.66757847990731...|       0.0|\n",
            "|     961|     838|(2938,[151],[1.0])|(12,[2],[1.0])|     0|(2952,[0,1,153,29...|[-0.5310379844337...|[0.37027482719782...|       1.0|\n",
            "|     961|     973| (2938,[31],[1.0])|(12,[0],[1.0])|     0|(2952,[0,1,33,294...|[-0.0109988583552...|[0.49725031313138...|       1.0|\n",
            "+--------+--------+------------------+--------------+------+--------------------+--------------------+--------------------+----------+\n",
            "only showing top 20 rows\n",
            "\n"
          ]
        }
      ]
    },
    {
      "cell_type": "code",
      "source": [
        "from pyspark.ml.evaluation import BinaryClassificationEvaluator\n",
        "\n",
        "# Calling the evaluator\n",
        "res = BinaryClassificationEvaluator(rawPredictionCol='prediction',labelCol='Result')\n",
        "\n",
        "# Evaluating the AUC on results\n",
        "ROC_AUC = res.evaluate(results)"
      ],
      "metadata": {
        "id": "z4cA4m5XMcAK"
      },
      "execution_count": 69,
      "outputs": []
    },
    {
      "cell_type": "code",
      "source": [
        "print(\"Accuracy:\", ROC_AUC)"
      ],
      "metadata": {
        "colab": {
          "base_uri": "https://localhost:8080/"
        },
        "id": "cAX9LwfVNRM4",
        "outputId": "23de6b34-be93-4791-86b7-ff569096dcca"
      },
      "execution_count": 70,
      "outputs": [
        {
          "output_type": "stream",
          "name": "stdout",
          "text": [
            "Accuracy: 0.6557312003264703\n"
          ]
        }
      ]
    }
  ]
}
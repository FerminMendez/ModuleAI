{
  "nbformat": 4,
  "nbformat_minor": 0,
  "metadata": {
    "colab": {
      "provenance": [],
      "authorship_tag": "ABX9TyPo0HOFRpPMaclQLhAZugUq",
      "include_colab_link": true
    },
    "kernelspec": {
      "name": "python3",
      "display_name": "Python 3"
    },
    "language_info": {
      "name": "python"
    }
  },
  "cells": [
    {
      "cell_type": "markdown",
      "metadata": {
        "id": "view-in-github",
        "colab_type": "text"
      },
      "source": [
        "<a href=\"https://colab.research.google.com/github/FerminMendez/ModuleAI/blob/main/Workshop2_Advanced_Statistics.ipynb\" target=\"_parent\"><img src=\"https://colab.research.google.com/assets/colab-badge.svg\" alt=\"Open In Colab\"/></a>"
      ]
    },
    {
      "cell_type": "code",
      "execution_count": null,
      "metadata": {
        "id": "RPV7ElsICxkW"
      },
      "outputs": [],
      "source": []
    },
    {
      "cell_type": "markdown",
      "source": [
        "2. Central limit theorem\n",
        "\n",
        "2.1 The Uniform Probability Distribution\n",
        "\n",
        "Nota: Teóricamente el valor esperado es la media teórica de las variables aleatorias de acuerdoa su distrubución de probabilidad.\n",
        "\n",
        "Por otra parte la varianza de\n",
        "\n",
        "\n"
      ],
      "metadata": {
        "id": "FiCGPqnJDArF"
      }
    },
    {
      "cell_type": "code",
      "source": [
        "pip install symbulate"
      ],
      "metadata": {
        "colab": {
          "base_uri": "https://localhost:8080/"
        },
        "id": "Y43sw1-7EA3E",
        "outputId": "1ea8ca98-0439-4f2d-8a2d-6a91d1d35198"
      },
      "execution_count": null,
      "outputs": [
        {
          "output_type": "stream",
          "name": "stdout",
          "text": [
            "Collecting symbulate\n",
            "  Downloading symbulate-0.5.7-py3-none-any.whl (44 kB)\n",
            "\u001b[?25l     \u001b[90m━━━━━━━━━━━━━━━━━━━━━━━━━━━━━━━━━━━━━━━━\u001b[0m \u001b[32m0.0/44.9 kB\u001b[0m \u001b[31m?\u001b[0m eta \u001b[36m-:--:--\u001b[0m\r\u001b[2K     \u001b[90m━━━━━━━━━━━━━━━━━━━━━━━━━━━━━━━━━━━━━━━━\u001b[0m \u001b[32m44.9/44.9 kB\u001b[0m \u001b[31m1.2 MB/s\u001b[0m eta \u001b[36m0:00:00\u001b[0m\n",
            "\u001b[?25hRequirement already satisfied: numpy in /usr/local/lib/python3.10/dist-packages (from symbulate) (1.23.5)\n",
            "Requirement already satisfied: scipy in /usr/local/lib/python3.10/dist-packages (from symbulate) (1.10.1)\n",
            "Requirement already satisfied: matplotlib in /usr/local/lib/python3.10/dist-packages (from symbulate) (3.7.1)\n",
            "Requirement already satisfied: contourpy>=1.0.1 in /usr/local/lib/python3.10/dist-packages (from matplotlib->symbulate) (1.1.0)\n",
            "Requirement already satisfied: cycler>=0.10 in /usr/local/lib/python3.10/dist-packages (from matplotlib->symbulate) (0.11.0)\n",
            "Requirement already satisfied: fonttools>=4.22.0 in /usr/local/lib/python3.10/dist-packages (from matplotlib->symbulate) (4.42.0)\n",
            "Requirement already satisfied: kiwisolver>=1.0.1 in /usr/local/lib/python3.10/dist-packages (from matplotlib->symbulate) (1.4.4)\n",
            "Requirement already satisfied: packaging>=20.0 in /usr/local/lib/python3.10/dist-packages (from matplotlib->symbulate) (23.1)\n",
            "Requirement already satisfied: pillow>=6.2.0 in /usr/local/lib/python3.10/dist-packages (from matplotlib->symbulate) (9.4.0)\n",
            "Requirement already satisfied: pyparsing>=2.3.1 in /usr/local/lib/python3.10/dist-packages (from matplotlib->symbulate) (3.1.1)\n",
            "Requirement already satisfied: python-dateutil>=2.7 in /usr/local/lib/python3.10/dist-packages (from matplotlib->symbulate) (2.8.2)\n",
            "Requirement already satisfied: six>=1.5 in /usr/local/lib/python3.10/dist-packages (from python-dateutil>=2.7->matplotlib->symbulate) (1.16.0)\n",
            "Installing collected packages: symbulate\n",
            "Successfully installed symbulate-0.5.7\n"
          ]
        }
      ]
    },
    {
      "cell_type": "markdown",
      "source": [
        "2.2 Monte Carlo simulation\n"
      ],
      "metadata": {
        "id": "SH-9hxSOEePi"
      }
    },
    {
      "cell_type": "code",
      "source": [
        "from symbulate import *\n",
        "#'exec(%matplotlib inline)'\n",
        "import matplotlib\n",
        "\n",
        "import matplotlib.pyplot as plt"
      ],
      "metadata": {
        "id": "GJweKbdVEhFD"
      },
      "execution_count": null,
      "outputs": []
    },
    {
      "cell_type": "markdown",
      "source": [
        "Simulación de números aleatorios con una distribución normal"
      ],
      "metadata": {
        "id": "sDAE08bqE9Jg"
      }
    },
    {
      "cell_type": "code",
      "source": [
        "# clear the plot space:\n",
        "plt.clf()\n",
        "# Define the probability type of function as uniform (probability space)\n",
        "P = Uniform(0,40)\n",
        "# Define X as a random variable of the type P (uniform)\n",
        "X =RV(P)\n",
        "# Simulate the values of X and save the in the x array:\n",
        "x=X.sim(10000)\n",
        "x.plot()\n",
        "plt.show()"
      ],
      "metadata": {
        "colab": {
          "base_uri": "https://localhost:8080/",
          "height": 430
        },
        "id": "ooOoFNHmFBGT",
        "outputId": "52234e9a-dbd5-44fb-bed4-e91ee4489068"
      },
      "execution_count": null,
      "outputs": [
        {
          "output_type": "display_data",
          "data": {
            "text/plain": [
              "<Figure size 640x480 with 1 Axes>"
            ],
            "image/png": "[encoded data removed]"
          },
          "metadata": {}
        }
      ]
    },
    {
      "cell_type": "markdown",
      "source": [
        "2.2 Reto\n",
        "Calcular la media y desviación estándar y compararla con las teóricas"
      ],
      "metadata": {
        "id": "3nsWnCxvGWTL"
      }
    },
    {
      "cell_type": "markdown",
      "source": [
        "Nota: La varianza teórica (b-a)^2/12 es resultado de analizar una variable aleatoria con la teoría de la probabilidad y unas derivadas por ahí :)\n",
        "\n",
        "\n"
      ],
      "metadata": {
        "id": "n7i8eevH735J"
      }
    },
    {
      "cell_type": "code",
      "source": [
        "import pandas as pd\n",
        "\n",
        "array = np.array(x)\n",
        "df = pd.DataFrame(x)\n",
        "\n",
        "x_stats=df.describe().T\n",
        "print(type(x_stats))\n",
        "print(x_stats)\n",
        "\n",
        "theoric_mean=(40-0)/2\n",
        "theoric_var=(40-0)**2/12\n",
        "theoric_std=(theoric_var)**(1/2)\n",
        "\n",
        "\n",
        "print(\"Media real: %2f vs media teórica: %2f\"%(x_stats[\"mean\"],theoric_mean))\n",
        "print(\"Desviación estándar real: %2f vs desviación estándar teórica: %2f\"%(x_stats[\"std\"],theoric_std))\n",
        "\n",
        "\n"
      ],
      "metadata": {
        "colab": {
          "base_uri": "https://localhost:8080/"
        },
        "id": "3iVZOx9LGV_Z",
        "outputId": "8e6a24df-f02e-4aa2-ad4c-a1d3cbc30d83"
      },
      "execution_count": null,
      "outputs": [
        {
          "output_type": "stream",
          "name": "stdout",
          "text": [
            "<class 'pandas.core.frame.DataFrame'>\n",
            "     count       mean        std       min       25%       50%        75%  \\\n",
            "0  10000.0  19.909041  11.550835  0.001383  9.969521  19.91508  29.868654   \n",
            "\n",
            "         max  \n",
            "0  39.989481  \n",
            "Media real: 19.909041 vs media teórica: 20.000000\n",
            "Desviación estándar real: 11.550835 vs desviación estándar teórica: 11.547005\n"
          ]
        }
      ]
    },
    {
      "cell_type": "markdown",
      "source": [
        "Hemos encontrado que la media real y la media teórica son casi identicas a las reales."
      ],
      "metadata": {
        "id": "5YwHeOY46RUu"
      }
    },
    {
      "cell_type": "markdown",
      "source": [],
      "metadata": {
        "id": "_bWlbgeWFGxa"
      }
    },
    {
      "cell_type": "code",
      "source": [
        "# Define the probability space as a vector of 25 uniform random numbers:\n",
        "P = Uniform(0,40) ** 25\n",
        "# Define XVECTOR as a vector of random variables with 25 random values\n",
        "XVECTOR =RV(P)\n",
        "# Simulate 10,000 vectors to get a matrix\n",
        "xmatrix=XVECTOR.sim(10000)"
      ],
      "metadata": {
        "id": "ZXVARNFcFQQA"
      },
      "execution_count": null,
      "outputs": []
    },
    {
      "cell_type": "code",
      "source": [
        "xmatrix\n"
      ],
      "metadata": {
        "colab": {
          "base_uri": "https://localhost:8080/",
          "height": 263
        },
        "id": "BcgVAWZzFTn5",
        "outputId": "d98e8677-78c8-4866-d95a-7589b3693438"
      },
      "execution_count": null,
      "outputs": [
        {
          "output_type": "execute_result",
          "data": {
            "text/plain": [
              "Index Result\n",
              "0     (2.180306827433376, 1.6664072943457109, 32.86335101550791, 25.763694551918988, 1.3148931844492173, ..., 19.596198984226252)\n",
              "1     (13.444463893719266, 38.61007752089164, 13.703572543416517, 15.03234858026163, 15.106382615146895, ..., 38.68071315617422)\n",
              "2     (7.260728698169547, 38.83369698456803, 24.41803879670145, 9.452005285697505, 2.2174737367866726, ..., 34.650680761937444)\n",
              "3     (26.292460735295066, 18.485279865186392, 36.68970212970545, 28.411225581277666, 37.15793964053033, ..., 29.01783387422142)\n",
              "4     (14.094316073571985, 38.02256768543534, 32.11814352862713, 16.14353830153022, 1.1252737252456768, ..., 26.70263005787556)\n",
              "5     (18.741803325466964, 9.764889520800736, 28.10778931901801, 4.133231171922294, 7.81354001489551, ..., 25.80221136205516)\n",
              "6     (1.5547159875902716, 22.95861924918369, 22.62421225154947, 30.255342979371463, 18.62167171286172, ..., 5.844348005986575)\n",
              "7     (31.313073673351838, 32.80974841546956, 18.777508225861563, 28.496509258400412, 17.296323727224117, ..., 33.08122800964633)\n",
              "8     (30.5098017373456, 25.646791430226415, 38.04184407758216, 20.43093818499723, 18.916995446381062, ..., 14.13482789302497)\n",
              "....  .........................................................................................................................\n",
              "9999  (25.29403950481597, 34.93951137061753, 24.567063077306337, 1.2545824640346126, 2.0814447912639134, ..., 4.43046840097403)"
            ],
            "text/html": [
              "\n",
              "    <table>\n",
              "      <thead>\n",
              "        <th width=\"10%\">Index</th>\n",
              "        <th width=\"90%\">Result</th>\n",
              "      </thead>\n",
              "      <tbody>\n",
              "        \n",
              "        <tr>\n",
              "          <td>0</td><td>(2.180306827433376, 1.6664072943457109, 32.86335101550791, 25.763694551918988, 1.3148931844492173, ....</td>\n",
              "        </tr>\n",
              "        \n",
              "        <tr>\n",
              "          <td>1</td><td>(13.444463893719266, 38.61007752089164, 13.703572543416517, 15.03234858026163, 15.106382615146895, ....</td>\n",
              "        </tr>\n",
              "        \n",
              "        <tr>\n",
              "          <td>2</td><td>(7.260728698169547, 38.83369698456803, 24.41803879670145, 9.452005285697505, 2.2174737367866726, ......</td>\n",
              "        </tr>\n",
              "        \n",
              "        <tr>\n",
              "          <td>3</td><td>(26.292460735295066, 18.485279865186392, 36.68970212970545, 28.411225581277666, 37.15793964053033, ....</td>\n",
              "        </tr>\n",
              "        \n",
              "        <tr>\n",
              "          <td>4</td><td>(14.094316073571985, 38.02256768543534, 32.11814352862713, 16.14353830153022, 1.1252737252456768, .....</td>\n",
              "        </tr>\n",
              "        \n",
              "        <tr>\n",
              "          <td>5</td><td>(18.741803325466964, 9.764889520800736, 28.10778931901801, 4.133231171922294, 7.81354001489551, ...,...</td>\n",
              "        </tr>\n",
              "        \n",
              "        <tr>\n",
              "          <td>6</td><td>(1.5547159875902716, 22.95861924918369, 22.62421225154947, 30.255342979371463, 18.62167171286172, .....</td>\n",
              "        </tr>\n",
              "        \n",
              "        <tr>\n",
              "          <td>7</td><td>(31.313073673351838, 32.80974841546956, 18.777508225861563, 28.496509258400412, 17.296323727224117, ...</td>\n",
              "        </tr>\n",
              "        \n",
              "        <tr>\n",
              "          <td>8</td><td>(30.5098017373456, 25.646791430226415, 38.04184407758216, 20.43093818499723, 18.916995446381062, ......</td>\n",
              "        </tr>\n",
              "        <tr><td>...</td><td>...</td></tr>\n",
              "        <tr>\n",
              "          <td>9999</td><td>(25.29403950481597, 34.93951137061753, 24.567063077306337, 1.2545824640346126, 2.0814447912639134, ....</td>\n",
              "        </tr>\n",
              "        \n",
              "      </tbody>\n",
              "    </table>\n",
              "        "
            ]
          },
          "metadata": {},
          "execution_count": 7
        }
      ]
    },
    {
      "cell_type": "code",
      "source": [
        "# The 2nd parameter is the mathematical operation applied to each row of the random vector\n",
        "# Simulate 10,000 means of each random vector of 25 uniform distributed numbers:\n",
        "xmean = RV(P,mean).sim(10000)\n",
        "xmean"
      ],
      "metadata": {
        "colab": {
          "base_uri": "https://localhost:8080/",
          "height": 263
        },
        "id": "cPLQX1APFXKR",
        "outputId": "fc0ca0ac-5b55-44e5-a080-d8f7fed6c1d9"
      },
      "execution_count": null,
      "outputs": [
        {
          "output_type": "execute_result",
          "data": {
            "text/plain": [
              "Index Result\n",
              "0     22.480957860262716\n",
              "1     22.394684859559952\n",
              "2     18.127196777945738\n",
              "3     18.554078542432382\n",
              "4     22.307820547796595\n",
              "5     18.528099881796393\n",
              "6     19.74486067887817\n",
              "7     20.784348040549343\n",
              "8     20.105570920952147\n",
              "....  ..................\n",
              "9999  23.393899090620625"
            ],
            "text/html": [
              "\n",
              "    <table>\n",
              "      <thead>\n",
              "        <th width=\"10%\">Index</th>\n",
              "        <th width=\"90%\">Result</th>\n",
              "      </thead>\n",
              "      <tbody>\n",
              "        \n",
              "        <tr>\n",
              "          <td>0</td><td>22.480957860262716</td>\n",
              "        </tr>\n",
              "        \n",
              "        <tr>\n",
              "          <td>1</td><td>22.394684859559952</td>\n",
              "        </tr>\n",
              "        \n",
              "        <tr>\n",
              "          <td>2</td><td>18.127196777945738</td>\n",
              "        </tr>\n",
              "        \n",
              "        <tr>\n",
              "          <td>3</td><td>18.554078542432382</td>\n",
              "        </tr>\n",
              "        \n",
              "        <tr>\n",
              "          <td>4</td><td>22.307820547796595</td>\n",
              "        </tr>\n",
              "        \n",
              "        <tr>\n",
              "          <td>5</td><td>18.528099881796393</td>\n",
              "        </tr>\n",
              "        \n",
              "        <tr>\n",
              "          <td>6</td><td>19.74486067887817</td>\n",
              "        </tr>\n",
              "        \n",
              "        <tr>\n",
              "          <td>7</td><td>20.784348040549343</td>\n",
              "        </tr>\n",
              "        \n",
              "        <tr>\n",
              "          <td>8</td><td>20.105570920952147</td>\n",
              "        </tr>\n",
              "        <tr><td>...</td><td>...</td></tr>\n",
              "        <tr>\n",
              "          <td>9999</td><td>23.393899090620625</td>\n",
              "        </tr>\n",
              "        \n",
              "      </tbody>\n",
              "    </table>\n",
              "        "
            ]
          },
          "metadata": {},
          "execution_count": 8
        }
      ]
    },
    {
      "cell_type": "code",
      "source": [
        "plt.clf()\n",
        "xmean.plot()\n",
        "plt.show()"
      ],
      "metadata": {
        "colab": {
          "base_uri": "https://localhost:8080/",
          "height": 430
        },
        "id": "dotII3XjFaC4",
        "outputId": "7072fe3b-bc81-4074-cd54-bec01ea9ee97"
      },
      "execution_count": null,
      "outputs": [
        {
          "output_type": "display_data",
          "data": {
            "text/plain": [
              "<Figure size 640x480 with 1 Axes>"
            ],
            "image/png": "[encoded data removed]"
          },
          "metadata": {}
        }
      ]
    },
    {
      "cell_type": "markdown",
      "source": [
        "2.3 Calcular la media y desviación estándar de x_mean y con las de x"
      ],
      "metadata": {
        "id": "HGS2PMMxMeWR"
      }
    },
    {
      "cell_type": "code",
      "source": [
        "array = np.array(xmean)\n",
        "df_x_mean = pd.DataFrame(xmean)\n",
        "\n",
        "xmean_stats=df_x_mean.describe().T\n",
        "print(type(xmean_stats))\n",
        "print(xmean_stats)\n",
        "\n",
        "\n",
        "print(\"Media xmean: %2f vs media de x: %2f\"%(xmean_stats[\"mean\"],x_stats[\"mean\"]))\n",
        "print(\"Desviación estándar xmean: %2f vs desviación estándar de x: %2f\"%(xmean_stats[\"std\"],x_stats[\"std\"]))"
      ],
      "metadata": {
        "colab": {
          "base_uri": "https://localhost:8080/"
        },
        "id": "AZFoNMvLMhKk",
        "outputId": "a58f689a-bbb4-41dc-f1dc-d8568af7e6c4"
      },
      "execution_count": null,
      "outputs": [
        {
          "output_type": "stream",
          "name": "stdout",
          "text": [
            "<class 'pandas.core.frame.DataFrame'>\n",
            "     count     mean       std        min        25%        50%       75%  \\\n",
            "0  10000.0  19.9855  2.338925  11.206577  18.428951  20.004221  21.54582   \n",
            "\n",
            "         max  \n",
            "0  29.516486  \n",
            "Media xmean: 19.985500 vs media de x: 19.909041\n",
            "Desviación estándar xmean: 2.338925 vs desviación estándar de x: 11.550835\n"
          ]
        }
      ]
    },
    {
      "cell_type": "markdown",
      "source": [
        "A pesar de que el promedio se mantiene. La desviación estándar se reduce dado el comportamiento normal de los datos. En específico tenemos 2.3 de desviación esperada donde teóricamente con una desviación estándar de 2 tendrémos 95% de los datos. Esto significa que los promedios aleatorios se comportan de manera similar y alrededor de la media teórica. Mejor que los calcúlos aleatorios.\n"
      ],
      "metadata": {
        "id": "cIUlDzXlOWVm"
      }
    },
    {
      "cell_type": "markdown",
      "source": [
        "Simulating numbers with the NORMAL probability distribution\n",
        "\n",
        "2.2.4 Simulando numeros con la distribución de probabilidad normal\n"
      ],
      "metadata": {
        "id": "ddgvfVK4lp5g"
      }
    },
    {
      "cell_type": "code",
      "source": [
        "# clear the plot space:\n",
        "plt.clf()\n",
        "# Define the probability type of function as uniform (probability space)\n",
        "P = Normal(mean=20, sd=10)\n",
        "# Define Y as a random variable of the type P (normal)\n",
        "Y =RV(P)\n",
        "# Simulate 10,000 values of Y and save the in the x array:\n",
        "y=Y.sim(10000)\n",
        "y.plot()\n",
        "plt.show()"
      ],
      "metadata": {
        "colab": {
          "base_uri": "https://localhost:8080/",
          "height": 430
        },
        "id": "R8Old5gekuee",
        "outputId": "aa8e1213-a7b2-4e07-db86-284a9b04a735"
      },
      "execution_count": null,
      "outputs": [
        {
          "output_type": "display_data",
          "data": {
            "text/plain": [
              "<Figure size 640x480 with 1 Axes>"
            ],
            "image/png": "[encoded data removed]"
          },
          "metadata": {}
        }
      ]
    },
    {
      "cell_type": "markdown",
      "source": [],
      "metadata": {
        "id": "bk-p6ph09fV3"
      }
    },
    {
      "cell_type": "markdown",
      "source": [
        "Graficamos ambos histogramas, los de los datos aleatorios y los promedios de muestras aleatorias. La distribución de los promedios tiene más bien un comportamiento normal."
      ],
      "metadata": {
        "id": "FShBq_BP9fcJ"
      }
    },
    {
      "cell_type": "code",
      "source": [
        "plt.clf()\n",
        "xmean.plot()\n",
        "x.plot()\n",
        "plt.show()"
      ],
      "metadata": {
        "colab": {
          "base_uri": "https://localhost:8080/",
          "height": 430
        },
        "id": "4NgmJvzi9bHq",
        "outputId": "41f9aded-2a6c-4a65-bb76-d27800b03acd"
      },
      "execution_count": null,
      "outputs": [
        {
          "output_type": "display_data",
          "data": {
            "text/plain": [
              "<Figure size 640x480 with 1 Axes>"
            ],
            "image/png": "[encoded data removed]"
          },
          "metadata": {}
        }
      ]
    },
    {
      "cell_type": "markdown",
      "source": [
        "2.4\n",
        "Simular los datos con una probabilidad de distribución donde la media es 20 y la desciación estándar de 10"
      ],
      "metadata": {
        "id": "mSO-Dsc194LU"
      }
    },
    {
      "cell_type": "code",
      "source": [
        "# clear the plot space:\n",
        "plt.clf()\n",
        "# Define the probability type of function as uniform (probability space)\n",
        "P = Normal(mean=20, sd=10)\n",
        "# Define Y as a random variable of the type P (normal)\n",
        "Y =RV(P)\n",
        "\n",
        "# Simulate 10,000 values of Y and save the in the x array:\n",
        "y=Y.sim(10000)\n",
        "print(y)"
      ],
      "metadata": {
        "colab": {
          "base_uri": "https://localhost:8080/",
          "height": 243
        },
        "id": "6n_QOgFo-F22",
        "outputId": "bb881d80-46d3-454f-9af9-b1957007ac6b"
      },
      "execution_count": null,
      "outputs": [
        {
          "output_type": "stream",
          "name": "stdout",
          "text": [
            "Index Result\n",
            "0     9.825203019428494\n",
            "1     -4.051386373853152\n",
            "2     34.263113179130066\n",
            "3     37.563224907931556\n",
            "4     27.280190292867502\n",
            "5     7.41426413128103\n",
            "6     16.596559766609683\n",
            "7     25.901749936624174\n",
            "8     24.573516740579258\n",
            "....  .................\n",
            "9999  7.799109883866031\n"
          ]
        },
        {
          "output_type": "display_data",
          "data": {
            "text/plain": [
              "<Figure size 640x480 with 0 Axes>"
            ]
          },
          "metadata": {}
        }
      ]
    },
    {
      "cell_type": "code",
      "source": [
        "y.plot()\n",
        "plt.show()"
      ],
      "metadata": {
        "colab": {
          "base_uri": "https://localhost:8080/",
          "height": 430
        },
        "id": "tkI7iWtK-W4Z",
        "outputId": "9c553552-a551-4d58-92fe-ef9970288c15"
      },
      "execution_count": null,
      "outputs": [
        {
          "output_type": "display_data",
          "data": {
            "text/plain": [
              "<Figure size 640x480 with 1 Axes>"
            ],
            "image/png": "[encoded data removed]"
          },
          "metadata": {}
        }
      ]
    },
    {
      "cell_type": "markdown",
      "source": [
        "Calculemos la media y desviación estándar de los datos:\n"
      ],
      "metadata": {
        "id": "mYZeQ_w4-pwx"
      }
    },
    {
      "cell_type": "code",
      "source": [
        "print(y)\n",
        "y_mean= 0\n",
        "y_std=0\n",
        "print(\"Datos reales a partir de la función con media 20 y std 10)\\n Media real: %2f \\n std real: %2f \"%(y_mean,y_std))\n",
        "\n"
      ],
      "metadata": {
        "colab": {
          "base_uri": "https://localhost:8080/"
        },
        "id": "1Obpg6wS-uZR",
        "outputId": "0a6b8136-3afd-4449-d38b-3aabad643ce1"
      },
      "execution_count": null,
      "outputs": [
        {
          "output_type": "stream",
          "name": "stdout",
          "text": [
            "Index Result\n",
            "0     9.825203019428494\n",
            "1     -4.051386373853152\n",
            "2     34.263113179130066\n",
            "3     37.563224907931556\n",
            "4     27.280190292867502\n",
            "5     7.41426413128103\n",
            "6     16.596559766609683\n",
            "7     25.901749936624174\n",
            "8     24.573516740579258\n",
            "....  .................\n",
            "9999  7.799109883866031\n",
            "Datos reales a partir de la función con media 20 y std 10)\n",
            " Media real: 0.000000 \n",
            " std real: 0.000000 \n"
          ]
        }
      ]
    },
    {
      "cell_type": "markdown",
      "source": [
        "2.2.5\n",
        "\n",
        "Calcular la media y desviación estándar the los datos aleatorios.\n",
        "\n",
        "CALCULATE THE MEAN AND STANDARD DEVIATION OF THIS RANDOM y VARIABLE. HOW SIMILAR OR DIFFERENT ARE THESE VALUES FROM THE MEAN AND STANDARD DEVIATION OF THE THEORETICAL MEAN (20) AND THE THEORETICAL STANDARD DEVIATION (10)?\n",
        "\n"
      ],
      "metadata": {
        "id": "ewN1oVIBl-KJ"
      }
    },
    {
      "cell_type": "markdown",
      "source": [
        "REVISAR ESTO MAS TARDE: COMO CALCULAR LA MEDIA Y STD DE Y????"
      ],
      "metadata": {
        "id": "E6IfKW8nEoeR"
      }
    },
    {
      "cell_type": "code",
      "source": [],
      "metadata": {
        "id": "Lqj2ldpvFawq"
      },
      "execution_count": null,
      "outputs": []
    },
    {
      "cell_type": "code",
      "source": [
        "\n",
        "# Define the probability space P as a vector of 25 normal random numbers:\n",
        "P = Normal(mean=20, sd=10) ** 25\n",
        "# Define RANDOMVECTOR as a vector of 25 random variables in the Probability space P\n",
        "RANDOMVECTOR = RV(P)\n",
        "# Simulate 10,000 random vectors with this distribution and save the in ymatrix:\n",
        "ymatrix=RANDOMVECTOR.sim(10000)"
      ],
      "metadata": {
        "id": "tSitJHOhFMI2"
      },
      "execution_count": null,
      "outputs": []
    },
    {
      "cell_type": "code",
      "source": [
        "ymatrix"
      ],
      "metadata": {
        "colab": {
          "base_uri": "https://localhost:8080/",
          "height": 263
        },
        "id": "DZDk5IAiFSs6",
        "outputId": "d1b6351f-5df5-4601-b2f8-1b424bfc9956"
      },
      "execution_count": null,
      "outputs": [
        {
          "output_type": "execute_result",
          "data": {
            "text/plain": [
              "Index Result\n",
              "0     (12.426141720481136, 15.88698048124856, 25.118910970771267, 37.563954191466564, 20.946121354693435, ..., 16.17213686697029)\n",
              "1     (24.34363596044591, 3.68817392410962, 30.102832775547906, 29.851107921237862, -2.507468267623679, ..., 33.36892256974073)\n",
              "2     (9.060173258469943, 5.780460506770622, 8.85460889880508, 19.066488687800963, 20.873608682275933, ..., 17.40890872009504)\n",
              "3     (31.450619602296563, 29.108208478882666, 13.021029085839512, 21.187878114593104, 27.015913782560265, ..., 19.962857382120713)\n",
              "4     (5.288626051386959, 17.265703411300276, 25.874144301080364, 36.1256245802449, 25.196863645783388, ..., 17.87298042067517)\n",
              "5     (22.788725044563954, -0.9803318774727963, 15.562312150001002, 25.472278143004093, 27.260712285401492, ..., 27.72938133411499)\n",
              "6     (-6.416413886748682, 9.651720251544859, 29.719278425498064, 16.035220946911206, 34.55491912777184, ..., 14.022917929574206)\n",
              "7     (23.42101141099426, 23.996290261941247, 29.680959265234353, 15.762177123989096, 24.502495006101704, ..., 34.00449175918202)\n",
              "8     (16.917831863133777, 9.8999184800201, 34.442238001602036, 24.625284450131893, 22.145901857926177, ..., 16.47123438244475)\n",
              "....  .......................................................................................................................\n",
              "9999  (28.42241976181439, 28.91886914849035, 32.40398770965688, 11.73156992090085, 34.77923026958834, ..., 14.80912002317993)"
            ],
            "text/html": [
              "\n",
              "    <table>\n",
              "      <thead>\n",
              "        <th width=\"10%\">Index</th>\n",
              "        <th width=\"90%\">Result</th>\n",
              "      </thead>\n",
              "      <tbody>\n",
              "        \n",
              "        <tr>\n",
              "          <td>0</td><td>(12.426141720481136, 15.88698048124856, 25.118910970771267, 37.563954191466564, 20.946121354693435, ...</td>\n",
              "        </tr>\n",
              "        \n",
              "        <tr>\n",
              "          <td>1</td><td>(24.34363596044591, 3.68817392410962, 30.102832775547906, 29.851107921237862, -2.507468267623679, .....</td>\n",
              "        </tr>\n",
              "        \n",
              "        <tr>\n",
              "          <td>2</td><td>(9.060173258469943, 5.780460506770622, 8.85460889880508, 19.066488687800963, 20.873608682275933, ......</td>\n",
              "        </tr>\n",
              "        \n",
              "        <tr>\n",
              "          <td>3</td><td>(31.450619602296563, 29.108208478882666, 13.021029085839512, 21.187878114593104, 27.015913782560265,...</td>\n",
              "        </tr>\n",
              "        \n",
              "        <tr>\n",
              "          <td>4</td><td>(5.288626051386959, 17.265703411300276, 25.874144301080364, 36.1256245802449, 25.196863645783388, .....</td>\n",
              "        </tr>\n",
              "        \n",
              "        <tr>\n",
              "          <td>5</td><td>(22.788725044563954, -0.9803318774727963, 15.562312150001002, 25.472278143004093, 27.260712285401492...</td>\n",
              "        </tr>\n",
              "        \n",
              "        <tr>\n",
              "          <td>6</td><td>(-6.416413886748682, 9.651720251544859, 29.719278425498064, 16.035220946911206, 34.55491912777184, ....</td>\n",
              "        </tr>\n",
              "        \n",
              "        <tr>\n",
              "          <td>7</td><td>(23.42101141099426, 23.996290261941247, 29.680959265234353, 15.762177123989096, 24.502495006101704, ...</td>\n",
              "        </tr>\n",
              "        \n",
              "        <tr>\n",
              "          <td>8</td><td>(16.917831863133777, 9.8999184800201, 34.442238001602036, 24.625284450131893, 22.145901857926177, .....</td>\n",
              "        </tr>\n",
              "        <tr><td>...</td><td>...</td></tr>\n",
              "        <tr>\n",
              "          <td>9999</td><td>(28.42241976181439, 28.91886914849035, 32.40398770965688, 11.73156992090085, 34.77923026958834, ...,...</td>\n",
              "        </tr>\n",
              "        \n",
              "      </tbody>\n",
              "    </table>\n",
              "        "
            ]
          },
          "metadata": {},
          "execution_count": 17
        }
      ]
    },
    {
      "cell_type": "code",
      "source": [
        "# The 2nd parameter is the mathematical operation applied to each row of the random vector\n",
        "# Simulate 10,000 means of each random vector of 25 uniform distributed numbers:\n",
        "ymean = RV(P,mean).sim(10000)\n",
        "ymean"
      ],
      "metadata": {
        "colab": {
          "base_uri": "https://localhost:8080/",
          "height": 263
        },
        "id": "z6NjnxS_FfBb",
        "outputId": "4466e247-b57a-4a28-f118-6dac0c535cb8"
      },
      "execution_count": null,
      "outputs": [
        {
          "output_type": "execute_result",
          "data": {
            "text/plain": [
              "Index Result\n",
              "0     19.1560844883773\n",
              "1     22.01103747968658\n",
              "2     23.138675899287474\n",
              "3     18.40758201729904\n",
              "4     20.674203564824158\n",
              "5     21.154253051808773\n",
              "6     16.685883839936817\n",
              "7     20.393137670984007\n",
              "8     17.44631166350438\n",
              "....  ..................\n",
              "9999  18.858784191875035"
            ],
            "text/html": [
              "\n",
              "    <table>\n",
              "      <thead>\n",
              "        <th width=\"10%\">Index</th>\n",
              "        <th width=\"90%\">Result</th>\n",
              "      </thead>\n",
              "      <tbody>\n",
              "        \n",
              "        <tr>\n",
              "          <td>0</td><td>19.1560844883773</td>\n",
              "        </tr>\n",
              "        \n",
              "        <tr>\n",
              "          <td>1</td><td>22.01103747968658</td>\n",
              "        </tr>\n",
              "        \n",
              "        <tr>\n",
              "          <td>2</td><td>23.138675899287474</td>\n",
              "        </tr>\n",
              "        \n",
              "        <tr>\n",
              "          <td>3</td><td>18.40758201729904</td>\n",
              "        </tr>\n",
              "        \n",
              "        <tr>\n",
              "          <td>4</td><td>20.674203564824158</td>\n",
              "        </tr>\n",
              "        \n",
              "        <tr>\n",
              "          <td>5</td><td>21.154253051808773</td>\n",
              "        </tr>\n",
              "        \n",
              "        <tr>\n",
              "          <td>6</td><td>16.685883839936817</td>\n",
              "        </tr>\n",
              "        \n",
              "        <tr>\n",
              "          <td>7</td><td>20.393137670984007</td>\n",
              "        </tr>\n",
              "        \n",
              "        <tr>\n",
              "          <td>8</td><td>17.44631166350438</td>\n",
              "        </tr>\n",
              "        <tr><td>...</td><td>...</td></tr>\n",
              "        <tr>\n",
              "          <td>9999</td><td>18.858784191875035</td>\n",
              "        </tr>\n",
              "        \n",
              "      </tbody>\n",
              "    </table>\n",
              "        "
            ]
          },
          "metadata": {},
          "execution_count": 18
        }
      ]
    },
    {
      "cell_type": "code",
      "source": [
        "plt.clf()\n",
        "ymean.plot()\n",
        "plt.show()"
      ],
      "metadata": {
        "colab": {
          "base_uri": "https://localhost:8080/",
          "height": 430
        },
        "id": "U6bylc-WFi2K",
        "outputId": "e3df6dce-abee-4a5a-8d60-58bf1587bd87"
      },
      "execution_count": null,
      "outputs": [
        {
          "output_type": "display_data",
          "data": {
            "text/plain": [
              "<Figure size 640x480 with 1 Axes>"
            ],
            "image/png": "[encoded data removed]"
          },
          "metadata": {}
        }
      ]
    },
    {
      "cell_type": "code",
      "source": [],
      "metadata": {
        "id": "jfuY6LEMFmYH"
      },
      "execution_count": null,
      "outputs": []
    },
    {
      "cell_type": "markdown",
      "source": [
        "2.2.6"
      ],
      "metadata": {
        "id": "2iGKETTQFmqC"
      }
    },
    {
      "cell_type": "code",
      "source": [
        "plt.clf()\n",
        "ymean.plot()\n",
        "y.plot()\n",
        "plt.show()"
      ],
      "metadata": {
        "colab": {
          "base_uri": "https://localhost:8080/",
          "height": 430
        },
        "id": "VUCfouNOGmoj",
        "outputId": "49b310e9-4210-4bd8-9e05-36599c6ecfe4"
      },
      "execution_count": null,
      "outputs": [
        {
          "output_type": "display_data",
          "data": {
            "text/plain": [
              "<Figure size 640x480 with 1 Axes>"
            ],
            "image/png": "[encoded data removed]"
          },
          "metadata": {}
        }
      ]
    },
    {
      "cell_type": "markdown",
      "source": [
        "Notas: La varianza de una suma es la suma de las varianzas. Pero no sucede lo mismo con las desviaciones estándar\n"
      ],
      "metadata": {
        "id": "5Y-dNersY_1V"
      }
    },
    {
      "cell_type": "markdown",
      "source": [
        "**Resumen e importancia del Teorema del limite central**\n",
        "Nos dice que\n",
        "\n",
        "*   Dada una muestra aleatoria de datos. Si analizamos cualquier combinación lineal\n",
        " (Como promedios ponderados o media aritmetica) los resultados se comportarán de manera normal. Donde los datos se distribuyen en el 68% a +- 1 std, 95% en +-2 std y 99% en +- 3std de la media.\n",
        "*   Tambien tenemos que la std de la combinación lineal respecto a la std de los datos originales se ve reducida en 1/raiz de n, donde n es el número de datos.\n",
        "\n"
      ],
      "metadata": {
        "id": "cR51xBYjknmA"
      }
    },
    {
      "cell_type": "markdown",
      "source": [
        "4- Hypothesis testing\n"
      ],
      "metadata": {
        "id": "pksftpzncPIi"
      }
    },
    {
      "cell_type": "markdown",
      "source": [
        "Se usa para validar las hipótesis en una investigación. Donde se parte a partir de una hipótesis que quieres validar y una hipótesis nula.\n",
        "\n",
        "H0: Null Hypótesis (Diablito-> Opuesta a tu hipotesis) Se da por hecho que la hipótesis nula es opuesta de principio\n",
        "\n",
        "Ha: La hipótesis que quieres demostrar. Se busca reducir la probabilidad de que tu hipótesis esté mal.\n"
      ],
      "metadata": {
        "id": "BDicx7KpcTGB"
      }
    },
    {
      "cell_type": "markdown",
      "source": [
        "Es importante hacer estas pruebas para tener evidencia estadística significativa donde el margen de error comunmente aceptado es del 5%"
      ],
      "metadata": {
        "id": "w2qucpFNmWcd"
      }
    },
    {
      "cell_type": "markdown",
      "source": [
        "*   P value: Margen de error de tu hipotesis\n",
        "*  T value: Número de std que tienes que moverte para llegar al valor de la hipótesis nula.\n",
        "*   Error estandar es la std de la variable de análisis.\n",
        "\n",
        "El factor 1/n solo aplica para promedios.\n",
        "\n",
        "\n",
        "\n"
      ],
      "metadata": {
        "id": "o0Y41Q79hUA2"
      }
    },
    {
      "cell_type": "markdown",
      "source": [
        "4.1 Calcular el retorno de inversión de Microsoft en los últimos años y determiar si combiene invertir en microsoft\n"
      ],
      "metadata": {
        "id": "gXqeoq0nn7T4"
      }
    },
    {
      "cell_type": "code",
      "source": [
        "import yfinance as yf\n",
        "\n",
        "MSFT=yf.download(tickers=\"MSFT\", start=\"2019-01-01\",interval=\"1mo\")\n",
        "MSFT"
      ],
      "metadata": {
        "colab": {
          "base_uri": "https://localhost:8080/",
          "height": 1000
        },
        "id": "_A9vMej0oP_U",
        "outputId": "4a743924-26e6-468e-852d-522586cdc53a"
      },
      "execution_count": null,
      "outputs": [
        {
          "output_type": "stream",
          "name": "stdout",
          "text": [
            "\r[*********************100%%**********************]  1 of 1 completed\n"
          ]
        },
        {
          "output_type": "execute_result",
          "data": {
            "text/plain": [
              "                  Open        High         Low       Close   Adj Close  \\\n",
              "Date                                                                     \n",
              "2019-01-01   99.550003  107.900002   97.199997  104.430000   99.367691   \n",
              "2019-02-01  103.779999  113.239998  102.349998  112.029999  106.599289   \n",
              "2019-03-01  112.889999  120.820000  108.800003  117.940002  112.702065   \n",
              "2019-04-01  118.949997  131.369995  118.099998  130.600006  124.799850   \n",
              "2019-05-01  130.529999  130.649994  123.040001  123.680000  118.187157   \n",
              "2019-06-01  123.849998  138.399994  119.010002  133.960007  128.484482   \n",
              "2019-07-01  136.630005  141.679993  134.669998  136.270004  130.700012   \n",
              "2019-08-01  137.000000  140.940002  130.779999  137.860001  132.225021   \n",
              "2019-09-01  136.610001  142.369995  134.509995  139.029999  133.791245   \n",
              "2019-10-01  139.660004  145.669998  133.220001  143.369995  137.967697   \n",
              "2019-11-01  144.259995  152.500000  142.970001  151.380005  145.675903   \n",
              "2019-12-01  151.809998  159.550003  146.649994  157.699997  152.274139   \n",
              "2020-01-01  158.779999  174.050003  156.509995  170.229996  164.373016   \n",
              "2020-02-01  170.429993  190.699997  152.000000  162.009995  156.435852   \n",
              "2020-03-01  165.309998  175.000000  132.520004  157.710007  152.699753   \n",
              "2020-04-01  153.000000  180.399994  150.360001  179.210007  173.516724   \n",
              "2020-05-01  175.800003  187.509995  173.800003  183.250000  177.428360   \n",
              "2020-06-01  182.539993  204.399994  181.350006  203.509995  197.593521   \n",
              "2020-07-01  203.139999  216.380005  197.509995  205.009995  199.049927   \n",
              "2020-08-01  211.520004  231.149994  203.139999  225.529999  218.973358   \n",
              "2020-09-01  225.509995  232.860001  196.250000  210.330002  204.708908   \n",
              "2020-10-01  213.490005  225.210007  199.619995  202.470001  197.058945   \n",
              "2020-11-01  204.289993  228.119995  200.119995  214.070007  208.348984   \n",
              "2020-12-01  214.509995  227.179993  209.110001  222.419998  217.042542   \n",
              "2021-01-01  222.529999  242.639999  211.940002  231.960007  226.351883   \n",
              "2021-02-01  235.059998  246.130005  227.880005  232.380005  226.761719   \n",
              "2021-03-01  235.899994  241.050003  224.259995  235.770004  230.599670   \n",
              "2021-04-01  238.470001  263.190002  238.050003  252.179993  246.649780   \n",
              "2021-05-01  253.399994  254.350006  238.070007  249.679993  244.204620   \n",
              "2021-06-01  251.229996  271.649994  243.000000  270.899994  265.571075   \n",
              "2021-07-01  269.609985  290.149994  269.600006  284.910004  279.305481   \n",
              "2021-08-01  286.359985  305.839996  283.739990  301.880005  295.941681   \n",
              "2021-09-01  302.869995  305.320007  281.619995  281.920013  276.903442   \n",
              "2021-10-01  282.119995  332.000000  280.250000  331.619995  325.718994   \n",
              "2021-11-01  331.359985  349.670013  326.369995  330.589996  324.707336   \n",
              "2021-12-01  335.130005  344.299988  317.250000  336.320007  330.939728   \n",
              "2022-01-01  335.350006  338.000000  276.049988  310.980011  306.005157   \n",
              "2022-02-01  310.410004  315.119995  271.519989  298.790009  294.010101   \n",
              "2022-03-01  296.399994  315.950012  270.000000  308.309998  304.005127   \n",
              "2022-04-01  309.369995  315.109985  270.000000  277.519989  273.645050   \n",
              "2022-05-01  277.709991  290.880005  246.440002  271.869995  268.073975   \n",
              "2022-06-01  275.200012  277.690002  241.509995  256.829987  253.833771   \n",
              "2022-07-01  256.390015  282.000000  245.940002  280.739990  277.464844   \n",
              "2022-08-01  277.820007  294.179993  260.660004  261.470001  258.419586   \n",
              "2022-09-01  258.869995  267.450012  232.729996  232.899994  230.671524   \n",
              "2022-10-01  235.410004  251.039993  219.130005  232.130005  229.908890   \n",
              "2022-11-01  234.600006  255.330002  213.429993  255.139999  252.698715   \n",
              "2022-12-01  253.869995  263.920013  233.869995  239.820007  238.194702   \n",
              "2023-01-01  243.080002  249.830002  219.350006  247.809998  246.130554   \n",
              "2023-02-01  248.000000  276.760010  245.470001  249.419998  247.729645   \n",
              "2023-03-01  250.759995  289.269989  245.610001  288.299988  287.063354   \n",
              "2023-04-01  286.519989  308.929993  275.369995  307.260010  305.942047   \n",
              "2023-05-01  306.970001  335.940002  303.399994  328.390015  326.981384   \n",
              "2023-06-01  325.929993  351.470001  322.500000  340.540009  339.820526   \n",
              "2023-07-01  339.190002  366.779999  327.000000  335.920013  335.210297   \n",
              "2023-08-01  335.190002  338.540009  316.209991  316.880005  316.880005   \n",
              "\n",
              "                Volume  \n",
              "Date                    \n",
              "2019-01-01   714212800  \n",
              "2019-02-01   469095900  \n",
              "2019-03-01   589095800  \n",
              "2019-04-01   433157700  \n",
              "2019-05-01   547218800  \n",
              "2019-06-01   508324300  \n",
              "2019-07-01   484079900  \n",
              "2019-08-01   584482000  \n",
              "2019-09-01   472544800  \n",
              "2019-10-01   549523400  \n",
              "2019-11-01   392371800  \n",
              "2019-12-01   450303300  \n",
              "2020-01-01   558530000  \n",
              "2020-02-01   887522300  \n",
              "2020-03-01  1612695500  \n",
              "2020-04-01   984705000  \n",
              "2020-05-01   688845000  \n",
              "2020-06-01   764965400  \n",
              "2020-07-01   770190800  \n",
              "2020-08-01   692423900  \n",
              "2020-09-01   768176300  \n",
              "2020-10-01   631618000  \n",
              "2020-11-01   573443000  \n",
              "2020-12-01   594761700  \n",
              "2021-01-01   648076400  \n",
              "2021-02-01   490962200  \n",
              "2021-03-01   724945800  \n",
              "2021-04-01   568661600  \n",
              "2021-05-01   495084900  \n",
              "2021-06-01   508572200  \n",
              "2021-07-01   522672700  \n",
              "2021-08-01   441308900  \n",
              "2021-09-01   502918700  \n",
              "2021-10-01   516515800  \n",
              "2021-11-01   509885200  \n",
              "2021-12-01   625674800  \n",
              "2022-01-01   947531400  \n",
              "2022-02-01   697050600  \n",
              "2022-03-01   734334200  \n",
              "2022-04-01   627343400  \n",
              "2022-05-01   742902000  \n",
              "2022-06-01   621372300  \n",
              "2022-07-01   534891800  \n",
              "2022-08-01   477157600  \n",
              "2022-09-01   575586600  \n",
              "2022-10-01   671225100  \n",
              "2022-11-01   615296000  \n",
              "2022-12-01   591358700  \n",
              "2023-01-01   666168100  \n",
              "2023-02-01   615501000  \n",
              "2023-03-01   747635000  \n",
              "2023-04-01   551497100  \n",
              "2023-05-01   600807200  \n",
              "2023-06-01   547588700  \n",
              "2023-07-01   666764400  \n",
              "2023-08-01   271668700  "
            ],
            "text/html": [
              "\n",
              "  <div id=\"df-aff134f0-facf-4147-a4ad-c79a7755c67c\" class=\"colab-df-container\">\n",
              "    <div>\n",
              "<style scoped>\n",
              "    .dataframe tbody tr th:only-of-type {\n",
              "        vertical-align: middle;\n",
              "    }\n",
              "\n",
              "    .dataframe tbody tr th {\n",
              "        vertical-align: top;\n",
              "    }\n",
              "\n",
              "    .dataframe thead th {\n",
              "        text-align: right;\n",
              "    }\n",
              "</style>\n",
              "<table border=\"1\" class=\"dataframe\">\n",
              "  <thead>\n",
              "    <tr style=\"text-align: right;\">\n",
              "      <th></th>\n",
              "      <th>Open</th>\n",
              "      <th>High</th>\n",
              "      <th>Low</th>\n",
              "      <th>Close</th>\n",
              "      <th>Adj Close</th>\n",
              "      <th>Volume</th>\n",
              "    </tr>\n",
              "    <tr>\n",
              "      <th>Date</th>\n",
              "      <th></th>\n",
              "      <th></th>\n",
              "      <th></th>\n",
              "      <th></th>\n",
              "      <th></th>\n",
              "      <th></th>\n",
              "    </tr>\n",
              "  </thead>\n",
              "  <tbody>\n",
              "    <tr>\n",
              "      <th>2019-01-01</th>\n",
              "      <td>99.550003</td>\n",
              "      <td>107.900002</td>\n",
              "      <td>97.199997</td>\n",
              "      <td>104.430000</td>\n",
              "      <td>99.367691</td>\n",
              "      <td>714212800</td>\n",
              "    </tr>\n",
              "    <tr>\n",
              "      <th>2019-02-01</th>\n",
              "      <td>103.779999</td>\n",
              "      <td>113.239998</td>\n",
              "      <td>102.349998</td>\n",
              "      <td>112.029999</td>\n",
              "      <td>106.599289</td>\n",
              "      <td>469095900</td>\n",
              "    </tr>\n",
              "    <tr>\n",
              "      <th>2019-03-01</th>\n",
              "      <td>112.889999</td>\n",
              "      <td>120.820000</td>\n",
              "      <td>108.800003</td>\n",
              "      <td>117.940002</td>\n",
              "      <td>112.702065</td>\n",
              "      <td>589095800</td>\n",
              "    </tr>\n",
              "    <tr>\n",
              "      <th>2019-04-01</th>\n",
              "      <td>118.949997</td>\n",
              "      <td>131.369995</td>\n",
              "      <td>118.099998</td>\n",
              "      <td>130.600006</td>\n",
              "      <td>124.799850</td>\n",
              "      <td>433157700</td>\n",
              "    </tr>\n",
              "    <tr>\n",
              "      <th>2019-05-01</th>\n",
              "      <td>130.529999</td>\n",
              "      <td>130.649994</td>\n",
              "      <td>123.040001</td>\n",
              "      <td>123.680000</td>\n",
              "      <td>118.187157</td>\n",
              "      <td>547218800</td>\n",
              "    </tr>\n",
              "    <tr>\n",
              "      <th>2019-06-01</th>\n",
              "      <td>123.849998</td>\n",
              "      <td>138.399994</td>\n",
              "      <td>119.010002</td>\n",
              "      <td>133.960007</td>\n",
              "      <td>128.484482</td>\n",
              "      <td>508324300</td>\n",
              "    </tr>\n",
              "    <tr>\n",
              "      <th>2019-07-01</th>\n",
              "      <td>136.630005</td>\n",
              "      <td>141.679993</td>\n",
              "      <td>134.669998</td>\n",
              "      <td>136.270004</td>\n",
              "      <td>130.700012</td>\n",
              "      <td>484079900</td>\n",
              "    </tr>\n",
              "    <tr>\n",
              "      <th>2019-08-01</th>\n",
              "      <td>137.000000</td>\n",
              "      <td>140.940002</td>\n",
              "      <td>130.779999</td>\n",
              "      <td>137.860001</td>\n",
              "      <td>132.225021</td>\n",
              "      <td>584482000</td>\n",
              "    </tr>\n",
              "    <tr>\n",
              "      <th>2019-09-01</th>\n",
              "      <td>136.610001</td>\n",
              "      <td>142.369995</td>\n",
              "      <td>134.509995</td>\n",
              "      <td>139.029999</td>\n",
              "      <td>133.791245</td>\n",
              "      <td>472544800</td>\n",
              "    </tr>\n",
              "    <tr>\n",
              "      <th>2019-10-01</th>\n",
              "      <td>139.660004</td>\n",
              "      <td>145.669998</td>\n",
              "      <td>133.220001</td>\n",
              "      <td>143.369995</td>\n",
              "      <td>137.967697</td>\n",
              "      <td>549523400</td>\n",
              "    </tr>\n",
              "    <tr>\n",
              "      <th>2019-11-01</th>\n",
              "      <td>144.259995</td>\n",
              "      <td>152.500000</td>\n",
              "      <td>142.970001</td>\n",
              "      <td>151.380005</td>\n",
              "      <td>145.675903</td>\n",
              "      <td>392371800</td>\n",
              "    </tr>\n",
              "    <tr>\n",
              "      <th>2019-12-01</th>\n",
              "      <td>151.809998</td>\n",
              "      <td>159.550003</td>\n",
              "      <td>146.649994</td>\n",
              "      <td>157.699997</td>\n",
              "      <td>152.274139</td>\n",
              "      <td>450303300</td>\n",
              "    </tr>\n",
              "    <tr>\n",
              "      <th>2020-01-01</th>\n",
              "      <td>158.779999</td>\n",
              "      <td>174.050003</td>\n",
              "      <td>156.509995</td>\n",
              "      <td>170.229996</td>\n",
              "      <td>164.373016</td>\n",
              "      <td>558530000</td>\n",
              "    </tr>\n",
              "    <tr>\n",
              "      <th>2020-02-01</th>\n",
              "      <td>170.429993</td>\n",
              "      <td>190.699997</td>\n",
              "      <td>152.000000</td>\n",
              "      <td>162.009995</td>\n",
              "      <td>156.435852</td>\n",
              "      <td>887522300</td>\n",
              "    </tr>\n",
              "    <tr>\n",
              "      <th>2020-03-01</th>\n",
              "      <td>165.309998</td>\n",
              "      <td>175.000000</td>\n",
              "      <td>132.520004</td>\n",
              "      <td>157.710007</td>\n",
              "      <td>152.699753</td>\n",
              "      <td>1612695500</td>\n",
              "    </tr>\n",
              "    <tr>\n",
              "      <th>2020-04-01</th>\n",
              "      <td>153.000000</td>\n",
              "      <td>180.399994</td>\n",
              "      <td>150.360001</td>\n",
              "      <td>179.210007</td>\n",
              "      <td>173.516724</td>\n",
              "      <td>984705000</td>\n",
              "    </tr>\n",
              "    <tr>\n",
              "      <th>2020-05-01</th>\n",
              "      <td>175.800003</td>\n",
              "      <td>187.509995</td>\n",
              "      <td>173.800003</td>\n",
              "      <td>183.250000</td>\n",
              "      <td>177.428360</td>\n",
              "      <td>688845000</td>\n",
              "    </tr>\n",
              "    <tr>\n",
              "      <th>2020-06-01</th>\n",
              "      <td>182.539993</td>\n",
              "      <td>204.399994</td>\n",
              "      <td>181.350006</td>\n",
              "      <td>203.509995</td>\n",
              "      <td>197.593521</td>\n",
              "      <td>764965400</td>\n",
              "    </tr>\n",
              "    <tr>\n",
              "      <th>2020-07-01</th>\n",
              "      <td>203.139999</td>\n",
              "      <td>216.380005</td>\n",
              "      <td>197.509995</td>\n",
              "      <td>205.009995</td>\n",
              "      <td>199.049927</td>\n",
              "      <td>770190800</td>\n",
              "    </tr>\n",
              "    <tr>\n",
              "      <th>2020-08-01</th>\n",
              "      <td>211.520004</td>\n",
              "      <td>231.149994</td>\n",
              "      <td>203.139999</td>\n",
              "      <td>225.529999</td>\n",
              "      <td>218.973358</td>\n",
              "      <td>692423900</td>\n",
              "    </tr>\n",
              "    <tr>\n",
              "      <th>2020-09-01</th>\n",
              "      <td>225.509995</td>\n",
              "      <td>232.860001</td>\n",
              "      <td>196.250000</td>\n",
              "      <td>210.330002</td>\n",
              "      <td>204.708908</td>\n",
              "      <td>768176300</td>\n",
              "    </tr>\n",
              "    <tr>\n",
              "      <th>2020-10-01</th>\n",
              "      <td>213.490005</td>\n",
              "      <td>225.210007</td>\n",
              "      <td>199.619995</td>\n",
              "      <td>202.470001</td>\n",
              "      <td>197.058945</td>\n",
              "      <td>631618000</td>\n",
              "    </tr>\n",
              "    <tr>\n",
              "      <th>2020-11-01</th>\n",
              "      <td>204.289993</td>\n",
              "      <td>228.119995</td>\n",
              "      <td>200.119995</td>\n",
              "      <td>214.070007</td>\n",
              "      <td>208.348984</td>\n",
              "      <td>573443000</td>\n",
              "    </tr>\n",
              "    <tr>\n",
              "      <th>2020-12-01</th>\n",
              "      <td>214.509995</td>\n",
              "      <td>227.179993</td>\n",
              "      <td>209.110001</td>\n",
              "      <td>222.419998</td>\n",
              "      <td>217.042542</td>\n",
              "      <td>594761700</td>\n",
              "    </tr>\n",
              "    <tr>\n",
              "      <th>2021-01-01</th>\n",
              "      <td>222.529999</td>\n",
              "      <td>242.639999</td>\n",
              "      <td>211.940002</td>\n",
              "      <td>231.960007</td>\n",
              "      <td>226.351883</td>\n",
              "      <td>648076400</td>\n",
              "    </tr>\n",
              "    <tr>\n",
              "      <th>2021-02-01</th>\n",
              "      <td>235.059998</td>\n",
              "      <td>246.130005</td>\n",
              "      <td>227.880005</td>\n",
              "      <td>232.380005</td>\n",
              "      <td>226.761719</td>\n",
              "      <td>490962200</td>\n",
              "    </tr>\n",
              "    <tr>\n",
              "      <th>2021-03-01</th>\n",
              "      <td>235.899994</td>\n",
              "      <td>241.050003</td>\n",
              "      <td>224.259995</td>\n",
              "      <td>235.770004</td>\n",
              "      <td>230.599670</td>\n",
              "      <td>724945800</td>\n",
              "    </tr>\n",
              "    <tr>\n",
              "      <th>2021-04-01</th>\n",
              "      <td>238.470001</td>\n",
              "      <td>263.190002</td>\n",
              "      <td>238.050003</td>\n",
              "      <td>252.179993</td>\n",
              "      <td>246.649780</td>\n",
              "      <td>568661600</td>\n",
              "    </tr>\n",
              "    <tr>\n",
              "      <th>2021-05-01</th>\n",
              "      <td>253.399994</td>\n",
              "      <td>254.350006</td>\n",
              "      <td>238.070007</td>\n",
              "      <td>249.679993</td>\n",
              "      <td>244.204620</td>\n",
              "      <td>495084900</td>\n",
              "    </tr>\n",
              "    <tr>\n",
              "      <th>2021-06-01</th>\n",
              "      <td>251.229996</td>\n",
              "      <td>271.649994</td>\n",
              "      <td>243.000000</td>\n",
              "      <td>270.899994</td>\n",
              "      <td>265.571075</td>\n",
              "      <td>508572200</td>\n",
              "    </tr>\n",
              "    <tr>\n",
              "      <th>2021-07-01</th>\n",
              "      <td>269.609985</td>\n",
              "      <td>290.149994</td>\n",
              "      <td>269.600006</td>\n",
              "      <td>284.910004</td>\n",
              "      <td>279.305481</td>\n",
              "      <td>522672700</td>\n",
              "    </tr>\n",
              "    <tr>\n",
              "      <th>2021-08-01</th>\n",
              "      <td>286.359985</td>\n",
              "      <td>305.839996</td>\n",
              "      <td>283.739990</td>\n",
              "      <td>301.880005</td>\n",
              "      <td>295.941681</td>\n",
              "      <td>441308900</td>\n",
              "    </tr>\n",
              "    <tr>\n",
              "      <th>2021-09-01</th>\n",
              "      <td>302.869995</td>\n",
              "      <td>305.320007</td>\n",
              "      <td>281.619995</td>\n",
              "      <td>281.920013</td>\n",
              "      <td>276.903442</td>\n",
              "      <td>502918700</td>\n",
              "    </tr>\n",
              "    <tr>\n",
              "      <th>2021-10-01</th>\n",
              "      <td>282.119995</td>\n",
              "      <td>332.000000</td>\n",
              "      <td>280.250000</td>\n",
              "      <td>331.619995</td>\n",
              "      <td>325.718994</td>\n",
              "      <td>516515800</td>\n",
              "    </tr>\n",
              "    <tr>\n",
              "      <th>2021-11-01</th>\n",
              "      <td>331.359985</td>\n",
              "      <td>349.670013</td>\n",
              "      <td>326.369995</td>\n",
              "      <td>330.589996</td>\n",
              "      <td>324.707336</td>\n",
              "      <td>509885200</td>\n",
              "    </tr>\n",
              "    <tr>\n",
              "      <th>2021-12-01</th>\n",
              "      <td>335.130005</td>\n",
              "      <td>344.299988</td>\n",
              "      <td>317.250000</td>\n",
              "      <td>336.320007</td>\n",
              "      <td>330.939728</td>\n",
              "      <td>625674800</td>\n",
              "    </tr>\n",
              "    <tr>\n",
              "      <th>2022-01-01</th>\n",
              "      <td>335.350006</td>\n",
              "      <td>338.000000</td>\n",
              "      <td>276.049988</td>\n",
              "      <td>310.980011</td>\n",
              "      <td>306.005157</td>\n",
              "      <td>947531400</td>\n",
              "    </tr>\n",
              "    <tr>\n",
              "      <th>2022-02-01</th>\n",
              "      <td>310.410004</td>\n",
              "      <td>315.119995</td>\n",
              "      <td>271.519989</td>\n",
              "      <td>298.790009</td>\n",
              "      <td>294.010101</td>\n",
              "      <td>697050600</td>\n",
              "    </tr>\n",
              "    <tr>\n",
              "      <th>2022-03-01</th>\n",
              "      <td>296.399994</td>\n",
              "      <td>315.950012</td>\n",
              "      <td>270.000000</td>\n",
              "      <td>308.309998</td>\n",
              "      <td>304.005127</td>\n",
              "      <td>734334200</td>\n",
              "    </tr>\n",
              "    <tr>\n",
              "      <th>2022-04-01</th>\n",
              "      <td>309.369995</td>\n",
              "      <td>315.109985</td>\n",
              "      <td>270.000000</td>\n",
              "      <td>277.519989</td>\n",
              "      <td>273.645050</td>\n",
              "      <td>627343400</td>\n",
              "    </tr>\n",
              "    <tr>\n",
              "      <th>2022-05-01</th>\n",
              "      <td>277.709991</td>\n",
              "      <td>290.880005</td>\n",
              "      <td>246.440002</td>\n",
              "      <td>271.869995</td>\n",
              "      <td>268.073975</td>\n",
              "      <td>742902000</td>\n",
              "    </tr>\n",
              "    <tr>\n",
              "      <th>2022-06-01</th>\n",
              "      <td>275.200012</td>\n",
              "      <td>277.690002</td>\n",
              "      <td>241.509995</td>\n",
              "      <td>256.829987</td>\n",
              "      <td>253.833771</td>\n",
              "      <td>621372300</td>\n",
              "    </tr>\n",
              "    <tr>\n",
              "      <th>2022-07-01</th>\n",
              "      <td>256.390015</td>\n",
              "      <td>282.000000</td>\n",
              "      <td>245.940002</td>\n",
              "      <td>280.739990</td>\n",
              "      <td>277.464844</td>\n",
              "      <td>534891800</td>\n",
              "    </tr>\n",
              "    <tr>\n",
              "      <th>2022-08-01</th>\n",
              "      <td>277.820007</td>\n",
              "      <td>294.179993</td>\n",
              "      <td>260.660004</td>\n",
              "      <td>261.470001</td>\n",
              "      <td>258.419586</td>\n",
              "      <td>477157600</td>\n",
              "    </tr>\n",
              "    <tr>\n",
              "      <th>2022-09-01</th>\n",
              "      <td>258.869995</td>\n",
              "      <td>267.450012</td>\n",
              "      <td>232.729996</td>\n",
              "      <td>232.899994</td>\n",
              "      <td>230.671524</td>\n",
              "      <td>575586600</td>\n",
              "    </tr>\n",
              "    <tr>\n",
              "      <th>2022-10-01</th>\n",
              "      <td>235.410004</td>\n",
              "      <td>251.039993</td>\n",
              "      <td>219.130005</td>\n",
              "      <td>232.130005</td>\n",
              "      <td>229.908890</td>\n",
              "      <td>671225100</td>\n",
              "    </tr>\n",
              "    <tr>\n",
              "      <th>2022-11-01</th>\n",
              "      <td>234.600006</td>\n",
              "      <td>255.330002</td>\n",
              "      <td>213.429993</td>\n",
              "      <td>255.139999</td>\n",
              "      <td>252.698715</td>\n",
              "      <td>615296000</td>\n",
              "    </tr>\n",
              "    <tr>\n",
              "      <th>2022-12-01</th>\n",
              "      <td>253.869995</td>\n",
              "      <td>263.920013</td>\n",
              "      <td>233.869995</td>\n",
              "      <td>239.820007</td>\n",
              "      <td>238.194702</td>\n",
              "      <td>591358700</td>\n",
              "    </tr>\n",
              "    <tr>\n",
              "      <th>2023-01-01</th>\n",
              "      <td>243.080002</td>\n",
              "      <td>249.830002</td>\n",
              "      <td>219.350006</td>\n",
              "      <td>247.809998</td>\n",
              "      <td>246.130554</td>\n",
              "      <td>666168100</td>\n",
              "    </tr>\n",
              "    <tr>\n",
              "      <th>2023-02-01</th>\n",
              "      <td>248.000000</td>\n",
              "      <td>276.760010</td>\n",
              "      <td>245.470001</td>\n",
              "      <td>249.419998</td>\n",
              "      <td>247.729645</td>\n",
              "      <td>615501000</td>\n",
              "    </tr>\n",
              "    <tr>\n",
              "      <th>2023-03-01</th>\n",
              "      <td>250.759995</td>\n",
              "      <td>289.269989</td>\n",
              "      <td>245.610001</td>\n",
              "      <td>288.299988</td>\n",
              "      <td>287.063354</td>\n",
              "      <td>747635000</td>\n",
              "    </tr>\n",
              "    <tr>\n",
              "      <th>2023-04-01</th>\n",
              "      <td>286.519989</td>\n",
              "      <td>308.929993</td>\n",
              "      <td>275.369995</td>\n",
              "      <td>307.260010</td>\n",
              "      <td>305.942047</td>\n",
              "      <td>551497100</td>\n",
              "    </tr>\n",
              "    <tr>\n",
              "      <th>2023-05-01</th>\n",
              "      <td>306.970001</td>\n",
              "      <td>335.940002</td>\n",
              "      <td>303.399994</td>\n",
              "      <td>328.390015</td>\n",
              "      <td>326.981384</td>\n",
              "      <td>600807200</td>\n",
              "    </tr>\n",
              "    <tr>\n",
              "      <th>2023-06-01</th>\n",
              "      <td>325.929993</td>\n",
              "      <td>351.470001</td>\n",
              "      <td>322.500000</td>\n",
              "      <td>340.540009</td>\n",
              "      <td>339.820526</td>\n",
              "      <td>547588700</td>\n",
              "    </tr>\n",
              "    <tr>\n",
              "      <th>2023-07-01</th>\n",
              "      <td>339.190002</td>\n",
              "      <td>366.779999</td>\n",
              "      <td>327.000000</td>\n",
              "      <td>335.920013</td>\n",
              "      <td>335.210297</td>\n",
              "      <td>666764400</td>\n",
              "    </tr>\n",
              "    <tr>\n",
              "      <th>2023-08-01</th>\n",
              "      <td>335.190002</td>\n",
              "      <td>338.540009</td>\n",
              "      <td>316.209991</td>\n",
              "      <td>316.880005</td>\n",
              "      <td>316.880005</td>\n",
              "      <td>271668700</td>\n",
              "    </tr>\n",
              "  </tbody>\n",
              "</table>\n",
              "</div>\n",
              "    <div class=\"colab-df-buttons\">\n",
              "\n",
              "  <div class=\"colab-df-container\">\n",
              "    <button class=\"colab-df-convert\" onclick=\"convertToInteractive('df-aff134f0-facf-4147-a4ad-c79a7755c67c')\"\n",
              "            title=\"Convert this dataframe to an interactive table.\"\n",
              "            style=\"display:none;\">\n",
              "\n",
              "  <svg xmlns=\"http://www.w3.org/2000/svg\" height=\"24px\" viewBox=\"0 -960 960 960\">\n",
              "    <path d=\"M120-120v-720h720v720H120Zm60-500h600v-160H180v160Zm220 220h160v-160H400v160Zm0 220h160v-160H400v160ZM180-400h160v-160H180v160Zm440 0h160v-160H620v160ZM180-180h160v-160H180v160Zm440 0h160v-160H620v160Z\"/>\n",
              "  </svg>\n",
              "    </button>\n",
              "\n",
              "  <style>\n",
              "    .colab-df-container {\n",
              "      display:flex;\n",
              "      gap: 12px;\n",
              "    }\n",
              "\n",
              "    .colab-df-convert {\n",
              "      background-color: #E8F0FE;\n",
              "      border: none;\n",
              "      border-radius: 50%;\n",
              "      cursor: pointer;\n",
              "      display: none;\n",
              "      fill: #1967D2;\n",
              "      height: 32px;\n",
              "      padding: 0 0 0 0;\n",
              "      width: 32px;\n",
              "    }\n",
              "\n",
              "    .colab-df-convert:hover {\n",
              "      background-color: #E2EBFA;\n",
              "      box-shadow: 0px 1px 2px rgba(60, 64, 67, 0.3), 0px 1px 3px 1px rgba(60, 64, 67, 0.15);\n",
              "      fill: #174EA6;\n",
              "    }\n",
              "\n",
              "    .colab-df-buttons div {\n",
              "      margin-bottom: 4px;\n",
              "    }\n",
              "\n",
              "    [theme=dark] .colab-df-convert {\n",
              "      background-color: #3B4455;\n",
              "      fill: #D2E3FC;\n",
              "    }\n",
              "\n",
              "    [theme=dark] .colab-df-convert:hover {\n",
              "      background-color: #434B5C;\n",
              "      box-shadow: 0px 1px 3px 1px rgba(0, 0, 0, 0.15);\n",
              "      filter: drop-shadow(0px 1px 2px rgba(0, 0, 0, 0.3));\n",
              "      fill: #FFFFFF;\n",
              "    }\n",
              "  </style>\n",
              "\n",
              "    <script>\n",
              "      const buttonEl =\n",
              "        document.querySelector('#df-aff134f0-facf-4147-a4ad-c79a7755c67c button.colab-df-convert');\n",
              "      buttonEl.style.display =\n",
              "        google.colab.kernel.accessAllowed ? 'block' : 'none';\n",
              "\n",
              "      async function convertToInteractive(key) {\n",
              "        const element = document.querySelector('#df-aff134f0-facf-4147-a4ad-c79a7755c67c');\n",
              "        const dataTable =\n",
              "          await google.colab.kernel.invokeFunction('convertToInteractive',\n",
              "                                                    [key], {});\n",
              "        if (!dataTable) return;\n",
              "\n",
              "        const docLinkHtml = 'Like what you see? Visit the ' +\n",
              "          '<a target=\"_blank\" href=https://colab.research.google.com/notebooks/data_table.ipynb>data table notebook</a>'\n",
              "          + ' to learn more about interactive tables.';\n",
              "        element.innerHTML = '';\n",
              "        dataTable['output_type'] = 'display_data';\n",
              "        await google.colab.output.renderOutput(dataTable, element);\n",
              "        const docLink = document.createElement('div');\n",
              "        docLink.innerHTML = docLinkHtml;\n",
              "        element.appendChild(docLink);\n",
              "      }\n",
              "    </script>\n",
              "  </div>\n",
              "\n",
              "\n",
              "<div id=\"df-03902ada-984f-4b09-b1cf-99c45c5ce8d0\">\n",
              "  <button class=\"colab-df-quickchart\" onclick=\"quickchart('df-03902ada-984f-4b09-b1cf-99c45c5ce8d0')\"\n",
              "            title=\"Suggest charts.\"\n",
              "            style=\"display:none;\">\n",
              "\n",
              "<svg xmlns=\"http://www.w3.org/2000/svg\" height=\"24px\"viewBox=\"0 0 24 24\"\n",
              "     width=\"24px\">\n",
              "    <g>\n",
              "        <path d=\"M19 3H5c-1.1 0-2 .9-2 2v14c0 1.1.9 2 2 2h14c1.1 0 2-.9 2-2V5c0-1.1-.9-2-2-2zM9 17H7v-7h2v7zm4 0h-2V7h2v10zm4 0h-2v-4h2v4z\"/>\n",
              "    </g>\n",
              "</svg>\n",
              "  </button>\n",
              "\n",
              "<style>\n",
              "  .colab-df-quickchart {\n",
              "    background-color: #E8F0FE;\n",
              "    border: none;\n",
              "    border-radius: 50%;\n",
              "    cursor: pointer;\n",
              "    display: none;\n",
              "    fill: #1967D2;\n",
              "    height: 32px;\n",
              "    padding: 0 0 0 0;\n",
              "    width: 32px;\n",
              "  }\n",
              "\n",
              "  .colab-df-quickchart:hover {\n",
              "    background-color: #E2EBFA;\n",
              "    box-shadow: 0px 1px 2px rgba(60, 64, 67, 0.3), 0px 1px 3px 1px rgba(60, 64, 67, 0.15);\n",
              "    fill: #174EA6;\n",
              "  }\n",
              "\n",
              "  [theme=dark] .colab-df-quickchart {\n",
              "    background-color: #3B4455;\n",
              "    fill: #D2E3FC;\n",
              "  }\n",
              "\n",
              "  [theme=dark] .colab-df-quickchart:hover {\n",
              "    background-color: #434B5C;\n",
              "    box-shadow: 0px 1px 3px 1px rgba(0, 0, 0, 0.15);\n",
              "    filter: drop-shadow(0px 1px 2px rgba(0, 0, 0, 0.3));\n",
              "    fill: #FFFFFF;\n",
              "  }\n",
              "</style>\n",
              "\n",
              "  <script>\n",
              "    async function quickchart(key) {\n",
              "      const charts = await google.colab.kernel.invokeFunction(\n",
              "          'suggestCharts', [key], {});\n",
              "    }\n",
              "    (() => {\n",
              "      let quickchartButtonEl =\n",
              "        document.querySelector('#df-03902ada-984f-4b09-b1cf-99c45c5ce8d0 button');\n",
              "      quickchartButtonEl.style.display =\n",
              "        google.colab.kernel.accessAllowed ? 'block' : 'none';\n",
              "    })();\n",
              "  </script>\n",
              "</div>\n",
              "    </div>\n",
              "  </div>\n"
            ]
          },
          "metadata": {},
          "execution_count": 21
        }
      ]
    },
    {
      "cell_type": "markdown",
      "source": [],
      "metadata": {
        "id": "DAcUAC1aomaq"
      }
    },
    {
      "cell_type": "code",
      "source": [
        "import matplotlib\n",
        "from matplotlib.pyplot import*\n",
        "plot(MSFT[\"Adj Close\"])\n",
        "show()"
      ],
      "metadata": {
        "colab": {
          "base_uri": "https://localhost:8080/",
          "height": 433
        },
        "id": "ImuUjs83onH4",
        "outputId": "7d27d8fa-6107-4cf7-9d20-4e5a753e40dc"
      },
      "execution_count": null,
      "outputs": [
        {
          "output_type": "display_data",
          "data": {
            "text/plain": [
              "<Figure size 640x480 with 1 Axes>"
            ],
            "image/png": "[encoded data removed]"
          },
          "metadata": {}
        }
      ]
    },
    {
      "cell_type": "code",
      "source": [
        "MSFT.info()"
      ],
      "metadata": {
        "colab": {
          "base_uri": "https://localhost:8080/"
        },
        "id": "nLJNEG65os8t",
        "outputId": "924c6bb8-480a-49c4-b5fa-c9518b3c626c"
      },
      "execution_count": null,
      "outputs": [
        {
          "output_type": "stream",
          "name": "stdout",
          "text": [
            "<class 'pandas.core.frame.DataFrame'>\n",
            "DatetimeIndex: 56 entries, 2019-01-01 to 2023-08-01\n",
            "Data columns (total 6 columns):\n",
            " #   Column     Non-Null Count  Dtype  \n",
            "---  ------     --------------  -----  \n",
            " 0   Open       56 non-null     float64\n",
            " 1   High       56 non-null     float64\n",
            " 2   Low        56 non-null     float64\n",
            " 3   Close      56 non-null     float64\n",
            " 4   Adj Close  56 non-null     float64\n",
            " 5   Volume     56 non-null     int64  \n",
            "dtypes: float64(5), int64(1)\n",
            "memory usage: 3.1 KB\n"
          ]
        }
      ]
    },
    {
      "cell_type": "code",
      "source": [
        "MSFT[\"ccr\"] = np.log(MSFT['Adj Close']) - np.log(MSFT['Adj Close'].shift(1))\n",
        "MSFT[\"ccr\"].describe()\n"
      ],
      "metadata": {
        "colab": {
          "base_uri": "https://localhost:8080/"
        },
        "id": "0qu4kN8Ho1A_",
        "outputId": "9ef572c7-1f16-4202-f74b-775a0bd3f0fc"
      },
      "execution_count": null,
      "outputs": [
        {
          "output_type": "execute_result",
          "data": {
            "text/plain": [
              "count    55.000000\n",
              "mean      0.021085\n",
              "std       0.063262\n",
              "min      -0.113590\n",
              "25%      -0.022371\n",
              "50%       0.022293\n",
              "75%       0.065100\n",
              "max       0.162366\n",
              "Name: ccr, dtype: float64"
            ]
          },
          "metadata": {},
          "execution_count": 42
        }
      ]
    },
    {
      "cell_type": "code",
      "source": [
        "mean_ccr= MSFT[\"ccr\"].dropna().mean()\n",
        "print(\"Media del ccr:\",mean_ccr)\n",
        "n=MSFT[\"ccr\"].count()\n",
        "#Standard error\n",
        "std_crr=MSFT[\"ccr\"].std()\n",
        "se=std_crr/(n)**(1/2)\n",
        "print(\"Desviación estándar:\",std_crr)\n",
        "print(\"Error estándar:\",se)"
      ],
      "metadata": {
        "colab": {
          "base_uri": "https://localhost:8080/"
        },
        "id": "SmGUN9UesDh_",
        "outputId": "3dfd2dc2-62a4-47ba-d757-8b2bd87caeec"
      },
      "execution_count": null,
      "outputs": [
        {
          "output_type": "stream",
          "name": "stdout",
          "text": [
            "Media del ccr: 0.021085384504285445\n",
            "Desviación estándar: 0.06326153048259665\n",
            "Error estándar: 0.008530183030116172\n"
          ]
        }
      ]
    },
    {
      "cell_type": "markdown",
      "source": [
        "En principio tenemos que el ccr se entre cada mes en el 95 % de los casos varía entre perder el %10 de las ganancias o ganar hasta un 14%.\n",
        "Por otra parte el promedio se mantiene en 0.2 y la error estándar es del 0.008. Dado que el promedio es una combianición lineal e valores aleatorios se comporta de manera normal. Gracias al teorema de limite central podemos identificar que los promedios mensuales de Microsoft varian 0.020+-0.16 aproximadamente en el 95% de los casos. Es decir, que con los datos generado durante los últimos 5 años.\n"
      ],
      "metadata": {
        "id": "WamtFGWzspmo"
      }
    },
    {
      "cell_type": "code",
      "source": [
        "R_MSFT= pd.DataFrame(MSFT[[\"ccr\"]])\n",
        "hist=R_MSFT.plot.hist(bins=12,title=\"Histograma de retorno compuesto Microsoft\")\n"
      ],
      "metadata": {
        "colab": {
          "base_uri": "https://localhost:8080/",
          "height": 452
        },
        "id": "SMY8-kTipQJM",
        "outputId": "937731eb-0766-4bda-fbd8-6284075f9f32"
      },
      "execution_count": null,
      "outputs": [
        {
          "output_type": "display_data",
          "data": {
            "text/plain": [
              "<Figure size 640x480 with 1 Axes>"
            ],
            "image/png": "[encoded data removed]"
          },
          "metadata": {}
        }
      ]
    },
    {
      "cell_type": "code",
      "source": [],
      "metadata": {
        "id": "3Do_m727pa4A"
      },
      "execution_count": null,
      "outputs": []
    },
    {
      "cell_type": "markdown",
      "source": [
        "En principio queremos indagar si el promedio de los retornos mensuales son mayores a 0.\n",
        "Ho= El promedio de los retornos de inversión continuos son menores o igualaes a 0 RCC_mean<=0\n",
        "Ha= Ho= El promedio de los retornos de inversión continuos son menores o iguales a 0 RCC_mean>0\n",
        "\n"
      ],
      "metadata": {
        "id": "6oPT_qZessZz"
      }
    },
    {
      "cell_type": "markdown",
      "source": [
        "Ahora bien, el interválo de confianza del 95% es la media más menos dos desviaciones estándar. Es decir que el promedio de las ganancias de Microsoft estará entre 0.004 y 0.036"
      ],
      "metadata": {
        "id": "xaKegdtOg6Zo"
      }
    },
    {
      "cell_type": "code",
      "source": [
        "t=mean_ccr/se\n",
        "t"
      ],
      "metadata": {
        "colab": {
          "base_uri": "https://localhost:8080/"
        },
        "id": "sg8_mubYhU2_",
        "outputId": "d4b67d2a-df81-4af0-9811-4df9eb9a0b80"
      },
      "execution_count": null,
      "outputs": [
        {
          "output_type": "execute_result",
          "data": {
            "text/plain": [
              "2.4718560469151254"
            ]
          },
          "metadata": {},
          "execution_count": 48
        }
      ]
    },
    {
      "cell_type": "code",
      "source": [],
      "metadata": {
        "id": "0Lz4aUB62hrK"
      },
      "execution_count": null,
      "outputs": []
    },
    {
      "cell_type": "markdown",
      "source": [
        "En esta caso no llega a 3, pero supera el dos. Quiere decir que está entre 1% y 5% de que falle.\n"
      ],
      "metadata": {
        "id": "uOv-i1dY2sCZ"
      }
    }
  ]
}
{
  "nbformat": 4,
  "nbformat_minor": 0,
  "metadata": {
    "colab": {
      "provenance": [],
      "authorship_tag": "ABX9TyNSkGkJcwbVkNlpJA/Pf9K/",
      "include_colab_link": true
    },
    "kernelspec": {
      "name": "python3",
      "display_name": "Python 3"
    },
    "language_info": {
      "name": "python"
    }
  },
  "cells": [
    {
      "cell_type": "markdown",
      "metadata": {
        "id": "view-in-github",
        "colab_type": "text"
      },
      "source": [
        "<a href=\"https://colab.research.google.com/github/FerminMendez/ModuleAI/blob/main/Workshop2_Advanced_Statistics.ipynb\" target=\"_parent\"><img src=\"https://colab.research.google.com/assets/colab-badge.svg\" alt=\"Open In Colab\"/></a>"
      ]
    },
    {
      "cell_type": "code",
      "execution_count": 44,
      "metadata": {
        "id": "RPV7ElsICxkW"
      },
      "outputs": [],
      "source": []
    },
    {
      "cell_type": "markdown",
      "source": [
        "2. Central limit theorem\n",
        "\n",
        "2.1 The Uniform Probability Distribution\n",
        "\n",
        "Nota: Teóricamente el valor esperado es la media teórica de las variables aleatorias de acuerdoa su distrubución de probabilidad.\n",
        "\n",
        "Por otra parte la varianza de\n",
        "\n",
        "\n"
      ],
      "metadata": {
        "id": "FiCGPqnJDArF"
      }
    },
    {
      "cell_type": "code",
      "source": [
        "pip install symbulate"
      ],
      "metadata": {
        "colab": {
          "base_uri": "https://localhost:8080/"
        },
        "id": "Y43sw1-7EA3E",
        "outputId": "b4831e5e-6c84-41c0-80bf-a03dd29a273b"
      },
      "execution_count": 45,
      "outputs": [
        {
          "output_type": "stream",
          "name": "stdout",
          "text": [
            "Requirement already satisfied: symbulate in /usr/local/lib/python3.10/dist-packages (0.5.7)\n",
            "Requirement already satisfied: numpy in /usr/local/lib/python3.10/dist-packages (from symbulate) (1.23.5)\n",
            "Requirement already satisfied: scipy in /usr/local/lib/python3.10/dist-packages (from symbulate) (1.10.1)\n",
            "Requirement already satisfied: matplotlib in /usr/local/lib/python3.10/dist-packages (from symbulate) (3.7.1)\n",
            "Requirement already satisfied: contourpy>=1.0.1 in /usr/local/lib/python3.10/dist-packages (from matplotlib->symbulate) (1.1.0)\n",
            "Requirement already satisfied: cycler>=0.10 in /usr/local/lib/python3.10/dist-packages (from matplotlib->symbulate) (0.11.0)\n",
            "Requirement already satisfied: fonttools>=4.22.0 in /usr/local/lib/python3.10/dist-packages (from matplotlib->symbulate) (4.42.0)\n",
            "Requirement already satisfied: kiwisolver>=1.0.1 in /usr/local/lib/python3.10/dist-packages (from matplotlib->symbulate) (1.4.4)\n",
            "Requirement already satisfied: packaging>=20.0 in /usr/local/lib/python3.10/dist-packages (from matplotlib->symbulate) (23.1)\n",
            "Requirement already satisfied: pillow>=6.2.0 in /usr/local/lib/python3.10/dist-packages (from matplotlib->symbulate) (9.4.0)\n",
            "Requirement already satisfied: pyparsing>=2.3.1 in /usr/local/lib/python3.10/dist-packages (from matplotlib->symbulate) (3.1.1)\n",
            "Requirement already satisfied: python-dateutil>=2.7 in /usr/local/lib/python3.10/dist-packages (from matplotlib->symbulate) (2.8.2)\n",
            "Requirement already satisfied: six>=1.5 in /usr/local/lib/python3.10/dist-packages (from python-dateutil>=2.7->matplotlib->symbulate) (1.16.0)\n"
          ]
        }
      ]
    },
    {
      "cell_type": "markdown",
      "source": [
        "2.2 Monte Carlo simulation\n"
      ],
      "metadata": {
        "id": "SH-9hxSOEePi"
      }
    },
    {
      "cell_type": "code",
      "source": [
        "from symbulate import *\n",
        "#'exec(%matplotlib inline)'\n",
        "import matplotlib\n",
        "\n",
        "import matplotlib.pyplot as plt"
      ],
      "metadata": {
        "id": "GJweKbdVEhFD"
      },
      "execution_count": 46,
      "outputs": []
    },
    {
      "cell_type": "markdown",
      "source": [
        "Simulación de números aleatorios con una distribución normal"
      ],
      "metadata": {
        "id": "sDAE08bqE9Jg"
      }
    },
    {
      "cell_type": "code",
      "source": [
        "# clear the plot space:\n",
        "plt.clf()\n",
        "# Define the probability type of function as uniform (probability space)\n",
        "P = Uniform(0,40)\n",
        "# Define X as a random variable of the type P (uniform)\n",
        "X =RV(P)\n",
        "# Simulate the values of X and save the in the x array:\n",
        "x=X.sim(10000)\n",
        "x.plot()\n",
        "plt.show()"
      ],
      "metadata": {
        "colab": {
          "base_uri": "https://localhost:8080/",
          "height": 430
        },
        "id": "ooOoFNHmFBGT",
        "outputId": "bd031979-7e47-41ac-ed34-f1c2d2d12251"
      },
      "execution_count": 47,
      "outputs": [
        {
          "output_type": "display_data",
          "data": {
            "text/plain": [
              "<Figure size 640x480 with 1 Axes>"
            ],
            "image/png": "[encoded data removed]"
          },
          "metadata": {}
        }
      ]
    },
    {
      "cell_type": "markdown",
      "source": [
        "2.2 Reto\n",
        "Calcular la media y desviación estándar y compararla con las teóricas"
      ],
      "metadata": {
        "id": "3nsWnCxvGWTL"
      }
    },
    {
      "cell_type": "markdown",
      "source": [
        "Nota: La varianza teórica (b-a)^2/12 es resultado de analizar una variable aleatoria con la teoría de la probabilidad y unas derivadas por ahí :)\n",
        "\n",
        "\n"
      ],
      "metadata": {
        "id": "n7i8eevH735J"
      }
    },
    {
      "cell_type": "code",
      "source": [
        "import pandas as pd\n",
        "\n",
        "array = np.array(x)\n",
        "df = pd.DataFrame(x)\n",
        "\n",
        "x_stats=df.describe().T\n",
        "print(type(x_stats))\n",
        "print(x_stats)\n",
        "\n",
        "theoric_mean=(40-0)/2\n",
        "theoric_var=(40-0)**2/12\n",
        "theoric_std=(theoric_var)**(1/2)\n",
        "\n",
        "\n",
        "print(\"Media real: %2f vs media teórica: %2f\"%(x_stats[\"mean\"],theoric_mean))\n",
        "print(\"Desviación estándar real: %2f vs desviación estándar teórica: %2f\"%(x_stats[\"std\"],theoric_std))\n",
        "\n",
        "\n"
      ],
      "metadata": {
        "colab": {
          "base_uri": "https://localhost:8080/"
        },
        "id": "3iVZOx9LGV_Z",
        "outputId": "39192e0d-9735-4343-d710-2af930b01d17"
      },
      "execution_count": 48,
      "outputs": [
        {
          "output_type": "stream",
          "name": "stdout",
          "text": [
            "<class 'pandas.core.frame.DataFrame'>\n",
            "     count       mean      std      min       25%       50%        75%  \\\n",
            "0  10000.0  20.062729  11.5328  0.00189  10.04498  20.26498  30.113567   \n",
            "\n",
            "         max  \n",
            "0  39.995412  \n",
            "Media real: 20.062729 vs media teórica: 20.000000\n",
            "Desviación estándar real: 11.532800 vs desviación estándar teórica: 11.547005\n"
          ]
        }
      ]
    },
    {
      "cell_type": "markdown",
      "source": [
        "Hemos encontrado que la media real y la media teórica son casi identicas a las reales."
      ],
      "metadata": {
        "id": "5YwHeOY46RUu"
      }
    },
    {
      "cell_type": "markdown",
      "source": [],
      "metadata": {
        "id": "_bWlbgeWFGxa"
      }
    },
    {
      "cell_type": "code",
      "source": [
        "# Define the probability space as a vector of 25 uniform random numbers:\n",
        "P = Uniform(0,40) ** 25\n",
        "# Define XVECTOR as a vector of random variables with 25 random values\n",
        "XVECTOR =RV(P)\n",
        "# Simulate 10,000 vectors to get a matrix\n",
        "xmatrix=XVECTOR.sim(10000)"
      ],
      "metadata": {
        "id": "ZXVARNFcFQQA"
      },
      "execution_count": 49,
      "outputs": []
    },
    {
      "cell_type": "code",
      "source": [
        "xmatrix\n"
      ],
      "metadata": {
        "colab": {
          "base_uri": "https://localhost:8080/",
          "height": 263
        },
        "id": "BcgVAWZzFTn5",
        "outputId": "1e9b122d-e321-4d8b-ce48-b60d9f672f25"
      },
      "execution_count": 50,
      "outputs": [
        {
          "output_type": "execute_result",
          "data": {
            "text/plain": [
              "Index Result\n",
              "0     (5.607148168241367, 10.25641514470033, 39.22996429095081, 6.674756703634861, 11.869234113840768, ..., 20.563046617154463)\n",
              "1     (36.431928498303485, 5.752821548170397, 38.049604477043545, 10.423476561559056, 26.148466511321267, ..., 9.924502895878815)\n",
              "2     (29.247860560944446, 8.6484729176412, 31.949580164624336, 20.237120084304323, 1.992050972408732, ..., 34.128752431600546)\n",
              "3     (3.6696406581016827, 26.75584566622919, 13.222992416000778, 27.743538582842895, 26.756787710511215, ..., 12.206632772304618)\n",
              "4     (19.59398535846892, 4.531473017903442, 15.391622060438852, 33.05177444989225, 10.918864565381647, ..., 7.446614620240295)\n",
              "5     (28.93579628807656, 8.728889432013087, 27.137607732434432, 3.4473499864407575, 36.318790959085, ..., 19.09356379650491)\n",
              "6     (38.41357994183681, 10.226064318180988, 2.9041044763667623, 13.68743946021044, 12.641803924641387, ..., 4.616200004364139)\n",
              "7     (27.299707872948726, 4.948957922324908, 22.689176638741742, 25.02204715022332, 32.445497293808316, ..., 0.10848680034587055)\n",
              "8     (26.13617044578127, 14.250150305900098, 18.990988828814647, 2.376020610246292, 13.189313369447673, ..., 1.3642716390352883)\n",
              "....  .............................................................................................................................\n",
              "9999  (11.570047133354834, 4.380726827516401, 10.365911537781036, 14.080170753440285, 0.33856912569115494, ..., 21.342100974548487)"
            ],
            "text/html": [
              "\n",
              "    <table>\n",
              "      <thead>\n",
              "        <th width=\"10%\">Index</th>\n",
              "        <th width=\"90%\">Result</th>\n",
              "      </thead>\n",
              "      <tbody>\n",
              "        \n",
              "        <tr>\n",
              "          <td>0</td><td>(5.607148168241367, 10.25641514470033, 39.22996429095081, 6.674756703634861, 11.869234113840768, ......</td>\n",
              "        </tr>\n",
              "        \n",
              "        <tr>\n",
              "          <td>1</td><td>(36.431928498303485, 5.752821548170397, 38.049604477043545, 10.423476561559056, 26.148466511321267, ...</td>\n",
              "        </tr>\n",
              "        \n",
              "        <tr>\n",
              "          <td>2</td><td>(29.247860560944446, 8.6484729176412, 31.949580164624336, 20.237120084304323, 1.992050972408732, ......</td>\n",
              "        </tr>\n",
              "        \n",
              "        <tr>\n",
              "          <td>3</td><td>(3.6696406581016827, 26.75584566622919, 13.222992416000778, 27.743538582842895, 26.756787710511215, ...</td>\n",
              "        </tr>\n",
              "        \n",
              "        <tr>\n",
              "          <td>4</td><td>(19.59398535846892, 4.531473017903442, 15.391622060438852, 33.05177444989225, 10.918864565381647, .....</td>\n",
              "        </tr>\n",
              "        \n",
              "        <tr>\n",
              "          <td>5</td><td>(28.93579628807656, 8.728889432013087, 27.137607732434432, 3.4473499864407575, 36.318790959085, ...,...</td>\n",
              "        </tr>\n",
              "        \n",
              "        <tr>\n",
              "          <td>6</td><td>(38.41357994183681, 10.226064318180988, 2.9041044763667623, 13.68743946021044, 12.641803924641387, ....</td>\n",
              "        </tr>\n",
              "        \n",
              "        <tr>\n",
              "          <td>7</td><td>(27.299707872948726, 4.948957922324908, 22.689176638741742, 25.02204715022332, 32.445497293808316, ....</td>\n",
              "        </tr>\n",
              "        \n",
              "        <tr>\n",
              "          <td>8</td><td>(26.13617044578127, 14.250150305900098, 18.990988828814647, 2.376020610246292, 13.189313369447673, ....</td>\n",
              "        </tr>\n",
              "        <tr><td>...</td><td>...</td></tr>\n",
              "        <tr>\n",
              "          <td>9999</td><td>(11.570047133354834, 4.380726827516401, 10.365911537781036, 14.080170753440285, 0.33856912569115494,...</td>\n",
              "        </tr>\n",
              "        \n",
              "      </tbody>\n",
              "    </table>\n",
              "        "
            ]
          },
          "metadata": {},
          "execution_count": 50
        }
      ]
    },
    {
      "cell_type": "code",
      "source": [
        "# The 2nd parameter is the mathematical operation applied to each row of the random vector\n",
        "# Simulate 10,000 means of each random vector of 25 uniform distributed numbers:\n",
        "xmean = RV(P,mean).sim(10000)\n",
        "xmean"
      ],
      "metadata": {
        "colab": {
          "base_uri": "https://localhost:8080/",
          "height": 263
        },
        "id": "cPLQX1APFXKR",
        "outputId": "b9f762a5-299e-4ced-d0a2-d10249098d60"
      },
      "execution_count": 51,
      "outputs": [
        {
          "output_type": "execute_result",
          "data": {
            "text/plain": [
              "Index Result\n",
              "0     18.364941996343653\n",
              "1     19.38483523979681\n",
              "2     14.612314182691804\n",
              "3     19.205651521355218\n",
              "4     18.85554365608467\n",
              "5     17.70617780383135\n",
              "6     19.072263925445487\n",
              "7     17.941521382081284\n",
              "8     23.332283788991678\n",
              "....  ..................\n",
              "9999  21.851054498250768"
            ],
            "text/html": [
              "\n",
              "    <table>\n",
              "      <thead>\n",
              "        <th width=\"10%\">Index</th>\n",
              "        <th width=\"90%\">Result</th>\n",
              "      </thead>\n",
              "      <tbody>\n",
              "        \n",
              "        <tr>\n",
              "          <td>0</td><td>18.364941996343653</td>\n",
              "        </tr>\n",
              "        \n",
              "        <tr>\n",
              "          <td>1</td><td>19.38483523979681</td>\n",
              "        </tr>\n",
              "        \n",
              "        <tr>\n",
              "          <td>2</td><td>14.612314182691804</td>\n",
              "        </tr>\n",
              "        \n",
              "        <tr>\n",
              "          <td>3</td><td>19.205651521355218</td>\n",
              "        </tr>\n",
              "        \n",
              "        <tr>\n",
              "          <td>4</td><td>18.85554365608467</td>\n",
              "        </tr>\n",
              "        \n",
              "        <tr>\n",
              "          <td>5</td><td>17.70617780383135</td>\n",
              "        </tr>\n",
              "        \n",
              "        <tr>\n",
              "          <td>6</td><td>19.072263925445487</td>\n",
              "        </tr>\n",
              "        \n",
              "        <tr>\n",
              "          <td>7</td><td>17.941521382081284</td>\n",
              "        </tr>\n",
              "        \n",
              "        <tr>\n",
              "          <td>8</td><td>23.332283788991678</td>\n",
              "        </tr>\n",
              "        <tr><td>...</td><td>...</td></tr>\n",
              "        <tr>\n",
              "          <td>9999</td><td>21.851054498250768</td>\n",
              "        </tr>\n",
              "        \n",
              "      </tbody>\n",
              "    </table>\n",
              "        "
            ]
          },
          "metadata": {},
          "execution_count": 51
        }
      ]
    },
    {
      "cell_type": "code",
      "source": [
        "plt.clf()\n",
        "xmean.plot()\n",
        "plt.show()"
      ],
      "metadata": {
        "colab": {
          "base_uri": "https://localhost:8080/",
          "height": 430
        },
        "id": "dotII3XjFaC4",
        "outputId": "1d7a7880-15ec-489c-e904-19920d9f60bc"
      },
      "execution_count": 52,
      "outputs": [
        {
          "output_type": "display_data",
          "data": {
            "text/plain": [
              "<Figure size 640x480 with 1 Axes>"
            ],
            "image/png": "[encoded data removed]"
          },
          "metadata": {}
        }
      ]
    },
    {
      "cell_type": "markdown",
      "source": [
        "2.3 Calcular la media y desviación estándar de x_mean y con las de x"
      ],
      "metadata": {
        "id": "HGS2PMMxMeWR"
      }
    },
    {
      "cell_type": "code",
      "source": [
        "array = np.array(xmean)\n",
        "df_x_mean = pd.DataFrame(xmean)\n",
        "\n",
        "xmean_stats=df_x_mean.describe().T\n",
        "print(type(xmean_stats))\n",
        "print(xmean_stats)\n",
        "\n",
        "\n",
        "print(\"Media xmean: %2f vs media de x: %2f\"%(xmean_stats[\"mean\"],x_stats[\"mean\"]))\n",
        "print(\"Desviación estándar xmean: %2f vs desviación estándar de x: %2f\"%(xmean_stats[\"std\"],x_stats[\"std\"]))"
      ],
      "metadata": {
        "colab": {
          "base_uri": "https://localhost:8080/"
        },
        "id": "AZFoNMvLMhKk",
        "outputId": "7cdb2db4-2d97-44ba-b2a1-30fd486032db"
      },
      "execution_count": 53,
      "outputs": [
        {
          "output_type": "stream",
          "name": "stdout",
          "text": [
            "<class 'pandas.core.frame.DataFrame'>\n",
            "     count       mean       std        min       25%        50%        75%  \\\n",
            "0  10000.0  19.987431  2.300491  10.794262  18.40758  19.973344  21.528269   \n",
            "\n",
            "         max  \n",
            "0  28.330819  \n",
            "Media xmean: 19.987431 vs media de x: 20.062729\n",
            "Desviación estándar xmean: 2.300491 vs desviación estándar de x: 11.532800\n"
          ]
        }
      ]
    },
    {
      "cell_type": "markdown",
      "source": [
        "A pesar de que el promedio se mantiene. La desviación estándar se reduce dado el comportamiento normal de los datos. En específico tenemos 2.3 de desviación esperada donde teóricamente con una desviación estándar de 2 tendrémos 95% de los datos. Esto significa que los promedios aleatorios se comportan de manera similar y alrededor de la media teórica. Mejor que los calcúlos aleatorios.\n"
      ],
      "metadata": {
        "id": "cIUlDzXlOWVm"
      }
    },
    {
      "cell_type": "markdown",
      "source": [
        "Simulating numbers with the NORMAL probability distribution\n",
        "\n",
        "2.2.4 Simulando numeros con la distribución de probabilidad normal\n"
      ],
      "metadata": {
        "id": "ddgvfVK4lp5g"
      }
    },
    {
      "cell_type": "code",
      "source": [
        "# clear the plot space:\n",
        "plt.clf()\n",
        "# Define the probability type of function as uniform (probability space)\n",
        "P = Normal(mean=20, sd=10)\n",
        "# Define Y as a random variable of the type P (normal)\n",
        "Y =RV(P)\n",
        "# Simulate 10,000 values of Y and save the in the x array:\n",
        "y=Y.sim(10000)\n",
        "y.plot()\n",
        "plt.show()"
      ],
      "metadata": {
        "colab": {
          "base_uri": "https://localhost:8080/",
          "height": 430
        },
        "id": "R8Old5gekuee",
        "outputId": "3fab4a65-e5c0-4acc-e93f-979595074b31"
      },
      "execution_count": 54,
      "outputs": [
        {
          "output_type": "display_data",
          "data": {
            "text/plain": [
              "<Figure size 640x480 with 1 Axes>"
            ],
            "image/png": "[encoded data removed]"
          },
          "metadata": {}
        }
      ]
    },
    {
      "cell_type": "markdown",
      "source": [],
      "metadata": {
        "id": "bk-p6ph09fV3"
      }
    },
    {
      "cell_type": "markdown",
      "source": [
        "Graficamos ambos histogramas, los de los datos aleatorios y los promedios de muestras aleatorias. La distribución de los promedios tiene más bien un comportamiento normal."
      ],
      "metadata": {
        "id": "FShBq_BP9fcJ"
      }
    },
    {
      "cell_type": "code",
      "source": [
        "plt.clf()\n",
        "xmean.plot()\n",
        "x.plot()\n",
        "plt.show()"
      ],
      "metadata": {
        "colab": {
          "base_uri": "https://localhost:8080/",
          "height": 430
        },
        "id": "4NgmJvzi9bHq",
        "outputId": "a7a72eff-51ee-40c3-c411-e6226461a0f6"
      },
      "execution_count": 55,
      "outputs": [
        {
          "output_type": "display_data",
          "data": {
            "text/plain": [
              "<Figure size 640x480 with 1 Axes>"
            ],
            "image/png": "[encoded data removed]"
          },
          "metadata": {}
        }
      ]
    },
    {
      "cell_type": "markdown",
      "source": [
        "2.4\n",
        "Simular los datos con una probabilidad de distribución donde la media es 20 y la desciación estándar de 10"
      ],
      "metadata": {
        "id": "mSO-Dsc194LU"
      }
    },
    {
      "cell_type": "code",
      "source": [
        "# clear the plot space:\n",
        "plt.clf()\n",
        "# Define the probability type of function as uniform (probability space)\n",
        "P = Normal(mean=20, sd=10)\n",
        "# Define Y as a random variable of the type P (normal)\n",
        "Y =RV(P)\n",
        "\n",
        "# Simulate 10,000 values of Y and save the in the x array:\n",
        "y=Y.sim(10000)\n",
        "print(y)"
      ],
      "metadata": {
        "colab": {
          "base_uri": "https://localhost:8080/",
          "height": 243
        },
        "id": "6n_QOgFo-F22",
        "outputId": "a3b6cc0a-6ccf-42bf-ec3b-454325de39cb"
      },
      "execution_count": 56,
      "outputs": [
        {
          "output_type": "stream",
          "name": "stdout",
          "text": [
            "Index Result\n",
            "0     4.956076914315215\n",
            "1     20.042101977819105\n",
            "2     32.73465035727666\n",
            "3     9.654289139852912\n",
            "4     11.663199891002687\n",
            "5     14.574209043032557\n",
            "6     30.853299305431403\n",
            "7     33.46667059339521\n",
            "8     19.91624460392859\n",
            "....  ..................\n",
            "9999  28.778243928260363\n"
          ]
        },
        {
          "output_type": "display_data",
          "data": {
            "text/plain": [
              "<Figure size 640x480 with 0 Axes>"
            ]
          },
          "metadata": {}
        }
      ]
    },
    {
      "cell_type": "code",
      "source": [
        "y.plot()\n",
        "plt.show()"
      ],
      "metadata": {
        "colab": {
          "base_uri": "https://localhost:8080/",
          "height": 430
        },
        "id": "tkI7iWtK-W4Z",
        "outputId": "19a99e2e-f174-4dfd-d5d8-20113801d852"
      },
      "execution_count": 57,
      "outputs": [
        {
          "output_type": "display_data",
          "data": {
            "text/plain": [
              "<Figure size 640x480 with 1 Axes>"
            ],
            "image/png": "[encoded data removed]"
          },
          "metadata": {}
        }
      ]
    },
    {
      "cell_type": "markdown",
      "source": [
        "Calculemos la media y desviación estándar de los datos:\n"
      ],
      "metadata": {
        "id": "mYZeQ_w4-pwx"
      }
    },
    {
      "cell_type": "code",
      "source": [
        "print(y)\n",
        "y_mean= 0\n",
        "y_std=0\n",
        "print(\"Datos reales a partir de la función con media 20 y std 10)\\n Media real: %2f \\n std real: %2f \"%(y_mean,y_std))\n",
        "\n"
      ],
      "metadata": {
        "colab": {
          "base_uri": "https://localhost:8080/"
        },
        "id": "1Obpg6wS-uZR",
        "outputId": "6f543e9f-7866-4d35-aa5d-d2a0d8289d0c"
      },
      "execution_count": 58,
      "outputs": [
        {
          "output_type": "stream",
          "name": "stdout",
          "text": [
            "Index Result\n",
            "0     4.956076914315215\n",
            "1     20.042101977819105\n",
            "2     32.73465035727666\n",
            "3     9.654289139852912\n",
            "4     11.663199891002687\n",
            "5     14.574209043032557\n",
            "6     30.853299305431403\n",
            "7     33.46667059339521\n",
            "8     19.91624460392859\n",
            "....  ..................\n",
            "9999  28.778243928260363\n",
            "Datos reales a partir de la función con media 20 y std 10)\n",
            " Media real: 0.000000 \n",
            " std real: 0.000000 \n"
          ]
        }
      ]
    },
    {
      "cell_type": "markdown",
      "source": [
        "2.2.5\n",
        "\n",
        "Calcular la media y desviación estándar the los datos aleatorios.\n",
        "\n",
        "CALCULATE THE MEAN AND STANDARD DEVIATION OF THIS RANDOM y VARIABLE. HOW SIMILAR OR DIFFERENT ARE THESE VALUES FROM THE MEAN AND STANDARD DEVIATION OF THE THEORETICAL MEAN (20) AND THE THEORETICAL STANDARD DEVIATION (10)?\n",
        "\n"
      ],
      "metadata": {
        "id": "ewN1oVIBl-KJ"
      }
    },
    {
      "cell_type": "markdown",
      "source": [
        "REVISAR ESTO MAS TARDE: COMO CALCULAR LA MEDIA Y STD DE Y????"
      ],
      "metadata": {
        "id": "E6IfKW8nEoeR"
      }
    },
    {
      "cell_type": "code",
      "source": [],
      "metadata": {
        "id": "Lqj2ldpvFawq"
      },
      "execution_count": 58,
      "outputs": []
    },
    {
      "cell_type": "code",
      "source": [
        "\n",
        "# Define the probability space P as a vector of 25 normal random numbers:\n",
        "P = Normal(mean=20, sd=10) ** 25\n",
        "# Define RANDOMVECTOR as a vector of 25 random variables in the Probability space P\n",
        "RANDOMVECTOR = RV(P)\n",
        "# Simulate 10,000 random vectors with this distribution and save the in ymatrix:\n",
        "ymatrix=RANDOMVECTOR.sim(10000)"
      ],
      "metadata": {
        "id": "tSitJHOhFMI2"
      },
      "execution_count": 59,
      "outputs": []
    },
    {
      "cell_type": "code",
      "source": [
        "ymatrix"
      ],
      "metadata": {
        "colab": {
          "base_uri": "https://localhost:8080/",
          "height": 263
        },
        "id": "DZDk5IAiFSs6",
        "outputId": "a9b0bfc8-5d40-40ad-cc6a-9a985e862e56"
      },
      "execution_count": 60,
      "outputs": [
        {
          "output_type": "execute_result",
          "data": {
            "text/plain": [
              "Index Result\n",
              "0     (13.692384074293283, 30.415576990220536, 10.79089081054703, 20.6305177907455, 31.939114611602776, ..., 15.587070392055807)\n",
              "1     (13.90468949527955, 17.51971387234589, 9.051794111601417, 33.65326682421143, 21.527968710838017, ..., 11.674842284224441)\n",
              "2     (23.515998909171273, 9.627804288482292, 26.405062102823948, 15.903225743901768, -2.8120771880031405, ..., 28.129255884895127)\n",
              "3     (8.209628252918568, 31.430389592774652, 22.623020719865124, 32.246998719633275, 24.8373955904528, ..., 33.79670603781979)\n",
              "4     (23.95260365741865, 33.44572886616136, 26.071926016179702, 14.048311012909359, 8.659019798867401, ..., 3.8510784303367203)\n",
              "5     (7.823795498293629, 38.97814847268803, 17.578005989255843, 31.212917591251692, 16.713340930128563, ..., 14.855565822005357)\n",
              "6     (29.534645514646762, 34.31644020152319, 8.379223075281427, 23.01264511357274, 17.417445126541235, ..., 22.88221479548134)\n",
              "7     (12.00020343812431, 15.36269201497128, 11.861958724533658, 12.985987946859591, 28.15983419720618, ..., 18.928952537762434)\n",
              "8     (5.818500277086313, 21.199340058025314, 5.096550537967591, 20.865376735944093, 0.36508572049485366, ..., 28.52023327757084)\n",
              "....  ..........................................................................................................................\n",
              "9999  (19.076985319550975, 21.828264784476797, 8.108167581671047, 18.94868386909857, 17.821064582970536, ..., 34.20380835433619)"
            ],
            "text/html": [
              "\n",
              "    <table>\n",
              "      <thead>\n",
              "        <th width=\"10%\">Index</th>\n",
              "        <th width=\"90%\">Result</th>\n",
              "      </thead>\n",
              "      <tbody>\n",
              "        \n",
              "        <tr>\n",
              "          <td>0</td><td>(13.692384074293283, 30.415576990220536, 10.79089081054703, 20.6305177907455, 31.939114611602776, .....</td>\n",
              "        </tr>\n",
              "        \n",
              "        <tr>\n",
              "          <td>1</td><td>(13.90468949527955, 17.51971387234589, 9.051794111601417, 33.65326682421143, 21.527968710838017, ......</td>\n",
              "        </tr>\n",
              "        \n",
              "        <tr>\n",
              "          <td>2</td><td>(23.515998909171273, 9.627804288482292, 26.405062102823948, 15.903225743901768, -2.8120771880031405,...</td>\n",
              "        </tr>\n",
              "        \n",
              "        <tr>\n",
              "          <td>3</td><td>(8.209628252918568, 31.430389592774652, 22.623020719865124, 32.246998719633275, 24.8373955904528, .....</td>\n",
              "        </tr>\n",
              "        \n",
              "        <tr>\n",
              "          <td>4</td><td>(23.95260365741865, 33.44572886616136, 26.071926016179702, 14.048311012909359, 8.659019798867401, .....</td>\n",
              "        </tr>\n",
              "        \n",
              "        <tr>\n",
              "          <td>5</td><td>(7.823795498293629, 38.97814847268803, 17.578005989255843, 31.212917591251692, 16.713340930128563, ....</td>\n",
              "        </tr>\n",
              "        \n",
              "        <tr>\n",
              "          <td>6</td><td>(29.534645514646762, 34.31644020152319, 8.379223075281427, 23.01264511357274, 17.417445126541235, .....</td>\n",
              "        </tr>\n",
              "        \n",
              "        <tr>\n",
              "          <td>7</td><td>(12.00020343812431, 15.36269201497128, 11.861958724533658, 12.985987946859591, 28.15983419720618, .....</td>\n",
              "        </tr>\n",
              "        \n",
              "        <tr>\n",
              "          <td>8</td><td>(5.818500277086313, 21.199340058025314, 5.096550537967591, 20.865376735944093, 0.36508572049485366, ...</td>\n",
              "        </tr>\n",
              "        <tr><td>...</td><td>...</td></tr>\n",
              "        <tr>\n",
              "          <td>9999</td><td>(19.076985319550975, 21.828264784476797, 8.108167581671047, 18.94868386909857, 17.821064582970536, ....</td>\n",
              "        </tr>\n",
              "        \n",
              "      </tbody>\n",
              "    </table>\n",
              "        "
            ]
          },
          "metadata": {},
          "execution_count": 60
        }
      ]
    },
    {
      "cell_type": "code",
      "source": [
        "# The 2nd parameter is the mathematical operation applied to each row of the random vector\n",
        "# Simulate 10,000 means of each random vector of 25 uniform distributed numbers:\n",
        "ymean = RV(P,mean).sim(10000)\n",
        "ymean"
      ],
      "metadata": {
        "colab": {
          "base_uri": "https://localhost:8080/",
          "height": 263
        },
        "id": "z6NjnxS_FfBb",
        "outputId": "aeb959eb-e16e-4b77-d7d1-6c5d75d160d4"
      },
      "execution_count": 61,
      "outputs": [
        {
          "output_type": "execute_result",
          "data": {
            "text/plain": [
              "Index Result\n",
              "0     18.037077330541475\n",
              "1     18.102799261458667\n",
              "2     16.53046168399985\n",
              "3     21.15891856779583\n",
              "4     20.374693489044752\n",
              "5     21.308277200543458\n",
              "6     20.80867923701089\n",
              "7     21.105089260561105\n",
              "8     22.07371224981029\n",
              "....  ..................\n",
              "9999  22.136825798569966"
            ],
            "text/html": [
              "\n",
              "    <table>\n",
              "      <thead>\n",
              "        <th width=\"10%\">Index</th>\n",
              "        <th width=\"90%\">Result</th>\n",
              "      </thead>\n",
              "      <tbody>\n",
              "        \n",
              "        <tr>\n",
              "          <td>0</td><td>18.037077330541475</td>\n",
              "        </tr>\n",
              "        \n",
              "        <tr>\n",
              "          <td>1</td><td>18.102799261458667</td>\n",
              "        </tr>\n",
              "        \n",
              "        <tr>\n",
              "          <td>2</td><td>16.53046168399985</td>\n",
              "        </tr>\n",
              "        \n",
              "        <tr>\n",
              "          <td>3</td><td>21.15891856779583</td>\n",
              "        </tr>\n",
              "        \n",
              "        <tr>\n",
              "          <td>4</td><td>20.374693489044752</td>\n",
              "        </tr>\n",
              "        \n",
              "        <tr>\n",
              "          <td>5</td><td>21.308277200543458</td>\n",
              "        </tr>\n",
              "        \n",
              "        <tr>\n",
              "          <td>6</td><td>20.80867923701089</td>\n",
              "        </tr>\n",
              "        \n",
              "        <tr>\n",
              "          <td>7</td><td>21.105089260561105</td>\n",
              "        </tr>\n",
              "        \n",
              "        <tr>\n",
              "          <td>8</td><td>22.07371224981029</td>\n",
              "        </tr>\n",
              "        <tr><td>...</td><td>...</td></tr>\n",
              "        <tr>\n",
              "          <td>9999</td><td>22.136825798569966</td>\n",
              "        </tr>\n",
              "        \n",
              "      </tbody>\n",
              "    </table>\n",
              "        "
            ]
          },
          "metadata": {},
          "execution_count": 61
        }
      ]
    },
    {
      "cell_type": "code",
      "source": [
        "plt.clf()\n",
        "ymean.plot()\n",
        "plt.show()"
      ],
      "metadata": {
        "colab": {
          "base_uri": "https://localhost:8080/",
          "height": 430
        },
        "id": "U6bylc-WFi2K",
        "outputId": "52753cff-b866-4e59-819e-24bf916f9121"
      },
      "execution_count": 62,
      "outputs": [
        {
          "output_type": "display_data",
          "data": {
            "text/plain": [
              "<Figure size 640x480 with 1 Axes>"
            ],
            "image/png": "[encoded data removed]"
          },
          "metadata": {}
        }
      ]
    },
    {
      "cell_type": "code",
      "source": [],
      "metadata": {
        "id": "jfuY6LEMFmYH"
      },
      "execution_count": 62,
      "outputs": []
    },
    {
      "cell_type": "markdown",
      "source": [
        "2.2.6"
      ],
      "metadata": {
        "id": "2iGKETTQFmqC"
      }
    },
    {
      "cell_type": "code",
      "source": [
        "plt.clf()\n",
        "ymean.plot()\n",
        "y.plot()\n",
        "plt.show()"
      ],
      "metadata": {
        "colab": {
          "base_uri": "https://localhost:8080/",
          "height": 430
        },
        "id": "VUCfouNOGmoj",
        "outputId": "4fa8647f-92fe-44f6-f9fd-f4011ff7fd5e"
      },
      "execution_count": 63,
      "outputs": [
        {
          "output_type": "display_data",
          "data": {
            "text/plain": [
              "<Figure size 640x480 with 1 Axes>"
            ],
            "image/png": "[encoded data removed]"
          },
          "metadata": {}
        }
      ]
    },
    {
      "cell_type": "markdown",
      "source": [
        "Notas: La varianza de una suma es la suma de las varianzas. Pero no sucede lo mismo con las desviaciones estándar\n"
      ],
      "metadata": {
        "id": "5Y-dNersY_1V"
      }
    },
    {
      "cell_type": "markdown",
      "source": [
        "**Resumen e importancia del Teorema del limite central**\n",
        "Nos dice que\n",
        "\n",
        "*   Dada una muestra aleatoria de datos. Si analizamos cualquier combinación lineal\n",
        " (Como promedios ponderados o media aritmetica) los resultados se comportarán de manera normal. Donde los datos se distribuyen en el 68% a +- 1 std, 95% en +-2 std y 99% en +- 3std de la media.\n",
        "*   Tambien tenemos que la std de la combinación lineal respecto a la std de los datos originales se ve reducida en 1/raiz de n, donde n es el número de datos.\n",
        "\n"
      ],
      "metadata": {
        "id": "cR51xBYjknmA"
      }
    },
    {
      "cell_type": "markdown",
      "source": [
        "4- Hypothesis testing\n"
      ],
      "metadata": {
        "id": "pksftpzncPIi"
      }
    },
    {
      "cell_type": "markdown",
      "source": [
        "Se usa para validar las hipótesis en una investigación. Donde se parte a partir de una hipótesis que quieres validar y una hipótesis nula.\n",
        "\n",
        "H0: Null Hypótesis (Diablito-> Opuesta a tu hipotesis) Se da por hecho que la hip+otesis nula es opuesta de principio\n",
        "\n",
        "Ha: La hipótesis que quieres demostrar. Se busca reducir la probabilidad de que tu hipótesis esté mal.\n"
      ],
      "metadata": {
        "id": "BDicx7KpcTGB"
      }
    },
    {
      "cell_type": "markdown",
      "source": [
        "Es importante hacer estas pruebas para tener evidencia estadística significativa donde el margen de error comunmente aceptado es del 5%"
      ],
      "metadata": {
        "id": "w2qucpFNmWcd"
      }
    },
    {
      "cell_type": "markdown",
      "source": [
        "*   P value: Margen de error de tu hipotesis\n",
        "*  T value: Número de std que tienes que moverte para llegar al valor de la hipótesis nula.\n",
        "*   Error estandar es la std de la variable de análisis.\n",
        "\n",
        "El factor 1/n solo aplica para promedios.\n",
        "\n",
        "\n",
        "\n"
      ],
      "metadata": {
        "id": "o0Y41Q79hUA2"
      }
    },
    {
      "cell_type": "markdown",
      "source": [
        "4.1 Calcular el retorno de inversión de Microsoft en los últimos años y determiar si combiene invertir en microsoft\n"
      ],
      "metadata": {
        "id": "gXqeoq0nn7T4"
      }
    },
    {
      "cell_type": "code",
      "source": [
        "import yfinance as yf\n",
        "\n",
        "MSFT=yf.download(tickers=\"MSFT\", start=\"2019-01-01\",interval=\"1mo\")\n",
        "MSFT"
      ],
      "metadata": {
        "colab": {
          "base_uri": "https://localhost:8080/",
          "height": 1000
        },
        "id": "_A9vMej0oP_U",
        "outputId": "49423920-3649-4309-af75-9f20553ccb43"
      },
      "execution_count": 64,
      "outputs": [
        {
          "output_type": "stream",
          "name": "stdout",
          "text": [
            "\r[*********************100%%**********************]  1 of 1 completed\n"
          ]
        },
        {
          "output_type": "execute_result",
          "data": {
            "text/plain": [
              "                  Open        High         Low       Close   Adj Close  \\\n",
              "Date                                                                     \n",
              "2019-01-01   99.550003  107.900002   97.199997  104.430000   99.578087   \n",
              "2019-02-01  103.779999  113.239998  102.349998  112.029999  106.824997   \n",
              "2019-03-01  112.889999  120.820000  108.800003  117.940002  112.940697   \n",
              "2019-04-01  118.949997  131.369995  118.099998  130.600006  125.064049   \n",
              "2019-05-01  130.529999  130.649994  123.040001  123.680000  118.437378   \n",
              "2019-06-01  123.849998  138.399994  119.010002  133.960007  128.756470   \n",
              "2019-07-01  136.630005  141.679993  134.669998  136.270004  130.976730   \n",
              "2019-08-01  137.000000  140.940002  130.779999  137.860001  132.505005   \n",
              "2019-09-01  136.610001  142.369995  134.509995  139.029999  134.074509   \n",
              "2019-10-01  139.660004  145.669998  133.220001  143.369995  138.259827   \n",
              "2019-11-01  144.259995  152.500000  142.970001  151.380005  145.984329   \n",
              "2019-12-01  151.809998  159.550003  146.649994  157.699997  152.596558   \n",
              "2020-01-01  158.779999  174.050003  156.509995  170.229996  164.721024   \n",
              "2020-02-01  170.429993  190.699997  152.000000  162.009995  156.767044   \n",
              "2020-03-01  165.309998  175.000000  132.520004  157.710007  153.023041   \n",
              "2020-04-01  153.000000  180.399994  150.360001  179.210007  173.884094   \n",
              "2020-05-01  175.800003  187.509995  173.800003  183.250000  177.804031   \n",
              "2020-06-01  182.539993  204.399994  181.350006  203.509995  198.011887   \n",
              "2020-07-01  203.139999  216.380005  197.509995  205.009995  199.471344   \n",
              "2020-08-01  211.520004  231.149994  203.139999  225.529999  219.436951   \n",
              "2020-09-01  225.509995  232.860001  196.250000  210.330002  205.142303   \n",
              "2020-10-01  213.490005  225.210007  199.619995  202.470001  197.476181   \n",
              "2020-11-01  204.289993  228.119995  200.119995  214.070007  208.790085   \n",
              "2020-12-01  214.509995  227.179993  209.110001  222.419998  217.502060   \n",
              "2021-01-01  222.529999  242.639999  211.940002  231.960007  226.831131   \n",
              "2021-02-01  235.059998  246.130005  227.880005  232.380005  227.241837   \n",
              "2021-03-01  235.899994  241.050003  224.259995  235.770004  231.087891   \n",
              "2021-04-01  238.470001  263.190002  238.050003  252.179993  247.171997   \n",
              "2021-05-01  253.399994  254.350006  238.070007  249.679993  244.721634   \n",
              "2021-06-01  251.229996  271.649994  243.000000  270.899994  266.133362   \n",
              "2021-07-01  269.609985  290.149994  269.600006  284.910004  279.896881   \n",
              "2021-08-01  286.359985  305.839996  283.739990  301.880005  296.568268   \n",
              "2021-09-01  302.869995  305.320007  281.619995  281.920013  277.489685   \n",
              "2021-10-01  282.119995  332.000000  280.250000  331.619995  326.408630   \n",
              "2021-11-01  331.359985  349.670013  326.369995  330.589996  325.394867   \n",
              "2021-12-01  335.130005  344.299988  317.250000  336.320007  331.640472   \n",
              "2022-01-01  335.350006  338.000000  276.049988  310.980011  306.653046   \n",
              "2022-02-01  310.410004  315.119995  271.519989  298.790009  294.632599   \n",
              "2022-03-01  296.399994  315.950012  270.000000  308.309998  304.648773   \n",
              "2022-04-01  309.369995  315.109985  270.000000  277.519989  274.224396   \n",
              "2022-05-01  277.709991  290.880005  246.440002  271.869995  268.641479   \n",
              "2022-06-01  275.200012  277.690002  241.509995  256.829987  254.371185   \n",
              "2022-07-01  256.390015  282.000000  245.940002  280.739990  278.052277   \n",
              "2022-08-01  277.820007  294.179993  260.660004  261.470001  258.966736   \n",
              "2022-09-01  258.869995  267.450012  232.729996  232.899994  231.159912   \n",
              "2022-10-01  235.410004  251.039993  219.130005  232.130005  230.395660   \n",
              "2022-11-01  234.600006  255.330002  213.429993  255.139999  253.233734   \n",
              "2022-12-01  253.869995  263.920013  233.869995  239.820007  238.699020   \n",
              "2023-01-01  243.080002  249.830002  219.350006  247.809998  246.651657   \n",
              "2023-02-01  248.000000  276.760010  245.470001  249.419998  248.254135   \n",
              "2023-03-01  250.759995  289.269989  245.610001  288.299988  287.671112   \n",
              "2023-04-01  286.519989  308.929993  275.369995  307.260010  306.589783   \n",
              "2023-05-01  306.970001  335.940002  303.399994  328.390015  327.673706   \n",
              "2023-06-01  325.929993  351.470001  322.500000  340.540009  340.540009   \n",
              "2023-07-01  339.190002  366.779999  327.000000  335.920013  335.920013   \n",
              "2023-08-01  335.190002  338.540009  319.209991  322.971100  322.971100   \n",
              "\n",
              "                Volume  \n",
              "Date                    \n",
              "2019-01-01   714212800  \n",
              "2019-02-01   469095900  \n",
              "2019-03-01   589095800  \n",
              "2019-04-01   433157700  \n",
              "2019-05-01   547218800  \n",
              "2019-06-01   508324300  \n",
              "2019-07-01   484079900  \n",
              "2019-08-01   584482000  \n",
              "2019-09-01   472544800  \n",
              "2019-10-01   549523400  \n",
              "2019-11-01   392371800  \n",
              "2019-12-01   450303300  \n",
              "2020-01-01   558530000  \n",
              "2020-02-01   887522300  \n",
              "2020-03-01  1612695500  \n",
              "2020-04-01   984705000  \n",
              "2020-05-01   688845000  \n",
              "2020-06-01   764965400  \n",
              "2020-07-01   770190800  \n",
              "2020-08-01   692423900  \n",
              "2020-09-01   768176300  \n",
              "2020-10-01   631618000  \n",
              "2020-11-01   573443000  \n",
              "2020-12-01   594761700  \n",
              "2021-01-01   648076400  \n",
              "2021-02-01   490962200  \n",
              "2021-03-01   724945800  \n",
              "2021-04-01   568661600  \n",
              "2021-05-01   495084900  \n",
              "2021-06-01   508572200  \n",
              "2021-07-01   522672700  \n",
              "2021-08-01   441308900  \n",
              "2021-09-01   502918700  \n",
              "2021-10-01   516515800  \n",
              "2021-11-01   509885200  \n",
              "2021-12-01   625674800  \n",
              "2022-01-01   947531400  \n",
              "2022-02-01   697050600  \n",
              "2022-03-01   734334200  \n",
              "2022-04-01   627343400  \n",
              "2022-05-01   742902000  \n",
              "2022-06-01   621372300  \n",
              "2022-07-01   534891800  \n",
              "2022-08-01   477157600  \n",
              "2022-09-01   575586600  \n",
              "2022-10-01   671225100  \n",
              "2022-11-01   615296000  \n",
              "2022-12-01   591358700  \n",
              "2023-01-01   666168100  \n",
              "2023-02-01   615501000  \n",
              "2023-03-01   747635000  \n",
              "2023-04-01   551497100  \n",
              "2023-05-01   600807200  \n",
              "2023-06-01   547588700  \n",
              "2023-07-01   666764400  \n",
              "2023-08-01   242789620  "
            ],
            "text/html": [
              "\n",
              "\n",
              "  <div id=\"df-1ffe2a96-943e-4a7a-956b-8217ff42f1a5\">\n",
              "    <div class=\"colab-df-container\">\n",
              "      <div>\n",
              "<style scoped>\n",
              "    .dataframe tbody tr th:only-of-type {\n",
              "        vertical-align: middle;\n",
              "    }\n",
              "\n",
              "    .dataframe tbody tr th {\n",
              "        vertical-align: top;\n",
              "    }\n",
              "\n",
              "    .dataframe thead th {\n",
              "        text-align: right;\n",
              "    }\n",
              "</style>\n",
              "<table border=\"1\" class=\"dataframe\">\n",
              "  <thead>\n",
              "    <tr style=\"text-align: right;\">\n",
              "      <th></th>\n",
              "      <th>Open</th>\n",
              "      <th>High</th>\n",
              "      <th>Low</th>\n",
              "      <th>Close</th>\n",
              "      <th>Adj Close</th>\n",
              "      <th>Volume</th>\n",
              "    </tr>\n",
              "    <tr>\n",
              "      <th>Date</th>\n",
              "      <th></th>\n",
              "      <th></th>\n",
              "      <th></th>\n",
              "      <th></th>\n",
              "      <th></th>\n",
              "      <th></th>\n",
              "    </tr>\n",
              "  </thead>\n",
              "  <tbody>\n",
              "    <tr>\n",
              "      <th>2019-01-01</th>\n",
              "      <td>99.550003</td>\n",
              "      <td>107.900002</td>\n",
              "      <td>97.199997</td>\n",
              "      <td>104.430000</td>\n",
              "      <td>99.578087</td>\n",
              "      <td>714212800</td>\n",
              "    </tr>\n",
              "    <tr>\n",
              "      <th>2019-02-01</th>\n",
              "      <td>103.779999</td>\n",
              "      <td>113.239998</td>\n",
              "      <td>102.349998</td>\n",
              "      <td>112.029999</td>\n",
              "      <td>106.824997</td>\n",
              "      <td>469095900</td>\n",
              "    </tr>\n",
              "    <tr>\n",
              "      <th>2019-03-01</th>\n",
              "      <td>112.889999</td>\n",
              "      <td>120.820000</td>\n",
              "      <td>108.800003</td>\n",
              "      <td>117.940002</td>\n",
              "      <td>112.940697</td>\n",
              "      <td>589095800</td>\n",
              "    </tr>\n",
              "    <tr>\n",
              "      <th>2019-04-01</th>\n",
              "      <td>118.949997</td>\n",
              "      <td>131.369995</td>\n",
              "      <td>118.099998</td>\n",
              "      <td>130.600006</td>\n",
              "      <td>125.064049</td>\n",
              "      <td>433157700</td>\n",
              "    </tr>\n",
              "    <tr>\n",
              "      <th>2019-05-01</th>\n",
              "      <td>130.529999</td>\n",
              "      <td>130.649994</td>\n",
              "      <td>123.040001</td>\n",
              "      <td>123.680000</td>\n",
              "      <td>118.437378</td>\n",
              "      <td>547218800</td>\n",
              "    </tr>\n",
              "    <tr>\n",
              "      <th>2019-06-01</th>\n",
              "      <td>123.849998</td>\n",
              "      <td>138.399994</td>\n",
              "      <td>119.010002</td>\n",
              "      <td>133.960007</td>\n",
              "      <td>128.756470</td>\n",
              "      <td>508324300</td>\n",
              "    </tr>\n",
              "    <tr>\n",
              "      <th>2019-07-01</th>\n",
              "      <td>136.630005</td>\n",
              "      <td>141.679993</td>\n",
              "      <td>134.669998</td>\n",
              "      <td>136.270004</td>\n",
              "      <td>130.976730</td>\n",
              "      <td>484079900</td>\n",
              "    </tr>\n",
              "    <tr>\n",
              "      <th>2019-08-01</th>\n",
              "      <td>137.000000</td>\n",
              "      <td>140.940002</td>\n",
              "      <td>130.779999</td>\n",
              "      <td>137.860001</td>\n",
              "      <td>132.505005</td>\n",
              "      <td>584482000</td>\n",
              "    </tr>\n",
              "    <tr>\n",
              "      <th>2019-09-01</th>\n",
              "      <td>136.610001</td>\n",
              "      <td>142.369995</td>\n",
              "      <td>134.509995</td>\n",
              "      <td>139.029999</td>\n",
              "      <td>134.074509</td>\n",
              "      <td>472544800</td>\n",
              "    </tr>\n",
              "    <tr>\n",
              "      <th>2019-10-01</th>\n",
              "      <td>139.660004</td>\n",
              "      <td>145.669998</td>\n",
              "      <td>133.220001</td>\n",
              "      <td>143.369995</td>\n",
              "      <td>138.259827</td>\n",
              "      <td>549523400</td>\n",
              "    </tr>\n",
              "    <tr>\n",
              "      <th>2019-11-01</th>\n",
              "      <td>144.259995</td>\n",
              "      <td>152.500000</td>\n",
              "      <td>142.970001</td>\n",
              "      <td>151.380005</td>\n",
              "      <td>145.984329</td>\n",
              "      <td>392371800</td>\n",
              "    </tr>\n",
              "    <tr>\n",
              "      <th>2019-12-01</th>\n",
              "      <td>151.809998</td>\n",
              "      <td>159.550003</td>\n",
              "      <td>146.649994</td>\n",
              "      <td>157.699997</td>\n",
              "      <td>152.596558</td>\n",
              "      <td>450303300</td>\n",
              "    </tr>\n",
              "    <tr>\n",
              "      <th>2020-01-01</th>\n",
              "      <td>158.779999</td>\n",
              "      <td>174.050003</td>\n",
              "      <td>156.509995</td>\n",
              "      <td>170.229996</td>\n",
              "      <td>164.721024</td>\n",
              "      <td>558530000</td>\n",
              "    </tr>\n",
              "    <tr>\n",
              "      <th>2020-02-01</th>\n",
              "      <td>170.429993</td>\n",
              "      <td>190.699997</td>\n",
              "      <td>152.000000</td>\n",
              "      <td>162.009995</td>\n",
              "      <td>156.767044</td>\n",
              "      <td>887522300</td>\n",
              "    </tr>\n",
              "    <tr>\n",
              "      <th>2020-03-01</th>\n",
              "      <td>165.309998</td>\n",
              "      <td>175.000000</td>\n",
              "      <td>132.520004</td>\n",
              "      <td>157.710007</td>\n",
              "      <td>153.023041</td>\n",
              "      <td>1612695500</td>\n",
              "    </tr>\n",
              "    <tr>\n",
              "      <th>2020-04-01</th>\n",
              "      <td>153.000000</td>\n",
              "      <td>180.399994</td>\n",
              "      <td>150.360001</td>\n",
              "      <td>179.210007</td>\n",
              "      <td>173.884094</td>\n",
              "      <td>984705000</td>\n",
              "    </tr>\n",
              "    <tr>\n",
              "      <th>2020-05-01</th>\n",
              "      <td>175.800003</td>\n",
              "      <td>187.509995</td>\n",
              "      <td>173.800003</td>\n",
              "      <td>183.250000</td>\n",
              "      <td>177.804031</td>\n",
              "      <td>688845000</td>\n",
              "    </tr>\n",
              "    <tr>\n",
              "      <th>2020-06-01</th>\n",
              "      <td>182.539993</td>\n",
              "      <td>204.399994</td>\n",
              "      <td>181.350006</td>\n",
              "      <td>203.509995</td>\n",
              "      <td>198.011887</td>\n",
              "      <td>764965400</td>\n",
              "    </tr>\n",
              "    <tr>\n",
              "      <th>2020-07-01</th>\n",
              "      <td>203.139999</td>\n",
              "      <td>216.380005</td>\n",
              "      <td>197.509995</td>\n",
              "      <td>205.009995</td>\n",
              "      <td>199.471344</td>\n",
              "      <td>770190800</td>\n",
              "    </tr>\n",
              "    <tr>\n",
              "      <th>2020-08-01</th>\n",
              "      <td>211.520004</td>\n",
              "      <td>231.149994</td>\n",
              "      <td>203.139999</td>\n",
              "      <td>225.529999</td>\n",
              "      <td>219.436951</td>\n",
              "      <td>692423900</td>\n",
              "    </tr>\n",
              "    <tr>\n",
              "      <th>2020-09-01</th>\n",
              "      <td>225.509995</td>\n",
              "      <td>232.860001</td>\n",
              "      <td>196.250000</td>\n",
              "      <td>210.330002</td>\n",
              "      <td>205.142303</td>\n",
              "      <td>768176300</td>\n",
              "    </tr>\n",
              "    <tr>\n",
              "      <th>2020-10-01</th>\n",
              "      <td>213.490005</td>\n",
              "      <td>225.210007</td>\n",
              "      <td>199.619995</td>\n",
              "      <td>202.470001</td>\n",
              "      <td>197.476181</td>\n",
              "      <td>631618000</td>\n",
              "    </tr>\n",
              "    <tr>\n",
              "      <th>2020-11-01</th>\n",
              "      <td>204.289993</td>\n",
              "      <td>228.119995</td>\n",
              "      <td>200.119995</td>\n",
              "      <td>214.070007</td>\n",
              "      <td>208.790085</td>\n",
              "      <td>573443000</td>\n",
              "    </tr>\n",
              "    <tr>\n",
              "      <th>2020-12-01</th>\n",
              "      <td>214.509995</td>\n",
              "      <td>227.179993</td>\n",
              "      <td>209.110001</td>\n",
              "      <td>222.419998</td>\n",
              "      <td>217.502060</td>\n",
              "      <td>594761700</td>\n",
              "    </tr>\n",
              "    <tr>\n",
              "      <th>2021-01-01</th>\n",
              "      <td>222.529999</td>\n",
              "      <td>242.639999</td>\n",
              "      <td>211.940002</td>\n",
              "      <td>231.960007</td>\n",
              "      <td>226.831131</td>\n",
              "      <td>648076400</td>\n",
              "    </tr>\n",
              "    <tr>\n",
              "      <th>2021-02-01</th>\n",
              "      <td>235.059998</td>\n",
              "      <td>246.130005</td>\n",
              "      <td>227.880005</td>\n",
              "      <td>232.380005</td>\n",
              "      <td>227.241837</td>\n",
              "      <td>490962200</td>\n",
              "    </tr>\n",
              "    <tr>\n",
              "      <th>2021-03-01</th>\n",
              "      <td>235.899994</td>\n",
              "      <td>241.050003</td>\n",
              "      <td>224.259995</td>\n",
              "      <td>235.770004</td>\n",
              "      <td>231.087891</td>\n",
              "      <td>724945800</td>\n",
              "    </tr>\n",
              "    <tr>\n",
              "      <th>2021-04-01</th>\n",
              "      <td>238.470001</td>\n",
              "      <td>263.190002</td>\n",
              "      <td>238.050003</td>\n",
              "      <td>252.179993</td>\n",
              "      <td>247.171997</td>\n",
              "      <td>568661600</td>\n",
              "    </tr>\n",
              "    <tr>\n",
              "      <th>2021-05-01</th>\n",
              "      <td>253.399994</td>\n",
              "      <td>254.350006</td>\n",
              "      <td>238.070007</td>\n",
              "      <td>249.679993</td>\n",
              "      <td>244.721634</td>\n",
              "      <td>495084900</td>\n",
              "    </tr>\n",
              "    <tr>\n",
              "      <th>2021-06-01</th>\n",
              "      <td>251.229996</td>\n",
              "      <td>271.649994</td>\n",
              "      <td>243.000000</td>\n",
              "      <td>270.899994</td>\n",
              "      <td>266.133362</td>\n",
              "      <td>508572200</td>\n",
              "    </tr>\n",
              "    <tr>\n",
              "      <th>2021-07-01</th>\n",
              "      <td>269.609985</td>\n",
              "      <td>290.149994</td>\n",
              "      <td>269.600006</td>\n",
              "      <td>284.910004</td>\n",
              "      <td>279.896881</td>\n",
              "      <td>522672700</td>\n",
              "    </tr>\n",
              "    <tr>\n",
              "      <th>2021-08-01</th>\n",
              "      <td>286.359985</td>\n",
              "      <td>305.839996</td>\n",
              "      <td>283.739990</td>\n",
              "      <td>301.880005</td>\n",
              "      <td>296.568268</td>\n",
              "      <td>441308900</td>\n",
              "    </tr>\n",
              "    <tr>\n",
              "      <th>2021-09-01</th>\n",
              "      <td>302.869995</td>\n",
              "      <td>305.320007</td>\n",
              "      <td>281.619995</td>\n",
              "      <td>281.920013</td>\n",
              "      <td>277.489685</td>\n",
              "      <td>502918700</td>\n",
              "    </tr>\n",
              "    <tr>\n",
              "      <th>2021-10-01</th>\n",
              "      <td>282.119995</td>\n",
              "      <td>332.000000</td>\n",
              "      <td>280.250000</td>\n",
              "      <td>331.619995</td>\n",
              "      <td>326.408630</td>\n",
              "      <td>516515800</td>\n",
              "    </tr>\n",
              "    <tr>\n",
              "      <th>2021-11-01</th>\n",
              "      <td>331.359985</td>\n",
              "      <td>349.670013</td>\n",
              "      <td>326.369995</td>\n",
              "      <td>330.589996</td>\n",
              "      <td>325.394867</td>\n",
              "      <td>509885200</td>\n",
              "    </tr>\n",
              "    <tr>\n",
              "      <th>2021-12-01</th>\n",
              "      <td>335.130005</td>\n",
              "      <td>344.299988</td>\n",
              "      <td>317.250000</td>\n",
              "      <td>336.320007</td>\n",
              "      <td>331.640472</td>\n",
              "      <td>625674800</td>\n",
              "    </tr>\n",
              "    <tr>\n",
              "      <th>2022-01-01</th>\n",
              "      <td>335.350006</td>\n",
              "      <td>338.000000</td>\n",
              "      <td>276.049988</td>\n",
              "      <td>310.980011</td>\n",
              "      <td>306.653046</td>\n",
              "      <td>947531400</td>\n",
              "    </tr>\n",
              "    <tr>\n",
              "      <th>2022-02-01</th>\n",
              "      <td>310.410004</td>\n",
              "      <td>315.119995</td>\n",
              "      <td>271.519989</td>\n",
              "      <td>298.790009</td>\n",
              "      <td>294.632599</td>\n",
              "      <td>697050600</td>\n",
              "    </tr>\n",
              "    <tr>\n",
              "      <th>2022-03-01</th>\n",
              "      <td>296.399994</td>\n",
              "      <td>315.950012</td>\n",
              "      <td>270.000000</td>\n",
              "      <td>308.309998</td>\n",
              "      <td>304.648773</td>\n",
              "      <td>734334200</td>\n",
              "    </tr>\n",
              "    <tr>\n",
              "      <th>2022-04-01</th>\n",
              "      <td>309.369995</td>\n",
              "      <td>315.109985</td>\n",
              "      <td>270.000000</td>\n",
              "      <td>277.519989</td>\n",
              "      <td>274.224396</td>\n",
              "      <td>627343400</td>\n",
              "    </tr>\n",
              "    <tr>\n",
              "      <th>2022-05-01</th>\n",
              "      <td>277.709991</td>\n",
              "      <td>290.880005</td>\n",
              "      <td>246.440002</td>\n",
              "      <td>271.869995</td>\n",
              "      <td>268.641479</td>\n",
              "      <td>742902000</td>\n",
              "    </tr>\n",
              "    <tr>\n",
              "      <th>2022-06-01</th>\n",
              "      <td>275.200012</td>\n",
              "      <td>277.690002</td>\n",
              "      <td>241.509995</td>\n",
              "      <td>256.829987</td>\n",
              "      <td>254.371185</td>\n",
              "      <td>621372300</td>\n",
              "    </tr>\n",
              "    <tr>\n",
              "      <th>2022-07-01</th>\n",
              "      <td>256.390015</td>\n",
              "      <td>282.000000</td>\n",
              "      <td>245.940002</td>\n",
              "      <td>280.739990</td>\n",
              "      <td>278.052277</td>\n",
              "      <td>534891800</td>\n",
              "    </tr>\n",
              "    <tr>\n",
              "      <th>2022-08-01</th>\n",
              "      <td>277.820007</td>\n",
              "      <td>294.179993</td>\n",
              "      <td>260.660004</td>\n",
              "      <td>261.470001</td>\n",
              "      <td>258.966736</td>\n",
              "      <td>477157600</td>\n",
              "    </tr>\n",
              "    <tr>\n",
              "      <th>2022-09-01</th>\n",
              "      <td>258.869995</td>\n",
              "      <td>267.450012</td>\n",
              "      <td>232.729996</td>\n",
              "      <td>232.899994</td>\n",
              "      <td>231.159912</td>\n",
              "      <td>575586600</td>\n",
              "    </tr>\n",
              "    <tr>\n",
              "      <th>2022-10-01</th>\n",
              "      <td>235.410004</td>\n",
              "      <td>251.039993</td>\n",
              "      <td>219.130005</td>\n",
              "      <td>232.130005</td>\n",
              "      <td>230.395660</td>\n",
              "      <td>671225100</td>\n",
              "    </tr>\n",
              "    <tr>\n",
              "      <th>2022-11-01</th>\n",
              "      <td>234.600006</td>\n",
              "      <td>255.330002</td>\n",
              "      <td>213.429993</td>\n",
              "      <td>255.139999</td>\n",
              "      <td>253.233734</td>\n",
              "      <td>615296000</td>\n",
              "    </tr>\n",
              "    <tr>\n",
              "      <th>2022-12-01</th>\n",
              "      <td>253.869995</td>\n",
              "      <td>263.920013</td>\n",
              "      <td>233.869995</td>\n",
              "      <td>239.820007</td>\n",
              "      <td>238.699020</td>\n",
              "      <td>591358700</td>\n",
              "    </tr>\n",
              "    <tr>\n",
              "      <th>2023-01-01</th>\n",
              "      <td>243.080002</td>\n",
              "      <td>249.830002</td>\n",
              "      <td>219.350006</td>\n",
              "      <td>247.809998</td>\n",
              "      <td>246.651657</td>\n",
              "      <td>666168100</td>\n",
              "    </tr>\n",
              "    <tr>\n",
              "      <th>2023-02-01</th>\n",
              "      <td>248.000000</td>\n",
              "      <td>276.760010</td>\n",
              "      <td>245.470001</td>\n",
              "      <td>249.419998</td>\n",
              "      <td>248.254135</td>\n",
              "      <td>615501000</td>\n",
              "    </tr>\n",
              "    <tr>\n",
              "      <th>2023-03-01</th>\n",
              "      <td>250.759995</td>\n",
              "      <td>289.269989</td>\n",
              "      <td>245.610001</td>\n",
              "      <td>288.299988</td>\n",
              "      <td>287.671112</td>\n",
              "      <td>747635000</td>\n",
              "    </tr>\n",
              "    <tr>\n",
              "      <th>2023-04-01</th>\n",
              "      <td>286.519989</td>\n",
              "      <td>308.929993</td>\n",
              "      <td>275.369995</td>\n",
              "      <td>307.260010</td>\n",
              "      <td>306.589783</td>\n",
              "      <td>551497100</td>\n",
              "    </tr>\n",
              "    <tr>\n",
              "      <th>2023-05-01</th>\n",
              "      <td>306.970001</td>\n",
              "      <td>335.940002</td>\n",
              "      <td>303.399994</td>\n",
              "      <td>328.390015</td>\n",
              "      <td>327.673706</td>\n",
              "      <td>600807200</td>\n",
              "    </tr>\n",
              "    <tr>\n",
              "      <th>2023-06-01</th>\n",
              "      <td>325.929993</td>\n",
              "      <td>351.470001</td>\n",
              "      <td>322.500000</td>\n",
              "      <td>340.540009</td>\n",
              "      <td>340.540009</td>\n",
              "      <td>547588700</td>\n",
              "    </tr>\n",
              "    <tr>\n",
              "      <th>2023-07-01</th>\n",
              "      <td>339.190002</td>\n",
              "      <td>366.779999</td>\n",
              "      <td>327.000000</td>\n",
              "      <td>335.920013</td>\n",
              "      <td>335.920013</td>\n",
              "      <td>666764400</td>\n",
              "    </tr>\n",
              "    <tr>\n",
              "      <th>2023-08-01</th>\n",
              "      <td>335.190002</td>\n",
              "      <td>338.540009</td>\n",
              "      <td>319.209991</td>\n",
              "      <td>322.971100</td>\n",
              "      <td>322.971100</td>\n",
              "      <td>242789620</td>\n",
              "    </tr>\n",
              "  </tbody>\n",
              "</table>\n",
              "</div>\n",
              "      <button class=\"colab-df-convert\" onclick=\"convertToInteractive('df-1ffe2a96-943e-4a7a-956b-8217ff42f1a5')\"\n",
              "              title=\"Convert this dataframe to an interactive table.\"\n",
              "              style=\"display:none;\">\n",
              "\n",
              "  <svg xmlns=\"http://www.w3.org/2000/svg\" height=\"24px\"viewBox=\"0 0 24 24\"\n",
              "       width=\"24px\">\n",
              "    <path d=\"M0 0h24v24H0V0z\" fill=\"none\"/>\n",
              "    <path d=\"M18.56 5.44l.94 2.06.94-2.06 2.06-.94-2.06-.94-.94-2.06-.94 2.06-2.06.94zm-11 1L8.5 8.5l.94-2.06 2.06-.94-2.06-.94L8.5 2.5l-.94 2.06-2.06.94zm10 10l.94 2.06.94-2.06 2.06-.94-2.06-.94-.94-2.06-.94 2.06-2.06.94z\"/><path d=\"M17.41 7.96l-1.37-1.37c-.4-.4-.92-.59-1.43-.59-.52 0-1.04.2-1.43.59L10.3 9.45l-7.72 7.72c-.78.78-.78 2.05 0 2.83L4 21.41c.39.39.9.59 1.41.59.51 0 1.02-.2 1.41-.59l7.78-7.78 2.81-2.81c.8-.78.8-2.07 0-2.86zM5.41 20L4 18.59l7.72-7.72 1.47 1.35L5.41 20z\"/>\n",
              "  </svg>\n",
              "      </button>\n",
              "\n",
              "\n",
              "\n",
              "    <div id=\"df-10d01690-3282-4727-a198-6e5720e1e45e\">\n",
              "      <button class=\"colab-df-quickchart\" onclick=\"quickchart('df-10d01690-3282-4727-a198-6e5720e1e45e')\"\n",
              "              title=\"Suggest charts.\"\n",
              "              style=\"display:none;\">\n",
              "\n",
              "<svg xmlns=\"http://www.w3.org/2000/svg\" height=\"24px\"viewBox=\"0 0 24 24\"\n",
              "     width=\"24px\">\n",
              "    <g>\n",
              "        <path d=\"M19 3H5c-1.1 0-2 .9-2 2v14c0 1.1.9 2 2 2h14c1.1 0 2-.9 2-2V5c0-1.1-.9-2-2-2zM9 17H7v-7h2v7zm4 0h-2V7h2v10zm4 0h-2v-4h2v4z\"/>\n",
              "    </g>\n",
              "</svg>\n",
              "      </button>\n",
              "    </div>\n",
              "\n",
              "<style>\n",
              "  .colab-df-quickchart {\n",
              "    background-color: #E8F0FE;\n",
              "    border: none;\n",
              "    border-radius: 50%;\n",
              "    cursor: pointer;\n",
              "    display: none;\n",
              "    fill: #1967D2;\n",
              "    height: 32px;\n",
              "    padding: 0 0 0 0;\n",
              "    width: 32px;\n",
              "  }\n",
              "\n",
              "  .colab-df-quickchart:hover {\n",
              "    background-color: #E2EBFA;\n",
              "    box-shadow: 0px 1px 2px rgba(60, 64, 67, 0.3), 0px 1px 3px 1px rgba(60, 64, 67, 0.15);\n",
              "    fill: #174EA6;\n",
              "  }\n",
              "\n",
              "  [theme=dark] .colab-df-quickchart {\n",
              "    background-color: #3B4455;\n",
              "    fill: #D2E3FC;\n",
              "  }\n",
              "\n",
              "  [theme=dark] .colab-df-quickchart:hover {\n",
              "    background-color: #434B5C;\n",
              "    box-shadow: 0px 1px 3px 1px rgba(0, 0, 0, 0.15);\n",
              "    filter: drop-shadow(0px 1px 2px rgba(0, 0, 0, 0.3));\n",
              "    fill: #FFFFFF;\n",
              "  }\n",
              "</style>\n",
              "\n",
              "    <script>\n",
              "      async function quickchart(key) {\n",
              "        const containerElement = document.querySelector('#' + key);\n",
              "        const charts = await google.colab.kernel.invokeFunction(\n",
              "            'suggestCharts', [key], {});\n",
              "      }\n",
              "    </script>\n",
              "\n",
              "      <script>\n",
              "\n",
              "function displayQuickchartButton(domScope) {\n",
              "  let quickchartButtonEl =\n",
              "    domScope.querySelector('#df-10d01690-3282-4727-a198-6e5720e1e45e button.colab-df-quickchart');\n",
              "  quickchartButtonEl.style.display =\n",
              "    google.colab.kernel.accessAllowed ? 'block' : 'none';\n",
              "}\n",
              "\n",
              "        displayQuickchartButton(document);\n",
              "      </script>\n",
              "      <style>\n",
              "    .colab-df-container {\n",
              "      display:flex;\n",
              "      flex-wrap:wrap;\n",
              "      gap: 12px;\n",
              "    }\n",
              "\n",
              "    .colab-df-convert {\n",
              "      background-color: #E8F0FE;\n",
              "      border: none;\n",
              "      border-radius: 50%;\n",
              "      cursor: pointer;\n",
              "      display: none;\n",
              "      fill: #1967D2;\n",
              "      height: 32px;\n",
              "      padding: 0 0 0 0;\n",
              "      width: 32px;\n",
              "    }\n",
              "\n",
              "    .colab-df-convert:hover {\n",
              "      background-color: #E2EBFA;\n",
              "      box-shadow: 0px 1px 2px rgba(60, 64, 67, 0.3), 0px 1px 3px 1px rgba(60, 64, 67, 0.15);\n",
              "      fill: #174EA6;\n",
              "    }\n",
              "\n",
              "    [theme=dark] .colab-df-convert {\n",
              "      background-color: #3B4455;\n",
              "      fill: #D2E3FC;\n",
              "    }\n",
              "\n",
              "    [theme=dark] .colab-df-convert:hover {\n",
              "      background-color: #434B5C;\n",
              "      box-shadow: 0px 1px 3px 1px rgba(0, 0, 0, 0.15);\n",
              "      filter: drop-shadow(0px 1px 2px rgba(0, 0, 0, 0.3));\n",
              "      fill: #FFFFFF;\n",
              "    }\n",
              "  </style>\n",
              "\n",
              "      <script>\n",
              "        const buttonEl =\n",
              "          document.querySelector('#df-1ffe2a96-943e-4a7a-956b-8217ff42f1a5 button.colab-df-convert');\n",
              "        buttonEl.style.display =\n",
              "          google.colab.kernel.accessAllowed ? 'block' : 'none';\n",
              "\n",
              "        async function convertToInteractive(key) {\n",
              "          const element = document.querySelector('#df-1ffe2a96-943e-4a7a-956b-8217ff42f1a5');\n",
              "          const dataTable =\n",
              "            await google.colab.kernel.invokeFunction('convertToInteractive',\n",
              "                                                     [key], {});\n",
              "          if (!dataTable) return;\n",
              "\n",
              "          const docLinkHtml = 'Like what you see? Visit the ' +\n",
              "            '<a target=\"_blank\" href=https://colab.research.google.com/notebooks/data_table.ipynb>data table notebook</a>'\n",
              "            + ' to learn more about interactive tables.';\n",
              "          element.innerHTML = '';\n",
              "          dataTable['output_type'] = 'display_data';\n",
              "          await google.colab.output.renderOutput(dataTable, element);\n",
              "          const docLink = document.createElement('div');\n",
              "          docLink.innerHTML = docLinkHtml;\n",
              "          element.appendChild(docLink);\n",
              "        }\n",
              "      </script>\n",
              "    </div>\n",
              "  </div>\n"
            ]
          },
          "metadata": {},
          "execution_count": 64
        }
      ]
    },
    {
      "cell_type": "markdown",
      "source": [],
      "metadata": {
        "id": "DAcUAC1aomaq"
      }
    },
    {
      "cell_type": "code",
      "source": [
        "import matplotlib\n",
        "from matplotlib.pyplot import*\n",
        "plot(MSFT[\"Adj Close\"])\n",
        "show()"
      ],
      "metadata": {
        "colab": {
          "base_uri": "https://localhost:8080/",
          "height": 432
        },
        "id": "ImuUjs83onH4",
        "outputId": "883806ef-6167-4688-810e-ee8ebc8796be"
      },
      "execution_count": 65,
      "outputs": [
        {
          "output_type": "display_data",
          "data": {
            "text/plain": [
              "<Figure size 640x480 with 1 Axes>"
            ],
            "image/png": "[encoded data removed]"
          },
          "metadata": {}
        }
      ]
    },
    {
      "cell_type": "code",
      "source": [
        "MSFT.info()"
      ],
      "metadata": {
        "colab": {
          "base_uri": "https://localhost:8080/"
        },
        "id": "nLJNEG65os8t",
        "outputId": "285aa3f4-b7ef-46a8-a39c-384c0c2fc892"
      },
      "execution_count": 66,
      "outputs": [
        {
          "output_type": "stream",
          "name": "stdout",
          "text": [
            "<class 'pandas.core.frame.DataFrame'>\n",
            "DatetimeIndex: 56 entries, 2019-01-01 to 2023-08-01\n",
            "Data columns (total 6 columns):\n",
            " #   Column     Non-Null Count  Dtype  \n",
            "---  ------     --------------  -----  \n",
            " 0   Open       56 non-null     float64\n",
            " 1   High       56 non-null     float64\n",
            " 2   Low        56 non-null     float64\n",
            " 3   Close      56 non-null     float64\n",
            " 4   Adj Close  56 non-null     float64\n",
            " 5   Volume     56 non-null     int64  \n",
            "dtypes: float64(5), int64(1)\n",
            "memory usage: 3.1 KB\n"
          ]
        }
      ]
    },
    {
      "cell_type": "code",
      "source": [
        "MSFT[\"R\"] = (MSFT[\"Adj Close\"] / MSFT[\"Adj Close\"].shift(1)) - 1\n",
        "print(MSFT[\"R\"])"
      ],
      "metadata": {
        "colab": {
          "base_uri": "https://localhost:8080/"
        },
        "id": "0qu4kN8Ho1A_",
        "outputId": "0b4cdb9a-6c3d-4d30-9acf-172c97f33ab8"
      },
      "execution_count": 67,
      "outputs": [
        {
          "output_type": "stream",
          "name": "stdout",
          "text": [
            "Date\n",
            "2019-01-01         NaN\n",
            "2019-02-01    0.072776\n",
            "2019-03-01    0.057250\n",
            "2019-04-01    0.107343\n",
            "2019-05-01   -0.052986\n",
            "2019-06-01    0.087127\n",
            "2019-07-01    0.017244\n",
            "2019-08-01    0.011668\n",
            "2019-09-01    0.011845\n",
            "2019-10-01    0.031216\n",
            "2019-11-01    0.055869\n",
            "2019-12-01    0.045294\n",
            "2020-01-01    0.079454\n",
            "2020-02-01   -0.048288\n",
            "2020-03-01   -0.023883\n",
            "2020-04-01    0.136326\n",
            "2020-05-01    0.022543\n",
            "2020-06-01    0.113652\n",
            "2020-07-01    0.007371\n",
            "2020-08-01    0.100093\n",
            "2020-09-01   -0.065142\n",
            "2020-10-01   -0.037370\n",
            "2020-11-01    0.057292\n",
            "2020-12-01    0.041726\n",
            "2021-01-01    0.042892\n",
            "2021-02-01    0.001811\n",
            "2021-03-01    0.016925\n",
            "2021-04-01    0.069602\n",
            "2021-05-01   -0.009914\n",
            "2021-06-01    0.087494\n",
            "2021-07-01    0.051717\n",
            "2021-08-01    0.059563\n",
            "2021-09-01   -0.064331\n",
            "2021-10-01    0.176291\n",
            "2021-11-01   -0.003106\n",
            "2021-12-01    0.019194\n",
            "2022-01-01   -0.075345\n",
            "2022-02-01   -0.039199\n",
            "2022-03-01    0.033995\n",
            "2022-04-01   -0.099867\n",
            "2022-05-01   -0.020359\n",
            "2022-06-01   -0.053120\n",
            "2022-07-01    0.093097\n",
            "2022-08-01   -0.068640\n",
            "2022-09-01   -0.107376\n",
            "2022-10-01   -0.003306\n",
            "2022-11-01    0.099125\n",
            "2022-12-01   -0.057396\n",
            "2023-01-01    0.033317\n",
            "2023-02-01    0.006497\n",
            "2023-03-01    0.158777\n",
            "2023-04-01    0.065765\n",
            "2023-05-01    0.068769\n",
            "2023-06-01    0.039266\n",
            "2023-07-01   -0.013567\n",
            "2023-08-01   -0.038548\n",
            "Name: R, dtype: float64\n"
          ]
        }
      ]
    },
    {
      "cell_type": "code",
      "source": [
        "MSFT[\"r\"] = np.log(MSFT['Adj Close']) - np.log(MSFT['Adj Close'].shift(1))\n",
        "MSFTR = MSFT[['R','r']].copy()"
      ],
      "metadata": {
        "id": "QqZO_0h1o6v6"
      },
      "execution_count": 68,
      "outputs": []
    },
    {
      "cell_type": "code",
      "source": [
        "sumret = MSFT[\"R\"].describe()\n",
        "sumret"
      ],
      "metadata": {
        "colab": {
          "base_uri": "https://localhost:8080/"
        },
        "id": "1G-2dB2lpBfV",
        "outputId": "b2c3bcae-1eb0-495d-c9ab-5815750b88a4"
      },
      "execution_count": 69,
      "outputs": [
        {
          "output_type": "execute_result",
          "data": {
            "text/plain": [
              "count    55.000000\n",
              "mean      0.023608\n",
              "std       0.064308\n",
              "min      -0.107376\n",
              "25%      -0.022121\n",
              "50%       0.022543\n",
              "75%       0.067267\n",
              "max       0.176291\n",
              "Name: R, dtype: float64"
            ]
          },
          "metadata": {},
          "execution_count": 69
        }
      ]
    },
    {
      "cell_type": "code",
      "source": [
        "R_MSFT= pd.DataFrame(MSFTR[[\"R\"]])\n",
        "hist=R_MSFT.plot.hist(bins=12,title=\"Histograma de retorno simple Bitcoin\")\n"
      ],
      "metadata": {
        "colab": {
          "base_uri": "https://localhost:8080/",
          "height": 452
        },
        "id": "SMY8-kTipQJM",
        "outputId": "48bd3d4c-26fb-4296-c0a5-baae0c031235"
      },
      "execution_count": 70,
      "outputs": [
        {
          "output_type": "display_data",
          "data": {
            "text/plain": [
              "<Figure size 640x480 with 1 Axes>"
            ],
            "image/png": "[encoded data removed]"
          },
          "metadata": {}
        }
      ]
    },
    {
      "cell_type": "code",
      "source": [
        "from matplotlib import pyplot\n",
        "pyplot.clf()\n",
        "rmean = MSFTR[\"r\"].mean()\n",
        "rsd = MSFTR[\"r\"].std()\n",
        "N = MSFTR[\"r\"].count()\n",
        "simr= np.random.normal(loc=rmean,scale=rsd, size=N)\n",
        "realr = MSFTR[\"r\"].to_numpy()\n",
        "\n",
        "bins = 12\n",
        "\n",
        "pyplot.hist(simr,bins,alpha=0.5,label='simulated rets')\n",
        "pyplot.hist(realr,bins,alpha=0.5,label='real rets')\n",
        "pyplot.legend(loc='upper left')\n",
        "pyplot.title(label='Histogram of real and simulated cc returns of Bitcoin')\n",
        "\n",
        "pyplot.show()"
      ],
      "metadata": {
        "colab": {
          "base_uri": "https://localhost:8080/",
          "height": 452
        },
        "id": "3Do_m727pa4A",
        "outputId": "0f710ff4-8e6f-4b28-e888-c565d66a3a61"
      },
      "execution_count": 71,
      "outputs": [
        {
          "output_type": "display_data",
          "data": {
            "text/plain": [
              "<Figure size 640x480 with 1 Axes>"
            ],
            "image/png": "[encoded data removed]"
          },
          "metadata": {}
        }
      ]
    }
  ]
}